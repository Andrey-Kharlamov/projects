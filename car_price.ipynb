{
  "cells": [
    {
      "cell_type": "markdown",
      "metadata": {
        "id": "O3LMPXXonvFN"
      },
      "source": [
        "# Определение стоимости автомобилей"
      ]
    },
    {
      "cell_type": "markdown",
      "metadata": {
        "id": "pUIqNm0qnvFQ"
      },
      "source": [
        "Сервис по продаже автомобилей с пробегом  разрабатывает приложение для привлечения новых клиентов. В нём можно быстро узнать рыночную стоимость своего автомобиля. В вашем распоряжении исторические данные: технические характеристики, комплектации и цены автомобилей. Требуется построить модель для определения стоимости. \n",
        "\n",
        "\n",
        "**Описание данных**\n",
        "* `DateCrawled` — дата скачивания анкеты из базы\n",
        "* `VehicleType` — тип автомобильного кузова\n",
        "* `RegistrationYear` — год регистрации автомобиля\n",
        "* `Gearbox` — тип коробки передач\n",
        "* `Power` — мощность (л. с.)\n",
        "* `Model` — модель автомобиля\n",
        "* `Kilometer` — пробег (км)\n",
        "* `RegistrationMonth` — месяц регистрации автомобиля\n",
        "* `FuelType` — тип топлива\n",
        "* `Brand` — марка автомобиля\n",
        "* `NotRepaired` — была машина в ремонте или нет\n",
        "* `DateCreated` — дата создания анкеты\n",
        "* `NumberOfPictures` — количество фотографий автомобиля\n",
        "* `PostalCode` — почтовый индекс владельца анкеты (пользователя)\n",
        "* `LastSeen` — дата последней активности пользователя\n",
        "\n",
        "*Целевой признак*\n",
        "\n",
        "* `Price` — цена (евро) "
      ]
    },
    {
      "cell_type": "markdown",
      "metadata": {
        "id": "YivEFJ8PnvFR"
      },
      "source": [
        "## Подготовка данных"
      ]
    },
    {
      "cell_type": "markdown",
      "metadata": {
        "id": "kCRggVTZnvFS"
      },
      "source": [
        "Загрузка библиотек, чтение данных из файла, получение основной информации о данных"
      ]
    },
    {
      "cell_type": "code",
      "execution_count": 2,
      "metadata": {
        "id": "3o-t3IabnvFS"
      },
      "outputs": [],
      "source": [
        "import pandas as pd\n",
        "import numpy as np\n",
        "import random\n",
        "import matplotlib.pyplot as plt\n",
        "%matplotlib inline\n",
        "import seaborn as sns\n",
        "plt.style.use('seaborn-whitegrid')\n",
        "pd.set_option('mode.chained_assignment', None)\n",
        "from tqdm import tqdm\n",
        "from scipy import stats as sts\n",
        "from scipy import special as spc\n",
        "\n",
        "from sklearn.preprocessing import StandardScaler, OneHotEncoder\n",
        "from sklearn.model_selection import train_test_split\n",
        "\n",
        "from sklearn.linear_model import Ridge, LinearRegression\n",
        "from sklearn.ensemble import RandomForestRegressor\n",
        "\n",
        "import time\n",
        "from sklearn.pipeline import make_pipeline\n",
        "from sklearn.compose import ColumnTransformer\n",
        "from sklearn import set_config\n",
        "from sklearn.impute import SimpleImputer\n",
        "set_config(display='diagram') \n",
        "\n",
        "from sklearn.metrics import mean_squared_error, make_scorer\n",
        "from sklearn.model_selection import RandomizedSearchCV\n",
        "\n",
        "\n",
        "import lightgbm as lgbm\n",
        "\n",
        "RANDOM_STATE = 26"
      ]
    },
    {
      "cell_type": "code",
      "execution_count": 3,
      "metadata": {
        "id": "3Oc8lbGBnvFT"
      },
      "outputs": [],
      "source": [
        "url = 'https://drive.google.com/uc?id=' + 'https://drive.google.com/file/d/1Ra-j_sPUqG65nFlqwC9utXzbGOGM3QzC/view?usp=sharing'.split('/')[-2]\n",
        "data = pd.read_csv(url)"
      ]
    },
    {
      "cell_type": "code",
      "execution_count": 4,
      "metadata": {
        "colab": {
          "base_uri": "https://localhost:8080/",
          "height": 206
        },
        "id": "HGHjJ_BznvFU",
        "outputId": "8de14d6a-3e06-4ed5-f2d3-b243a74600bf"
      },
      "outputs": [
        {
          "output_type": "execute_result",
          "data": {
            "text/plain": [
              "           DateCrawled  Price VehicleType  RegistrationYear Gearbox  Power  \\\n",
              "0  2016-03-24 11:52:17    480         NaN              1993  manual      0   \n",
              "1  2016-03-24 10:58:45  18300       coupe              2011  manual    190   \n",
              "2  2016-03-14 12:52:21   9800         suv              2004    auto    163   \n",
              "3  2016-03-17 16:54:04   1500       small              2001  manual     75   \n",
              "4  2016-03-31 17:25:20   3600       small              2008  manual     69   \n",
              "\n",
              "   Model  Kilometer  RegistrationMonth  FuelType       Brand NotRepaired  \\\n",
              "0   golf     150000                  0    petrol  volkswagen         NaN   \n",
              "1    NaN     125000                  5  gasoline        audi         yes   \n",
              "2  grand     125000                  8  gasoline        jeep         NaN   \n",
              "3   golf     150000                  6    petrol  volkswagen          no   \n",
              "4  fabia      90000                  7  gasoline       skoda          no   \n",
              "\n",
              "           DateCreated  NumberOfPictures  PostalCode             LastSeen  \n",
              "0  2016-03-24 00:00:00                 0       70435  2016-04-07 03:16:57  \n",
              "1  2016-03-24 00:00:00                 0       66954  2016-04-07 01:46:50  \n",
              "2  2016-03-14 00:00:00                 0       90480  2016-04-05 12:47:46  \n",
              "3  2016-03-17 00:00:00                 0       91074  2016-03-17 17:40:17  \n",
              "4  2016-03-31 00:00:00                 0       60437  2016-04-06 10:17:21  "
            ],
            "text/html": [
              "\n",
              "  <div id=\"df-275f3709-d18c-47a3-8fe4-d1c8897ca32e\">\n",
              "    <div class=\"colab-df-container\">\n",
              "      <div>\n",
              "<style scoped>\n",
              "    .dataframe tbody tr th:only-of-type {\n",
              "        vertical-align: middle;\n",
              "    }\n",
              "\n",
              "    .dataframe tbody tr th {\n",
              "        vertical-align: top;\n",
              "    }\n",
              "\n",
              "    .dataframe thead th {\n",
              "        text-align: right;\n",
              "    }\n",
              "</style>\n",
              "<table border=\"1\" class=\"dataframe\">\n",
              "  <thead>\n",
              "    <tr style=\"text-align: right;\">\n",
              "      <th></th>\n",
              "      <th>DateCrawled</th>\n",
              "      <th>Price</th>\n",
              "      <th>VehicleType</th>\n",
              "      <th>RegistrationYear</th>\n",
              "      <th>Gearbox</th>\n",
              "      <th>Power</th>\n",
              "      <th>Model</th>\n",
              "      <th>Kilometer</th>\n",
              "      <th>RegistrationMonth</th>\n",
              "      <th>FuelType</th>\n",
              "      <th>Brand</th>\n",
              "      <th>NotRepaired</th>\n",
              "      <th>DateCreated</th>\n",
              "      <th>NumberOfPictures</th>\n",
              "      <th>PostalCode</th>\n",
              "      <th>LastSeen</th>\n",
              "    </tr>\n",
              "  </thead>\n",
              "  <tbody>\n",
              "    <tr>\n",
              "      <th>0</th>\n",
              "      <td>2016-03-24 11:52:17</td>\n",
              "      <td>480</td>\n",
              "      <td>NaN</td>\n",
              "      <td>1993</td>\n",
              "      <td>manual</td>\n",
              "      <td>0</td>\n",
              "      <td>golf</td>\n",
              "      <td>150000</td>\n",
              "      <td>0</td>\n",
              "      <td>petrol</td>\n",
              "      <td>volkswagen</td>\n",
              "      <td>NaN</td>\n",
              "      <td>2016-03-24 00:00:00</td>\n",
              "      <td>0</td>\n",
              "      <td>70435</td>\n",
              "      <td>2016-04-07 03:16:57</td>\n",
              "    </tr>\n",
              "    <tr>\n",
              "      <th>1</th>\n",
              "      <td>2016-03-24 10:58:45</td>\n",
              "      <td>18300</td>\n",
              "      <td>coupe</td>\n",
              "      <td>2011</td>\n",
              "      <td>manual</td>\n",
              "      <td>190</td>\n",
              "      <td>NaN</td>\n",
              "      <td>125000</td>\n",
              "      <td>5</td>\n",
              "      <td>gasoline</td>\n",
              "      <td>audi</td>\n",
              "      <td>yes</td>\n",
              "      <td>2016-03-24 00:00:00</td>\n",
              "      <td>0</td>\n",
              "      <td>66954</td>\n",
              "      <td>2016-04-07 01:46:50</td>\n",
              "    </tr>\n",
              "    <tr>\n",
              "      <th>2</th>\n",
              "      <td>2016-03-14 12:52:21</td>\n",
              "      <td>9800</td>\n",
              "      <td>suv</td>\n",
              "      <td>2004</td>\n",
              "      <td>auto</td>\n",
              "      <td>163</td>\n",
              "      <td>grand</td>\n",
              "      <td>125000</td>\n",
              "      <td>8</td>\n",
              "      <td>gasoline</td>\n",
              "      <td>jeep</td>\n",
              "      <td>NaN</td>\n",
              "      <td>2016-03-14 00:00:00</td>\n",
              "      <td>0</td>\n",
              "      <td>90480</td>\n",
              "      <td>2016-04-05 12:47:46</td>\n",
              "    </tr>\n",
              "    <tr>\n",
              "      <th>3</th>\n",
              "      <td>2016-03-17 16:54:04</td>\n",
              "      <td>1500</td>\n",
              "      <td>small</td>\n",
              "      <td>2001</td>\n",
              "      <td>manual</td>\n",
              "      <td>75</td>\n",
              "      <td>golf</td>\n",
              "      <td>150000</td>\n",
              "      <td>6</td>\n",
              "      <td>petrol</td>\n",
              "      <td>volkswagen</td>\n",
              "      <td>no</td>\n",
              "      <td>2016-03-17 00:00:00</td>\n",
              "      <td>0</td>\n",
              "      <td>91074</td>\n",
              "      <td>2016-03-17 17:40:17</td>\n",
              "    </tr>\n",
              "    <tr>\n",
              "      <th>4</th>\n",
              "      <td>2016-03-31 17:25:20</td>\n",
              "      <td>3600</td>\n",
              "      <td>small</td>\n",
              "      <td>2008</td>\n",
              "      <td>manual</td>\n",
              "      <td>69</td>\n",
              "      <td>fabia</td>\n",
              "      <td>90000</td>\n",
              "      <td>7</td>\n",
              "      <td>gasoline</td>\n",
              "      <td>skoda</td>\n",
              "      <td>no</td>\n",
              "      <td>2016-03-31 00:00:00</td>\n",
              "      <td>0</td>\n",
              "      <td>60437</td>\n",
              "      <td>2016-04-06 10:17:21</td>\n",
              "    </tr>\n",
              "  </tbody>\n",
              "</table>\n",
              "</div>\n",
              "      <button class=\"colab-df-convert\" onclick=\"convertToInteractive('df-275f3709-d18c-47a3-8fe4-d1c8897ca32e')\"\n",
              "              title=\"Convert this dataframe to an interactive table.\"\n",
              "              style=\"display:none;\">\n",
              "        \n",
              "  <svg xmlns=\"http://www.w3.org/2000/svg\" height=\"24px\"viewBox=\"0 0 24 24\"\n",
              "       width=\"24px\">\n",
              "    <path d=\"M0 0h24v24H0V0z\" fill=\"none\"/>\n",
              "    <path d=\"M18.56 5.44l.94 2.06.94-2.06 2.06-.94-2.06-.94-.94-2.06-.94 2.06-2.06.94zm-11 1L8.5 8.5l.94-2.06 2.06-.94-2.06-.94L8.5 2.5l-.94 2.06-2.06.94zm10 10l.94 2.06.94-2.06 2.06-.94-2.06-.94-.94-2.06-.94 2.06-2.06.94z\"/><path d=\"M17.41 7.96l-1.37-1.37c-.4-.4-.92-.59-1.43-.59-.52 0-1.04.2-1.43.59L10.3 9.45l-7.72 7.72c-.78.78-.78 2.05 0 2.83L4 21.41c.39.39.9.59 1.41.59.51 0 1.02-.2 1.41-.59l7.78-7.78 2.81-2.81c.8-.78.8-2.07 0-2.86zM5.41 20L4 18.59l7.72-7.72 1.47 1.35L5.41 20z\"/>\n",
              "  </svg>\n",
              "      </button>\n",
              "      \n",
              "  <style>\n",
              "    .colab-df-container {\n",
              "      display:flex;\n",
              "      flex-wrap:wrap;\n",
              "      gap: 12px;\n",
              "    }\n",
              "\n",
              "    .colab-df-convert {\n",
              "      background-color: #E8F0FE;\n",
              "      border: none;\n",
              "      border-radius: 50%;\n",
              "      cursor: pointer;\n",
              "      display: none;\n",
              "      fill: #1967D2;\n",
              "      height: 32px;\n",
              "      padding: 0 0 0 0;\n",
              "      width: 32px;\n",
              "    }\n",
              "\n",
              "    .colab-df-convert:hover {\n",
              "      background-color: #E2EBFA;\n",
              "      box-shadow: 0px 1px 2px rgba(60, 64, 67, 0.3), 0px 1px 3px 1px rgba(60, 64, 67, 0.15);\n",
              "      fill: #174EA6;\n",
              "    }\n",
              "\n",
              "    [theme=dark] .colab-df-convert {\n",
              "      background-color: #3B4455;\n",
              "      fill: #D2E3FC;\n",
              "    }\n",
              "\n",
              "    [theme=dark] .colab-df-convert:hover {\n",
              "      background-color: #434B5C;\n",
              "      box-shadow: 0px 1px 3px 1px rgba(0, 0, 0, 0.15);\n",
              "      filter: drop-shadow(0px 1px 2px rgba(0, 0, 0, 0.3));\n",
              "      fill: #FFFFFF;\n",
              "    }\n",
              "  </style>\n",
              "\n",
              "      <script>\n",
              "        const buttonEl =\n",
              "          document.querySelector('#df-275f3709-d18c-47a3-8fe4-d1c8897ca32e button.colab-df-convert');\n",
              "        buttonEl.style.display =\n",
              "          google.colab.kernel.accessAllowed ? 'block' : 'none';\n",
              "\n",
              "        async function convertToInteractive(key) {\n",
              "          const element = document.querySelector('#df-275f3709-d18c-47a3-8fe4-d1c8897ca32e');\n",
              "          const dataTable =\n",
              "            await google.colab.kernel.invokeFunction('convertToInteractive',\n",
              "                                                     [key], {});\n",
              "          if (!dataTable) return;\n",
              "\n",
              "          const docLinkHtml = 'Like what you see? Visit the ' +\n",
              "            '<a target=\"_blank\" href=https://colab.research.google.com/notebooks/data_table.ipynb>data table notebook</a>'\n",
              "            + ' to learn more about interactive tables.';\n",
              "          element.innerHTML = '';\n",
              "          dataTable['output_type'] = 'display_data';\n",
              "          await google.colab.output.renderOutput(dataTable, element);\n",
              "          const docLink = document.createElement('div');\n",
              "          docLink.innerHTML = docLinkHtml;\n",
              "          element.appendChild(docLink);\n",
              "        }\n",
              "      </script>\n",
              "    </div>\n",
              "  </div>\n",
              "  "
            ]
          },
          "metadata": {},
          "execution_count": 4
        }
      ],
      "source": [
        "data.head()"
      ]
    },
    {
      "cell_type": "code",
      "execution_count": 5,
      "metadata": {
        "colab": {
          "base_uri": "https://localhost:8080/"
        },
        "id": "th2hRZDgnvFV",
        "outputId": "e30ee0cf-ae58-4679-e43c-39af241dc14f"
      },
      "outputs": [
        {
          "output_type": "stream",
          "name": "stdout",
          "text": [
            "<class 'pandas.core.frame.DataFrame'>\n",
            "RangeIndex: 354369 entries, 0 to 354368\n",
            "Data columns (total 16 columns):\n",
            " #   Column             Non-Null Count   Dtype \n",
            "---  ------             --------------   ----- \n",
            " 0   DateCrawled        354369 non-null  object\n",
            " 1   Price              354369 non-null  int64 \n",
            " 2   VehicleType        316879 non-null  object\n",
            " 3   RegistrationYear   354369 non-null  int64 \n",
            " 4   Gearbox            334536 non-null  object\n",
            " 5   Power              354369 non-null  int64 \n",
            " 6   Model              334664 non-null  object\n",
            " 7   Kilometer          354369 non-null  int64 \n",
            " 8   RegistrationMonth  354369 non-null  int64 \n",
            " 9   FuelType           321474 non-null  object\n",
            " 10  Brand              354369 non-null  object\n",
            " 11  NotRepaired        283215 non-null  object\n",
            " 12  DateCreated        354369 non-null  object\n",
            " 13  NumberOfPictures   354369 non-null  int64 \n",
            " 14  PostalCode         354369 non-null  int64 \n",
            " 15  LastSeen           354369 non-null  object\n",
            "dtypes: int64(7), object(9)\n",
            "memory usage: 43.3+ MB\n"
          ]
        }
      ],
      "source": [
        "data.info()"
      ]
    },
    {
      "cell_type": "code",
      "execution_count": 6,
      "metadata": {
        "id": "DZVIkUvinvFV"
      },
      "outputs": [],
      "source": [
        "num_columns = (data.\n",
        "               drop(['PostalCode', 'NumberOfPictures'], axis=1).\n",
        "               dtypes[data.dtypes !='object'].\n",
        "               index.\n",
        "               values)\n",
        "cat_columns = (data.\n",
        "               drop(['DateCrawled', 'DateCreated', 'LastSeen'], axis=1).\n",
        "               dtypes[data.dtypes =='object'].\n",
        "               index.\n",
        "               values)"
      ]
    },
    {
      "cell_type": "code",
      "execution_count": 7,
      "metadata": {
        "colab": {
          "base_uri": "https://localhost:8080/",
          "height": 300
        },
        "id": "za7NC-eh5APy",
        "outputId": "8fad3a1c-16e2-4299-e477-9afb39d7afcc"
      },
      "outputs": [
        {
          "output_type": "execute_result",
          "data": {
            "text/plain": [
              "               Price  RegistrationYear          Power      Kilometer  \\\n",
              "count  354369.000000     354369.000000  354369.000000  354369.000000   \n",
              "mean     4416.656776       2004.234448     110.094337  128211.172535   \n",
              "std      4514.158514         90.227958     189.850405   37905.341530   \n",
              "min         0.000000       1000.000000       0.000000    5000.000000   \n",
              "25%      1050.000000       1999.000000      69.000000  125000.000000   \n",
              "50%      2700.000000       2003.000000     105.000000  150000.000000   \n",
              "75%      6400.000000       2008.000000     143.000000  150000.000000   \n",
              "max     20000.000000       9999.000000   20000.000000  150000.000000   \n",
              "\n",
              "       RegistrationMonth  \n",
              "count      354369.000000  \n",
              "mean            5.714645  \n",
              "std             3.726421  \n",
              "min             0.000000  \n",
              "25%             3.000000  \n",
              "50%             6.000000  \n",
              "75%             9.000000  \n",
              "max            12.000000  "
            ],
            "text/html": [
              "\n",
              "  <div id=\"df-80ca33c6-55aa-47db-9d0a-4ed7bd160da6\">\n",
              "    <div class=\"colab-df-container\">\n",
              "      <div>\n",
              "<style scoped>\n",
              "    .dataframe tbody tr th:only-of-type {\n",
              "        vertical-align: middle;\n",
              "    }\n",
              "\n",
              "    .dataframe tbody tr th {\n",
              "        vertical-align: top;\n",
              "    }\n",
              "\n",
              "    .dataframe thead th {\n",
              "        text-align: right;\n",
              "    }\n",
              "</style>\n",
              "<table border=\"1\" class=\"dataframe\">\n",
              "  <thead>\n",
              "    <tr style=\"text-align: right;\">\n",
              "      <th></th>\n",
              "      <th>Price</th>\n",
              "      <th>RegistrationYear</th>\n",
              "      <th>Power</th>\n",
              "      <th>Kilometer</th>\n",
              "      <th>RegistrationMonth</th>\n",
              "    </tr>\n",
              "  </thead>\n",
              "  <tbody>\n",
              "    <tr>\n",
              "      <th>count</th>\n",
              "      <td>354369.000000</td>\n",
              "      <td>354369.000000</td>\n",
              "      <td>354369.000000</td>\n",
              "      <td>354369.000000</td>\n",
              "      <td>354369.000000</td>\n",
              "    </tr>\n",
              "    <tr>\n",
              "      <th>mean</th>\n",
              "      <td>4416.656776</td>\n",
              "      <td>2004.234448</td>\n",
              "      <td>110.094337</td>\n",
              "      <td>128211.172535</td>\n",
              "      <td>5.714645</td>\n",
              "    </tr>\n",
              "    <tr>\n",
              "      <th>std</th>\n",
              "      <td>4514.158514</td>\n",
              "      <td>90.227958</td>\n",
              "      <td>189.850405</td>\n",
              "      <td>37905.341530</td>\n",
              "      <td>3.726421</td>\n",
              "    </tr>\n",
              "    <tr>\n",
              "      <th>min</th>\n",
              "      <td>0.000000</td>\n",
              "      <td>1000.000000</td>\n",
              "      <td>0.000000</td>\n",
              "      <td>5000.000000</td>\n",
              "      <td>0.000000</td>\n",
              "    </tr>\n",
              "    <tr>\n",
              "      <th>25%</th>\n",
              "      <td>1050.000000</td>\n",
              "      <td>1999.000000</td>\n",
              "      <td>69.000000</td>\n",
              "      <td>125000.000000</td>\n",
              "      <td>3.000000</td>\n",
              "    </tr>\n",
              "    <tr>\n",
              "      <th>50%</th>\n",
              "      <td>2700.000000</td>\n",
              "      <td>2003.000000</td>\n",
              "      <td>105.000000</td>\n",
              "      <td>150000.000000</td>\n",
              "      <td>6.000000</td>\n",
              "    </tr>\n",
              "    <tr>\n",
              "      <th>75%</th>\n",
              "      <td>6400.000000</td>\n",
              "      <td>2008.000000</td>\n",
              "      <td>143.000000</td>\n",
              "      <td>150000.000000</td>\n",
              "      <td>9.000000</td>\n",
              "    </tr>\n",
              "    <tr>\n",
              "      <th>max</th>\n",
              "      <td>20000.000000</td>\n",
              "      <td>9999.000000</td>\n",
              "      <td>20000.000000</td>\n",
              "      <td>150000.000000</td>\n",
              "      <td>12.000000</td>\n",
              "    </tr>\n",
              "  </tbody>\n",
              "</table>\n",
              "</div>\n",
              "      <button class=\"colab-df-convert\" onclick=\"convertToInteractive('df-80ca33c6-55aa-47db-9d0a-4ed7bd160da6')\"\n",
              "              title=\"Convert this dataframe to an interactive table.\"\n",
              "              style=\"display:none;\">\n",
              "        \n",
              "  <svg xmlns=\"http://www.w3.org/2000/svg\" height=\"24px\"viewBox=\"0 0 24 24\"\n",
              "       width=\"24px\">\n",
              "    <path d=\"M0 0h24v24H0V0z\" fill=\"none\"/>\n",
              "    <path d=\"M18.56 5.44l.94 2.06.94-2.06 2.06-.94-2.06-.94-.94-2.06-.94 2.06-2.06.94zm-11 1L8.5 8.5l.94-2.06 2.06-.94-2.06-.94L8.5 2.5l-.94 2.06-2.06.94zm10 10l.94 2.06.94-2.06 2.06-.94-2.06-.94-.94-2.06-.94 2.06-2.06.94z\"/><path d=\"M17.41 7.96l-1.37-1.37c-.4-.4-.92-.59-1.43-.59-.52 0-1.04.2-1.43.59L10.3 9.45l-7.72 7.72c-.78.78-.78 2.05 0 2.83L4 21.41c.39.39.9.59 1.41.59.51 0 1.02-.2 1.41-.59l7.78-7.78 2.81-2.81c.8-.78.8-2.07 0-2.86zM5.41 20L4 18.59l7.72-7.72 1.47 1.35L5.41 20z\"/>\n",
              "  </svg>\n",
              "      </button>\n",
              "      \n",
              "  <style>\n",
              "    .colab-df-container {\n",
              "      display:flex;\n",
              "      flex-wrap:wrap;\n",
              "      gap: 12px;\n",
              "    }\n",
              "\n",
              "    .colab-df-convert {\n",
              "      background-color: #E8F0FE;\n",
              "      border: none;\n",
              "      border-radius: 50%;\n",
              "      cursor: pointer;\n",
              "      display: none;\n",
              "      fill: #1967D2;\n",
              "      height: 32px;\n",
              "      padding: 0 0 0 0;\n",
              "      width: 32px;\n",
              "    }\n",
              "\n",
              "    .colab-df-convert:hover {\n",
              "      background-color: #E2EBFA;\n",
              "      box-shadow: 0px 1px 2px rgba(60, 64, 67, 0.3), 0px 1px 3px 1px rgba(60, 64, 67, 0.15);\n",
              "      fill: #174EA6;\n",
              "    }\n",
              "\n",
              "    [theme=dark] .colab-df-convert {\n",
              "      background-color: #3B4455;\n",
              "      fill: #D2E3FC;\n",
              "    }\n",
              "\n",
              "    [theme=dark] .colab-df-convert:hover {\n",
              "      background-color: #434B5C;\n",
              "      box-shadow: 0px 1px 3px 1px rgba(0, 0, 0, 0.15);\n",
              "      filter: drop-shadow(0px 1px 2px rgba(0, 0, 0, 0.3));\n",
              "      fill: #FFFFFF;\n",
              "    }\n",
              "  </style>\n",
              "\n",
              "      <script>\n",
              "        const buttonEl =\n",
              "          document.querySelector('#df-80ca33c6-55aa-47db-9d0a-4ed7bd160da6 button.colab-df-convert');\n",
              "        buttonEl.style.display =\n",
              "          google.colab.kernel.accessAllowed ? 'block' : 'none';\n",
              "\n",
              "        async function convertToInteractive(key) {\n",
              "          const element = document.querySelector('#df-80ca33c6-55aa-47db-9d0a-4ed7bd160da6');\n",
              "          const dataTable =\n",
              "            await google.colab.kernel.invokeFunction('convertToInteractive',\n",
              "                                                     [key], {});\n",
              "          if (!dataTable) return;\n",
              "\n",
              "          const docLinkHtml = 'Like what you see? Visit the ' +\n",
              "            '<a target=\"_blank\" href=https://colab.research.google.com/notebooks/data_table.ipynb>data table notebook</a>'\n",
              "            + ' to learn more about interactive tables.';\n",
              "          element.innerHTML = '';\n",
              "          dataTable['output_type'] = 'display_data';\n",
              "          await google.colab.output.renderOutput(dataTable, element);\n",
              "          const docLink = document.createElement('div');\n",
              "          docLink.innerHTML = docLinkHtml;\n",
              "          element.appendChild(docLink);\n",
              "        }\n",
              "      </script>\n",
              "    </div>\n",
              "  </div>\n",
              "  "
            ]
          },
          "metadata": {},
          "execution_count": 7
        }
      ],
      "source": [
        "data[num_columns].describe()"
      ]
    },
    {
      "cell_type": "code",
      "execution_count": 8,
      "metadata": {
        "colab": {
          "base_uri": "https://localhost:8080/",
          "height": 175
        },
        "id": "b-6ub2s45EzH",
        "outputId": "0856ae50-1d77-447e-8d83-dcf9512505ff"
      },
      "outputs": [
        {
          "output_type": "execute_result",
          "data": {
            "text/plain": [
              "       VehicleType Gearbox   Model FuelType       Brand NotRepaired\n",
              "count       316879  334536  334664   321474      354369      283215\n",
              "unique           8       2     250        7          40           2\n",
              "top          sedan  manual    golf   petrol  volkswagen          no\n",
              "freq         91457  268251   29232   216352       77013      247161"
            ],
            "text/html": [
              "\n",
              "  <div id=\"df-5a6a3017-8d7f-4287-a16e-99380be73b10\">\n",
              "    <div class=\"colab-df-container\">\n",
              "      <div>\n",
              "<style scoped>\n",
              "    .dataframe tbody tr th:only-of-type {\n",
              "        vertical-align: middle;\n",
              "    }\n",
              "\n",
              "    .dataframe tbody tr th {\n",
              "        vertical-align: top;\n",
              "    }\n",
              "\n",
              "    .dataframe thead th {\n",
              "        text-align: right;\n",
              "    }\n",
              "</style>\n",
              "<table border=\"1\" class=\"dataframe\">\n",
              "  <thead>\n",
              "    <tr style=\"text-align: right;\">\n",
              "      <th></th>\n",
              "      <th>VehicleType</th>\n",
              "      <th>Gearbox</th>\n",
              "      <th>Model</th>\n",
              "      <th>FuelType</th>\n",
              "      <th>Brand</th>\n",
              "      <th>NotRepaired</th>\n",
              "    </tr>\n",
              "  </thead>\n",
              "  <tbody>\n",
              "    <tr>\n",
              "      <th>count</th>\n",
              "      <td>316879</td>\n",
              "      <td>334536</td>\n",
              "      <td>334664</td>\n",
              "      <td>321474</td>\n",
              "      <td>354369</td>\n",
              "      <td>283215</td>\n",
              "    </tr>\n",
              "    <tr>\n",
              "      <th>unique</th>\n",
              "      <td>8</td>\n",
              "      <td>2</td>\n",
              "      <td>250</td>\n",
              "      <td>7</td>\n",
              "      <td>40</td>\n",
              "      <td>2</td>\n",
              "    </tr>\n",
              "    <tr>\n",
              "      <th>top</th>\n",
              "      <td>sedan</td>\n",
              "      <td>manual</td>\n",
              "      <td>golf</td>\n",
              "      <td>petrol</td>\n",
              "      <td>volkswagen</td>\n",
              "      <td>no</td>\n",
              "    </tr>\n",
              "    <tr>\n",
              "      <th>freq</th>\n",
              "      <td>91457</td>\n",
              "      <td>268251</td>\n",
              "      <td>29232</td>\n",
              "      <td>216352</td>\n",
              "      <td>77013</td>\n",
              "      <td>247161</td>\n",
              "    </tr>\n",
              "  </tbody>\n",
              "</table>\n",
              "</div>\n",
              "      <button class=\"colab-df-convert\" onclick=\"convertToInteractive('df-5a6a3017-8d7f-4287-a16e-99380be73b10')\"\n",
              "              title=\"Convert this dataframe to an interactive table.\"\n",
              "              style=\"display:none;\">\n",
              "        \n",
              "  <svg xmlns=\"http://www.w3.org/2000/svg\" height=\"24px\"viewBox=\"0 0 24 24\"\n",
              "       width=\"24px\">\n",
              "    <path d=\"M0 0h24v24H0V0z\" fill=\"none\"/>\n",
              "    <path d=\"M18.56 5.44l.94 2.06.94-2.06 2.06-.94-2.06-.94-.94-2.06-.94 2.06-2.06.94zm-11 1L8.5 8.5l.94-2.06 2.06-.94-2.06-.94L8.5 2.5l-.94 2.06-2.06.94zm10 10l.94 2.06.94-2.06 2.06-.94-2.06-.94-.94-2.06-.94 2.06-2.06.94z\"/><path d=\"M17.41 7.96l-1.37-1.37c-.4-.4-.92-.59-1.43-.59-.52 0-1.04.2-1.43.59L10.3 9.45l-7.72 7.72c-.78.78-.78 2.05 0 2.83L4 21.41c.39.39.9.59 1.41.59.51 0 1.02-.2 1.41-.59l7.78-7.78 2.81-2.81c.8-.78.8-2.07 0-2.86zM5.41 20L4 18.59l7.72-7.72 1.47 1.35L5.41 20z\"/>\n",
              "  </svg>\n",
              "      </button>\n",
              "      \n",
              "  <style>\n",
              "    .colab-df-container {\n",
              "      display:flex;\n",
              "      flex-wrap:wrap;\n",
              "      gap: 12px;\n",
              "    }\n",
              "\n",
              "    .colab-df-convert {\n",
              "      background-color: #E8F0FE;\n",
              "      border: none;\n",
              "      border-radius: 50%;\n",
              "      cursor: pointer;\n",
              "      display: none;\n",
              "      fill: #1967D2;\n",
              "      height: 32px;\n",
              "      padding: 0 0 0 0;\n",
              "      width: 32px;\n",
              "    }\n",
              "\n",
              "    .colab-df-convert:hover {\n",
              "      background-color: #E2EBFA;\n",
              "      box-shadow: 0px 1px 2px rgba(60, 64, 67, 0.3), 0px 1px 3px 1px rgba(60, 64, 67, 0.15);\n",
              "      fill: #174EA6;\n",
              "    }\n",
              "\n",
              "    [theme=dark] .colab-df-convert {\n",
              "      background-color: #3B4455;\n",
              "      fill: #D2E3FC;\n",
              "    }\n",
              "\n",
              "    [theme=dark] .colab-df-convert:hover {\n",
              "      background-color: #434B5C;\n",
              "      box-shadow: 0px 1px 3px 1px rgba(0, 0, 0, 0.15);\n",
              "      filter: drop-shadow(0px 1px 2px rgba(0, 0, 0, 0.3));\n",
              "      fill: #FFFFFF;\n",
              "    }\n",
              "  </style>\n",
              "\n",
              "      <script>\n",
              "        const buttonEl =\n",
              "          document.querySelector('#df-5a6a3017-8d7f-4287-a16e-99380be73b10 button.colab-df-convert');\n",
              "        buttonEl.style.display =\n",
              "          google.colab.kernel.accessAllowed ? 'block' : 'none';\n",
              "\n",
              "        async function convertToInteractive(key) {\n",
              "          const element = document.querySelector('#df-5a6a3017-8d7f-4287-a16e-99380be73b10');\n",
              "          const dataTable =\n",
              "            await google.colab.kernel.invokeFunction('convertToInteractive',\n",
              "                                                     [key], {});\n",
              "          if (!dataTable) return;\n",
              "\n",
              "          const docLinkHtml = 'Like what you see? Visit the ' +\n",
              "            '<a target=\"_blank\" href=https://colab.research.google.com/notebooks/data_table.ipynb>data table notebook</a>'\n",
              "            + ' to learn more about interactive tables.';\n",
              "          element.innerHTML = '';\n",
              "          dataTable['output_type'] = 'display_data';\n",
              "          await google.colab.output.renderOutput(dataTable, element);\n",
              "          const docLink = document.createElement('div');\n",
              "          docLink.innerHTML = docLinkHtml;\n",
              "          element.appendChild(docLink);\n",
              "        }\n",
              "      </script>\n",
              "    </div>\n",
              "  </div>\n",
              "  "
            ]
          },
          "metadata": {},
          "execution_count": 8
        }
      ],
      "source": [
        "data[cat_columns].describe()"
      ]
    },
    {
      "cell_type": "code",
      "execution_count": 9,
      "metadata": {
        "colab": {
          "base_uri": "https://localhost:8080/"
        },
        "id": "CkwuuifyB87J",
        "outputId": "84f5359c-866b-4e4f-a55d-d541634a3e85"
      },
      "outputs": [
        {
          "output_type": "execute_result",
          "data": {
            "text/plain": [
              "array([268251,  66285])"
            ]
          },
          "metadata": {},
          "execution_count": 9
        }
      ],
      "source": [
        "data.Gearbox.value_counts().values"
      ]
    },
    {
      "cell_type": "code",
      "execution_count": 10,
      "metadata": {
        "colab": {
          "base_uri": "https://localhost:8080/",
          "height": 619
        },
        "id": "ZU8IgGCPrNbd",
        "outputId": "82889a33-3e95-4c5d-d9ec-43aee61c02d1"
      },
      "outputs": [
        {
          "output_type": "display_data",
          "data": {
            "text/plain": [
              "<Figure size 1152x576 with 5 Axes>"
            ],
            "image/png": "[encoded data removed]"
          },
          "metadata": {}
        }
      ],
      "source": [
        "fig, ax = plt.subplots(2, 3, figsize=(16,8))\n",
        "fig.suptitle('Гистограммы числовых признаков', y=1.04, fontsize=18)\n",
        "ax = ax.ravel()\n",
        "\n",
        "for i in range(len(num_columns)):\n",
        "  sns.histplot(data=data, x=data[num_columns[i]], ax=ax[i], bins=30)\n",
        "  ax[i].set_title(f'Для признака: {num_columns[i]}')\n",
        "  \n",
        "\n",
        "fig.delaxes(ax[5])\n",
        "fig.tight_layout()\n",
        "fig.show()"
      ]
    },
    {
      "cell_type": "markdown",
      "metadata": {
        "id": "5boiqj3y1JEr"
      },
      "source": [
        "По гистограммам видно, что имеются аномальные значения для признаков: *Price*, *RegistrationYear*, *Power*."
      ]
    },
    {
      "cell_type": "markdown",
      "metadata": {
        "id": "bu0ktGyEnvFW"
      },
      "source": [
        "Посмотрим на целевую переменную поближе."
      ]
    },
    {
      "cell_type": "code",
      "execution_count": 11,
      "metadata": {
        "colab": {
          "base_uri": "https://localhost:8080/",
          "height": 345
        },
        "id": "QSBhCuaBeHJo",
        "outputId": "e8b4097a-9806-48ce-e11c-371cea054bef"
      },
      "outputs": [
        {
          "output_type": "display_data",
          "data": {
            "text/plain": [
              "<Figure size 1440x360 with 1 Axes>"
            ],
            "image/png": "[encoded data removed]"
          },
          "metadata": {}
        }
      ],
      "source": [
        "plt.figure(figsize=(20,5))\n",
        "sns.histplot(data[data['Price'] <= 1000]['Price'], bins=30)\n",
        "plt.title('Гистограмма \"Price\" в диапазоне до 2500 евро')\n",
        "plt.show()"
      ]
    },
    {
      "cell_type": "code",
      "execution_count": 12,
      "metadata": {
        "colab": {
          "base_uri": "https://localhost:8080/",
          "height": 346
        },
        "id": "CDveq8YK0Zq2",
        "outputId": "27d75141-1449-4a03-bcac-1499c88a85b7"
      },
      "outputs": [
        {
          "output_type": "display_data",
          "data": {
            "text/plain": [
              "<Figure size 720x360 with 1 Axes>"
            ],
            "image/png": "[encoded data removed]"
          },
          "metadata": {}
        }
      ],
      "source": [
        "plt.figure(figsize=(10,5))\n",
        "sns.boxplot(x=data['Price'])\n",
        "plt.title('График разброса признака \"Price\"')\n",
        "plt.show()"
      ]
    },
    {
      "cell_type": "markdown",
      "metadata": {
        "id": "t7XIV7CdjSaO"
      },
      "source": [
        "Высокие значения цены могут быть у люксовых автомобилей, а вот околонулевые значения не нужны. Удалю из выборки объявления, где цена ниже 200 евро."
      ]
    },
    {
      "cell_type": "code",
      "execution_count": 13,
      "metadata": {
        "id": "xfXRze3NnvFX"
      },
      "outputs": [],
      "source": [
        "data = data[data['Price'] >= 200]"
      ]
    },
    {
      "cell_type": "markdown",
      "metadata": {
        "id": "WSNptZnInvFX"
      },
      "source": [
        "Поиск и удаление дубликатов"
      ]
    },
    {
      "cell_type": "code",
      "execution_count": 14,
      "metadata": {
        "colab": {
          "base_uri": "https://localhost:8080/"
        },
        "id": "I7YPYrTVnvFX",
        "outputId": "a9dbb00a-9999-4d4c-fa78-96a0b1a06f8d"
      },
      "outputs": [
        {
          "output_type": "stream",
          "name": "stdout",
          "text": [
            "Количество дубликатов в данных: 4\n"
          ]
        }
      ],
      "source": [
        "print('Количество дубликатов в данных:', data.duplicated().sum())"
      ]
    },
    {
      "cell_type": "markdown",
      "metadata": {
        "id": "jrTfn4yznvFY"
      },
      "source": [
        "Однако, одно и то же объявление могло быть загружено в разное время. А также такие столбцы, как: *Дата скачивания анкеты из базы*, *Дата создания анкеты* и *Дата последней активности пользователя* не относятся к характеристикам автомобиля, поэтому надо посчитать количество дублкатов без этих колонок."
      ]
    },
    {
      "cell_type": "code",
      "execution_count": 15,
      "metadata": {
        "colab": {
          "base_uri": "https://localhost:8080/"
        },
        "id": "aWLx57F6nvFY",
        "outputId": "fdf4031c-a387-46a2-d1e1-fc27f31209c9"
      },
      "outputs": [
        {
          "output_type": "stream",
          "name": "stdout",
          "text": [
            "количество дубликатов в данных без столбцов \"DateCrawled\", \"DateCreated\", \"LastSeen\": 20372\n"
          ]
        }
      ],
      "source": [
        "print('количество дубликатов в данных без столбцов \"DateCrawled\", \"DateCreated\", \"LastSeen\":', data.drop(['DateCrawled', 'DateCreated', 'LastSeen'], axis=1).duplicated().sum())"
      ]
    },
    {
      "cell_type": "code",
      "execution_count": 16,
      "metadata": {
        "id": "qDCQhF9-AtJQ"
      },
      "outputs": [],
      "source": [
        "df = data[['DateCrawled', 'DateCreated', 'LastSeen']]\n",
        "data = (data[data.\n",
        "         columns.\n",
        "         difference(['DateCrawled', 'DateCreated', 'LastSeen'])].\n",
        "      drop_duplicates().\n",
        "      join(df))"
      ]
    },
    {
      "cell_type": "markdown",
      "metadata": {
        "id": "5Dj3REE8nvFZ"
      },
      "source": [
        "В признаке *Год регистрации автомобиля* много аномальных значений."
      ]
    },
    {
      "cell_type": "code",
      "execution_count": 17,
      "metadata": {
        "colab": {
          "base_uri": "https://localhost:8080/",
          "height": 347
        },
        "id": "-Y09Yz-InvFZ",
        "outputId": "0558247b-63fa-4e47-8f88-09db505d121e"
      },
      "outputs": [
        {
          "output_type": "display_data",
          "data": {
            "text/plain": [
              "<Figure size 1008x360 with 1 Axes>"
            ],
            "image/png": "[encoded data removed]"
          },
          "metadata": {}
        }
      ],
      "source": [
        "plt.figure(figsize=(14,5))\n",
        "sns.boxplot(data=data, x='RegistrationYear')\n",
        "plt.title('График разброса для года регистрации автомобиля')\n",
        "plt.xlabel('Год регистрации автомобиля')\n",
        "plt.show()"
      ]
    },
    {
      "cell_type": "markdown",
      "metadata": {
        "id": "6YHYxVF0nvFa"
      },
      "source": [
        "Очень много артефактов, как будто автомобили были зарегистрирвоаны еще до их изобретения и после создания анкеты. Такие данные надо удалить.\n",
        "\n",
        "Для начала уберу аномальные данные. Чтобы выбрать, с какого значения величины *Год регистрации автомобиля* отсекать данные, построю гистограмму частот."
      ]
    },
    {
      "cell_type": "code",
      "execution_count": 18,
      "metadata": {
        "colab": {
          "base_uri": "https://localhost:8080/",
          "height": 507
        },
        "id": "RB7ENvzOnvFa",
        "outputId": "ec368f4e-b243-438e-c0a6-5e5bd346471b"
      },
      "outputs": [
        {
          "output_type": "display_data",
          "data": {
            "text/plain": [
              "<Figure size 1008x432 with 3 Axes>"
            ],
            "image/png": "[encoded data removed]"
          },
          "metadata": {}
        }
      ],
      "source": [
        "fig = plt.figure(figsize=(14,6))\n",
        "axes1 = fig.add_axes([0,0,1,1])\n",
        "axes1.hist(data.query('1920 <= RegistrationYear < 2030')['RegistrationYear'], bins=30)\n",
        "axes1.set_title('Гистограмма для значения \"Год регистрации автомобиля\" с 1920 по 2030 года')\n",
        "axes1.set_xlabel('Год регистрации автомобиля')\n",
        "axes1.set_ylabel('Частота появления значения')\n",
        "\n",
        "axes2 = fig.add_axes([0.05,0.6,0.4,0.3])\n",
        "axes2.hist(data.query('1950 <= RegistrationYear <=1970')['RegistrationYear'],bins=10)\n",
        "axes2.set_title('Гистограмма для значения \"Год регистрации автомобиля\" с 1950 по 1970 года')\n",
        "axes2.set_xlabel('Год регистрации автомобиля')\n",
        "axes2.set_ylabel('Частота появления значения')\n",
        "\n",
        "axes3 = fig.add_axes([0.05,0.1,0.4,0.3])\n",
        "axes3.hist(data.query('2015 <= RegistrationYear <= 2025')['RegistrationYear'],bins=10)\n",
        "axes3.set_title('Гистограмма для значения \"Год регистрации автомобиля\" с 2015 по 2025 года')\n",
        "axes3.set_xlabel('Год регистрации автомобиля')\n",
        "axes3.set_ylabel('Частота появления значения')\n",
        "plt.show()"
      ]
    },
    {
      "cell_type": "markdown",
      "metadata": {
        "id": "81nE5b9UnvFb"
      },
      "source": [
        "Как видно из графика, все значения сосредоточены в интервале с 1990 по 2018, однако присутсвуют и более старые правдоподобные значения. Например, в период с 1950 по 1960 - 295 объявлений. \n",
        "\n",
        "Оставлю только объявления с 1950 года, так как более ранние автомобили скорее продаются через специализированные сайты среди ценителей ретро."
      ]
    },
    {
      "cell_type": "code",
      "execution_count": 19,
      "metadata": {
        "id": "epoe_gZKnvFb"
      },
      "outputs": [],
      "source": [
        "data = data[data['RegistrationYear'] >= 1950]\n",
        "data = data[data['RegistrationYear'] <= 2018]"
      ]
    },
    {
      "cell_type": "markdown",
      "metadata": {
        "id": "07cGubD6nvFc"
      },
      "source": [
        "В столбце *месяц регистрации автомобиля* значений больше, чем месяцев в году. Возможно это связано с ошибками при переносе базы или с неправильным заролнением анкеты пользователем. Чтобы убрать нулевые значения, вместо них подставлю значения, случайным образом сгенерированные из равномерного распределения в интервале от 1 до 12."
      ]
    },
    {
      "cell_type": "code",
      "execution_count": 20,
      "metadata": {
        "colab": {
          "base_uri": "https://localhost:8080/"
        },
        "id": "Gp3L_3wQnvFc",
        "outputId": "6c5e606e-bff6-4a69-dd06-06d0e4dc2d50"
      },
      "outputs": [
        {
          "output_type": "execute_result",
          "data": {
            "text/plain": [
              "3     31248\n",
              "0     28833\n",
              "6     28591\n",
              "4     26737\n",
              "5     26420\n",
              "7     24818\n",
              "10    23611\n",
              "11    21977\n",
              "12    21929\n",
              "9     21588\n",
              "1     20864\n",
              "8     20485\n",
              "2     19226\n",
              "Name: RegistrationMonth, dtype: int64"
            ]
          },
          "metadata": {},
          "execution_count": 20
        }
      ],
      "source": [
        "data['RegistrationMonth'].value_counts()"
      ]
    },
    {
      "cell_type": "code",
      "execution_count": 21,
      "metadata": {
        "id": "brI8k9cbnvFc"
      },
      "outputs": [],
      "source": [
        "random.seed(12)\n",
        "data.loc[data['RegistrationMonth'] == 0, 'RegistrationMonth'] = ([random.randint(1, 12) for i in range(len(data[data['RegistrationMonth']==0]['RegistrationMonth']))])"
      ]
    },
    {
      "cell_type": "markdown",
      "metadata": {
        "id": "x_ogzIMVnvFc"
      },
      "source": [
        "Так как значения *год регистрации автомобиля* принимают максимальное значение - 2018, то для создания признака *возраст автомобиля* буду отсчитывать от декабря 2018."
      ]
    },
    {
      "cell_type": "code",
      "execution_count": 23,
      "metadata": {
        "id": "FDxONgQunvFd"
      },
      "outputs": [],
      "source": [
        "data['age_years'] = 2018 - data['RegistrationYear']\n",
        "num_columns = np.append(num_columns, 'age_years')"
      ]
    },
    {
      "cell_type": "markdown",
      "metadata": {
        "id": "lp4h2j6InvFd"
      },
      "source": [
        "Признак *Power*. \n",
        "\n",
        "У данного признака есть как аномально низкие (нулевые), так и аномально высокие значения. Аномально высокие значения искажают статистические величины (среднее, дисперсию). Надо выбрать крайнее значение *Power*. Для этого нарисую гистограммы для *Power*, для значений в интервале от 200 (это довольно высокое и правдоподобное значение) и до 900 (вероятность, что такай автомобиль будут продавать в \"Не бит, не крашен* очень мала)."
      ]
    },
    {
      "cell_type": "code",
      "execution_count": 24,
      "metadata": {
        "colab": {
          "base_uri": "https://localhost:8080/",
          "height": 346
        },
        "id": "8OvuN9AznvFd",
        "outputId": "1ee4437b-a6bf-411e-d3af-21dbec714391"
      },
      "outputs": [
        {
          "output_type": "display_data",
          "data": {
            "text/plain": [
              "<Figure size 1008x360 with 1 Axes>"
            ],
            "image/png": "[encoded data removed]"
          },
          "metadata": {}
        }
      ],
      "source": [
        "plt.figure(figsize=(14, 5))\n",
        "data[(data['Power'] > 200) & (data['Power'] < 900)]['Power'].hist(bins=30)\n",
        "plt.title('Гистограмма значений мощности двигателя в интервале от 200 до 900')\n",
        "plt.xlabel('Мощность двигателя, л.с')\n",
        "plt.ylabel('Частота появления значения')\n",
        "plt.show()"
      ]
    },
    {
      "cell_type": "markdown",
      "metadata": {
        "id": "GEwEBan1nvFe"
      },
      "source": [
        "После 400 еще случаются единичные случаи, поэтому ограничу значением 500."
      ]
    },
    {
      "cell_type": "code",
      "execution_count": 25,
      "metadata": {
        "id": "c5JO_wzhnvFe"
      },
      "outputs": [],
      "source": [
        "data = data[data['Power'] < 500]"
      ]
    },
    {
      "cell_type": "code",
      "execution_count": 26,
      "metadata": {
        "colab": {
          "base_uri": "https://localhost:8080/"
        },
        "id": "RCyicIbCnvFf",
        "outputId": "fa5799e1-071b-4dc2-f683-17adaa60b91f"
      },
      "outputs": [
        {
          "output_type": "stream",
          "name": "stdout",
          "text": [
            "Количество нулевых значений признака Power: 32214\n"
          ]
        }
      ],
      "source": [
        "print('Количество нулевых значений признака Power:', data[data['Power'] == 0]['Power'].count())"
      ]
    },
    {
      "cell_type": "markdown",
      "metadata": {
        "id": "f4j4IjYznvFf"
      },
      "source": [
        "Нулевых же значений довольно много и избавление от них значительно уменьшит выборку, но и нулевые значения могут ухудшить работу модели. Так как это явно ошибочные данные, то их придется заменить. Заменю их средним значением по сгруппированным данным по признакам *Brand* и *Model*. "
      ]
    },
    {
      "cell_type": "code",
      "execution_count": 27,
      "metadata": {
        "id": "EJIEzDDpXkCt"
      },
      "outputs": [],
      "source": [
        "data.loc[data['Power'] == 0, 'Power'] =  (data.groupby(['Brand', 'Model'])['Power'].\n",
        "                                      transform('mean').\n",
        "                                      drop(data[data['Power']==0].index))"
      ]
    },
    {
      "cell_type": "code",
      "execution_count": 28,
      "metadata": {
        "id": "eHtRVvtjAfiR"
      },
      "outputs": [],
      "source": [
        "data.loc[data['Power'].isna(), 'Power'] =  (data.groupby(['Brand'])['Power'].\n",
        "                                            transform('mean')\n",
        "                                            )"
      ]
    },
    {
      "cell_type": "markdown",
      "metadata": {
        "id": "fU1B4Lku0M7_"
      },
      "source": [
        "Посмотрю, как признаки коррелированы между собой."
      ]
    },
    {
      "cell_type": "code",
      "execution_count": 29,
      "metadata": {
        "colab": {
          "base_uri": "https://localhost:8080/",
          "height": 350
        },
        "id": "gkRF24-bgv6s",
        "outputId": "dc963a90-8f48-4fee-90cf-4b12ee46d2cf"
      },
      "outputs": [
        {
          "output_type": "display_data",
          "data": {
            "text/plain": [
              "<Figure size 432x288 with 2 Axes>"
            ],
            "image/png": "[encoded data removed]"
          },
          "metadata": {}
        }
      ],
      "source": [
        "sns.heatmap(data[num_columns].corr(), cmap='RdYlGn', annot=True)\n",
        "plt.title('Корреляция числовых признаков', fontsize=14)\n",
        "\n",
        "plt.show()"
      ]
    },
    {
      "cell_type": "markdown",
      "metadata": {
        "id": "80LbetCc0Ulw"
      },
      "source": [
        "Линейной зависимости между признаками нет. Наибольшую линейную зависимсоть с целевой переменной имеют признаки мощности и пробега. "
      ]
    },
    {
      "cell_type": "markdown",
      "metadata": {
        "id": "GC86H3XQnvFg"
      },
      "source": [
        "Категориальные признаки *'VehicleType', 'Gearbox', 'Model', 'FuelType', 'NotRepaired'* имеют пропущенные значения, но восстановление их значений по другим данным может привести к большим погрешностям в работе моделей, поэтому заполню значением *unknown*.\n",
        "\n",
        "\n"
      ]
    },
    {
      "cell_type": "markdown",
      "metadata": {
        "id": "bf5YQhpA3E8h"
      },
      "source": [
        "признаки *PostalCode*, *RegistrationMonth*, *DateCrawled*, *DateCreated*, *LastSeen* можно удалить."
      ]
    },
    {
      "cell_type": "code",
      "execution_count": 30,
      "metadata": {
        "id": "CrKwf1aw3DxJ"
      },
      "outputs": [],
      "source": [
        "data = data[['Brand', 'FuelType', 'Gearbox',  'Model', 'NotRepaired', 'VehicleType', 'Power', 'age_years','Kilometer', 'Price']]"
      ]
    },
    {
      "cell_type": "markdown",
      "metadata": {
        "id": "IdgLNgqnf8Ft"
      },
      "source": [
        "## Подготовка признаков"
      ]
    },
    {
      "cell_type": "code",
      "execution_count": 31,
      "metadata": {
        "id": "0MkyDNdVt1tf"
      },
      "outputs": [],
      "source": [
        "train = data.drop('Price', axis=1)\n",
        "target = data['Price']\n",
        "\n",
        "X_train, X_test, y_train, y_test = train_test_split(train, target, test_size=0.2, random_state=RANDOM_STATE)"
      ]
    },
    {
      "cell_type": "markdown",
      "metadata": {
        "id": "Vux4-NI_6w6a"
      },
      "source": [
        "Попробую использовать преобразование Бокса-Кокса для целевой переменной, чтобы приблизить ее распределение к нормальному"
      ]
    },
    {
      "cell_type": "code",
      "execution_count": 32,
      "metadata": {
        "colab": {
          "base_uri": "https://localhost:8080/",
          "height": 297
        },
        "id": "fbK8N8-Y52nV",
        "outputId": "413b461b-c26c-49ad-9dc2-7abd338fc1c6"
      },
      "outputs": [
        {
          "output_type": "display_data",
          "data": {
            "text/plain": [
              "<Figure size 432x288 with 2 Axes>"
            ],
            "image/png": "[encoded data removed]"
          },
          "metadata": {}
        }
      ],
      "source": [
        "fig = plt.figure()\n",
        "ax1 = fig.add_subplot(211)\n",
        "prob = sts.probplot(y_train, dist=sts.norm, plot=ax1)\n",
        "ax1.set_xlabel('')\n",
        "ax1.set_title('Probplot against normal distribution')\n",
        "\n",
        "ax2 = fig.add_subplot(212)\n",
        "y_train_bx, lambda_bc = sts.boxcox(y_train)\n",
        "prob = sts.probplot(y_train_bx, dist=sts.norm, plot=ax2)\n",
        "ax2.set_title('Probplot after Box-Cox transformation')\n",
        "fig.tight_layout()\n",
        "plt.show()"
      ]
    },
    {
      "cell_type": "markdown",
      "metadata": {
        "id": "ogQoG7M97F4E"
      },
      "source": [
        "**Пайплайн по предварительной подготовке данных**"
      ]
    },
    {
      "cell_type": "code",
      "execution_count": 33,
      "metadata": {
        "id": "escR5xeh4mG1"
      },
      "outputs": [],
      "source": [
        "num_columns = (data.drop('Price', axis=1).\n",
        "               select_dtypes(include=['int64', 'float64']).\n",
        "               columns)\n",
        "cat_columns = data.select_dtypes(include=['object']).columns\n",
        "\n",
        "numeric_transformer = make_pipeline(StandardScaler())\n",
        "cat_transformer = make_pipeline(SimpleImputer(strategy='constant', \n",
        "                                              fill_value='unknown'), \n",
        "                                OneHotEncoder(drop='first', handle_unknown='ignore'))"
      ]
    },
    {
      "cell_type": "code",
      "execution_count": 34,
      "metadata": {
        "id": "p1jD3CEQ5vPN"
      },
      "outputs": [],
      "source": [
        "prep_reg = ColumnTransformer(\n",
        "    transformers=[\n",
        "                  ('num', numeric_transformer, num_columns),\n",
        "                  ('cat', cat_transformer, cat_columns)\n",
        "    ]\n",
        ")\n",
        "\n",
        "prep_rf = ColumnTransformer(\n",
        "    transformers=[\n",
        "                  ('num', numeric_transformer, num_columns)\n",
        "                  \n",
        "    ]\n",
        ")"
      ]
    },
    {
      "cell_type": "markdown",
      "metadata": {
        "id": "mJptmcrBnvFi"
      },
      "source": [
        "Целевой признак - количественный, значит имеет место задача регрессии. В данных много пропусков и аномальных значений. В основном, пропуски заполнить нежелательно, потому что это значительно ухудшит предсказания модели на реальных данных. Модель будет лучше работать, если пользователь будет максимально полно заполнять поля анкеты объявления.\n"
      ]
    },
    {
      "cell_type": "markdown",
      "metadata": {
        "id": "iEwhZG5m91vr"
      },
      "source": [
        "## Обучение моделей"
      ]
    },
    {
      "cell_type": "markdown",
      "metadata": {
        "id": "S2SY838hgHU4"
      },
      "source": [
        "**Случайная модель**"
      ]
    },
    {
      "cell_type": "code",
      "execution_count": 35,
      "metadata": {
        "colab": {
          "base_uri": "https://localhost:8080/"
        },
        "id": "O-rufmlBr4LB",
        "outputId": "a0eb70e7-0801-4e08-d3b1-76b8d9388fde"
      },
      "outputs": [
        {
          "output_type": "stream",
          "name": "stdout",
          "text": [
            "Значение rmse для случайной модели:  4496.419220477914\n"
          ]
        }
      ],
      "source": [
        "dummy = pd.Series(y_train.mean(), index=y_test.index)\n",
        "print('Значение rmse для случайной модели: ', mean_squared_error(y_test, dummy)**0.5)"
      ]
    },
    {
      "cell_type": "markdown",
      "metadata": {
        "id": "VtEZj7Ne6Zo7"
      },
      "source": [
        "**Диапазон поиска гиперпараметров**"
      ]
    },
    {
      "cell_type": "code",
      "execution_count": 36,
      "metadata": {
        "id": "1feCsbga5w7k"
      },
      "outputs": [],
      "source": [
        "params_reg = {'ridge__alpha' : np.linspace(0.1, 3, 20)}\n",
        "\n",
        "params_rf = {\n",
        "    'randomforestregressor__max_depth' : [None, 1, 4, 7, 10],\n",
        "    'randomforestregressor__n_estimators' : np.arange(1, 201, 10),\n",
        "    'randomforestregressor__bootstrap' : [True, False]\n",
        "}\n",
        "\n",
        "params_lgb = {\n",
        "    'lgbmregressor__max_depth' : np.arange(1, 10),\n",
        "    'lgbmregressor__n_estimators' : np.arange(600, 1301, 100),\n",
        "    'lgbmregressor__learning_rate' : np.linspace(0.1, 1, 20),\n",
        "    'lgbmregressor__num_leaves' : np.arange(700, 1601, 100)\n",
        "  \n",
        "}"
      ]
    },
    {
      "cell_type": "code",
      "execution_count": 37,
      "metadata": {
        "id": "38IHb9rDsLUL"
      },
      "outputs": [],
      "source": [
        "models = {'ridge' : {'model' : Ridge(random_state=RANDOM_STATE),\n",
        "                    'params' : params_reg,\n",
        "                     'prep' : prep_reg\n",
        "                     },\n",
        "          'randomforest' : {'model' : RandomForestRegressor(random_state=RANDOM_STATE),\n",
        "                            'params' : params_rf,\n",
        "                            'prep' : prep_rf\n",
        "                            },\n",
        "          'lgbm' : {'model' : lgbm.LGBMRegressor(random_state=RANDOM_STATE),\n",
        "                    'params' : params_lgb,\n",
        "                    'prep' : prep_reg\n",
        "                    }\n",
        "          }"
      ]
    },
    {
      "cell_type": "markdown",
      "metadata": {
        "id": "NP17YsF26mj8"
      },
      "source": [
        "**функции для обучения и тестирования моделей**"
      ]
    },
    {
      "cell_type": "code",
      "execution_count": 38,
      "metadata": {
        "id": "bBghCEwNnynq"
      },
      "outputs": [],
      "source": [
        "def train_model(models, X_train, y_train):\n",
        "  best_model = None\n",
        "  best_score = 100000\n",
        "  result = pd.DataFrame()\n",
        "\n",
        "  toc = time.perf_counter()\n",
        "  for model in models:\n",
        "    pipe = make_pipeline(models[model]['prep'], models[model]['model'])\n",
        "    search = RandomizedSearchCV(pipe, \n",
        "                                models[model]['params'], \n",
        "                                n_iter=20, \n",
        "                                scoring='neg_root_mean_squared_error', \n",
        "                                cv=5, \n",
        "                                n_jobs=-1,\n",
        "                                random_state=RANDOM_STATE,\n",
        "                                refit=True)\n",
        "\n",
        "    \n",
        "    #print(best_score)\n",
        "    search.fit(X_train, y_train)\n",
        "    tic = time.perf_counter()\n",
        "    train_time = tic - toc\n",
        "    buff = pd.DataFrame({'params' : search.best_params_, \n",
        "                         'score' : -search.best_score_,\n",
        "                         'train_time' : train_time})\n",
        "    result = pd.concat([result, buff])\n",
        "    rmse = -search.best_score_\n",
        "    if rmse < best_score:\n",
        "      best_model = search\n",
        "      best_score = -search.best_score_\n",
        "\n",
        "    \n",
        "  \n",
        "  return best_model, result\n"
      ]
    },
    {
      "cell_type": "code",
      "execution_count": 39,
      "metadata": {
        "id": "Fx-PW6YxqK14"
      },
      "outputs": [],
      "source": [
        "def test_model(search, X_test, y_test, boxcox=False):\n",
        "  toc = time.perf_counter()\n",
        "  preds = search.predict(X_test)\n",
        "  if boxcox:\n",
        "    preds = spc.inv_boxcox(preds, lambda_bc)\n",
        "  \n",
        "  return mean_squared_error(y_test, preds)**0.5\n"
      ]
    },
    {
      "cell_type": "code",
      "execution_count": 40,
      "metadata": {
        "colab": {
          "base_uri": "https://localhost:8080/"
        },
        "id": "XhYDp2vuBkE5",
        "outputId": "77ca834f-a9fc-41c7-b042-e72e9c589dc9"
      },
      "outputs": [
        {
          "output_type": "stream",
          "name": "stderr",
          "text": [
            "A worker stopped while some jobs were given to the executor. This can be caused by a too short worker timeout or by a memory leak.\n"
          ]
        }
      ],
      "source": [
        "search, results = train_model(models, X_train, y_train)"
      ]
    },
    {
      "cell_type": "code",
      "execution_count": 41,
      "metadata": {
        "colab": {
          "base_uri": "https://localhost:8080/",
          "height": 335
        },
        "id": "eitZ8qK094gV",
        "outputId": "832b05b9-dceb-49a4-e89c-4f6dd3a44208"
      },
      "outputs": [
        {
          "output_type": "stream",
          "name": "stderr",
          "text": [
            "Found unknown categories in columns [3] during transform. These unknown categories will be encoded as all zeros\n"
          ]
        },
        {
          "output_type": "display_data",
          "data": {
            "text/plain": [
              "                                       params        score   train_time\n",
              "ridge__alpha                         1.778947  2644.678251   118.699888\n",
              "randomforestregressor__bootstrap        False  2178.144944  1325.806839\n",
              "randomforestregressor__max_depth           10  2178.144944  1325.806839\n",
              "randomforestregressor__n_estimators       161  2178.144944  1325.806839\n",
              "lgbmregressor__learning_rate         0.384211  1626.841283  2473.643430\n",
              "lgbmregressor__max_depth                  8.0  1626.841283  2473.643430\n",
              "lgbmregressor__n_estimators             900.0  1626.841283  2473.643430\n",
              "lgbmregressor__num_leaves              1400.0  1626.841283  2473.643430"
            ],
            "text/html": [
              "\n",
              "  <div id=\"df-e416f1c9-4771-4158-bb5c-f343fe97990f\">\n",
              "    <div class=\"colab-df-container\">\n",
              "      <div>\n",
              "<style scoped>\n",
              "    .dataframe tbody tr th:only-of-type {\n",
              "        vertical-align: middle;\n",
              "    }\n",
              "\n",
              "    .dataframe tbody tr th {\n",
              "        vertical-align: top;\n",
              "    }\n",
              "\n",
              "    .dataframe thead th {\n",
              "        text-align: right;\n",
              "    }\n",
              "</style>\n",
              "<table border=\"1\" class=\"dataframe\">\n",
              "  <thead>\n",
              "    <tr style=\"text-align: right;\">\n",
              "      <th></th>\n",
              "      <th>params</th>\n",
              "      <th>score</th>\n",
              "      <th>train_time</th>\n",
              "    </tr>\n",
              "  </thead>\n",
              "  <tbody>\n",
              "    <tr>\n",
              "      <th>ridge__alpha</th>\n",
              "      <td>1.778947</td>\n",
              "      <td>2644.678251</td>\n",
              "      <td>118.699888</td>\n",
              "    </tr>\n",
              "    <tr>\n",
              "      <th>randomforestregressor__bootstrap</th>\n",
              "      <td>False</td>\n",
              "      <td>2178.144944</td>\n",
              "      <td>1325.806839</td>\n",
              "    </tr>\n",
              "    <tr>\n",
              "      <th>randomforestregressor__max_depth</th>\n",
              "      <td>10</td>\n",
              "      <td>2178.144944</td>\n",
              "      <td>1325.806839</td>\n",
              "    </tr>\n",
              "    <tr>\n",
              "      <th>randomforestregressor__n_estimators</th>\n",
              "      <td>161</td>\n",
              "      <td>2178.144944</td>\n",
              "      <td>1325.806839</td>\n",
              "    </tr>\n",
              "    <tr>\n",
              "      <th>lgbmregressor__learning_rate</th>\n",
              "      <td>0.384211</td>\n",
              "      <td>1626.841283</td>\n",
              "      <td>2473.643430</td>\n",
              "    </tr>\n",
              "    <tr>\n",
              "      <th>lgbmregressor__max_depth</th>\n",
              "      <td>8.0</td>\n",
              "      <td>1626.841283</td>\n",
              "      <td>2473.643430</td>\n",
              "    </tr>\n",
              "    <tr>\n",
              "      <th>lgbmregressor__n_estimators</th>\n",
              "      <td>900.0</td>\n",
              "      <td>1626.841283</td>\n",
              "      <td>2473.643430</td>\n",
              "    </tr>\n",
              "    <tr>\n",
              "      <th>lgbmregressor__num_leaves</th>\n",
              "      <td>1400.0</td>\n",
              "      <td>1626.841283</td>\n",
              "      <td>2473.643430</td>\n",
              "    </tr>\n",
              "  </tbody>\n",
              "</table>\n",
              "</div>\n",
              "      <button class=\"colab-df-convert\" onclick=\"convertToInteractive('df-e416f1c9-4771-4158-bb5c-f343fe97990f')\"\n",
              "              title=\"Convert this dataframe to an interactive table.\"\n",
              "              style=\"display:none;\">\n",
              "        \n",
              "  <svg xmlns=\"http://www.w3.org/2000/svg\" height=\"24px\"viewBox=\"0 0 24 24\"\n",
              "       width=\"24px\">\n",
              "    <path d=\"M0 0h24v24H0V0z\" fill=\"none\"/>\n",
              "    <path d=\"M18.56 5.44l.94 2.06.94-2.06 2.06-.94-2.06-.94-.94-2.06-.94 2.06-2.06.94zm-11 1L8.5 8.5l.94-2.06 2.06-.94-2.06-.94L8.5 2.5l-.94 2.06-2.06.94zm10 10l.94 2.06.94-2.06 2.06-.94-2.06-.94-.94-2.06-.94 2.06-2.06.94z\"/><path d=\"M17.41 7.96l-1.37-1.37c-.4-.4-.92-.59-1.43-.59-.52 0-1.04.2-1.43.59L10.3 9.45l-7.72 7.72c-.78.78-.78 2.05 0 2.83L4 21.41c.39.39.9.59 1.41.59.51 0 1.02-.2 1.41-.59l7.78-7.78 2.81-2.81c.8-.78.8-2.07 0-2.86zM5.41 20L4 18.59l7.72-7.72 1.47 1.35L5.41 20z\"/>\n",
              "  </svg>\n",
              "      </button>\n",
              "      \n",
              "  <style>\n",
              "    .colab-df-container {\n",
              "      display:flex;\n",
              "      flex-wrap:wrap;\n",
              "      gap: 12px;\n",
              "    }\n",
              "\n",
              "    .colab-df-convert {\n",
              "      background-color: #E8F0FE;\n",
              "      border: none;\n",
              "      border-radius: 50%;\n",
              "      cursor: pointer;\n",
              "      display: none;\n",
              "      fill: #1967D2;\n",
              "      height: 32px;\n",
              "      padding: 0 0 0 0;\n",
              "      width: 32px;\n",
              "    }\n",
              "\n",
              "    .colab-df-convert:hover {\n",
              "      background-color: #E2EBFA;\n",
              "      box-shadow: 0px 1px 2px rgba(60, 64, 67, 0.3), 0px 1px 3px 1px rgba(60, 64, 67, 0.15);\n",
              "      fill: #174EA6;\n",
              "    }\n",
              "\n",
              "    [theme=dark] .colab-df-convert {\n",
              "      background-color: #3B4455;\n",
              "      fill: #D2E3FC;\n",
              "    }\n",
              "\n",
              "    [theme=dark] .colab-df-convert:hover {\n",
              "      background-color: #434B5C;\n",
              "      box-shadow: 0px 1px 3px 1px rgba(0, 0, 0, 0.15);\n",
              "      filter: drop-shadow(0px 1px 2px rgba(0, 0, 0, 0.3));\n",
              "      fill: #FFFFFF;\n",
              "    }\n",
              "  </style>\n",
              "\n",
              "      <script>\n",
              "        const buttonEl =\n",
              "          document.querySelector('#df-e416f1c9-4771-4158-bb5c-f343fe97990f button.colab-df-convert');\n",
              "        buttonEl.style.display =\n",
              "          google.colab.kernel.accessAllowed ? 'block' : 'none';\n",
              "\n",
              "        async function convertToInteractive(key) {\n",
              "          const element = document.querySelector('#df-e416f1c9-4771-4158-bb5c-f343fe97990f');\n",
              "          const dataTable =\n",
              "            await google.colab.kernel.invokeFunction('convertToInteractive',\n",
              "                                                     [key], {});\n",
              "          if (!dataTable) return;\n",
              "\n",
              "          const docLinkHtml = 'Like what you see? Visit the ' +\n",
              "            '<a target=\"_blank\" href=https://colab.research.google.com/notebooks/data_table.ipynb>data table notebook</a>'\n",
              "            + ' to learn more about interactive tables.';\n",
              "          element.innerHTML = '';\n",
              "          dataTable['output_type'] = 'display_data';\n",
              "          await google.colab.output.renderOutput(dataTable, element);\n",
              "          const docLink = document.createElement('div');\n",
              "          docLink.innerHTML = docLinkHtml;\n",
              "          element.appendChild(docLink);\n",
              "        }\n",
              "      </script>\n",
              "    </div>\n",
              "  </div>\n",
              "  "
            ]
          },
          "metadata": {}
        },
        {
          "output_type": "stream",
          "name": "stdout",
          "text": [
            "Для модели без преобразование Бокса-Кокса rmse: 1594.550470116563\n"
          ]
        }
      ],
      "source": [
        "rmse = test_model(search, X_test, y_test, False)\n",
        "display(results)\n",
        "print('Для модели без преобразование Бокса-Кокса rmse:', rmse)\n"
      ]
    },
    {
      "cell_type": "code",
      "execution_count": 42,
      "metadata": {
        "id": "ZcJdRJCoBqFY"
      },
      "outputs": [],
      "source": [
        "search_bc, results_bc = train_model(models, X_train, y_train_bx)"
      ]
    },
    {
      "cell_type": "code",
      "execution_count": 43,
      "metadata": {
        "colab": {
          "base_uri": "https://localhost:8080/",
          "height": 335
        },
        "id": "eqgfwDZIBw2u",
        "outputId": "739f47ec-515c-4803-84da-01de7f1f2c54"
      },
      "outputs": [
        {
          "output_type": "stream",
          "name": "stderr",
          "text": [
            "Found unknown categories in columns [3] during transform. These unknown categories will be encoded as all zeros\n"
          ]
        },
        {
          "output_type": "display_data",
          "data": {
            "text/plain": [
              "                                       params     score   train_time\n",
              "ridge__alpha                         1.015789  1.268644   118.646322\n",
              "randomforestregressor__bootstrap        False  1.178428  1332.648068\n",
              "randomforestregressor__max_depth           10  1.178428  1332.648068\n",
              "randomforestregressor__n_estimators       161  1.178428  1332.648068\n",
              "lgbmregressor__learning_rate         0.431579  0.875913  2520.587086\n",
              "lgbmregressor__max_depth                  5.0  0.875913  2520.587086\n",
              "lgbmregressor__n_estimators            1200.0  0.875913  2520.587086\n",
              "lgbmregressor__num_leaves              1600.0  0.875913  2520.587086"
            ],
            "text/html": [
              "\n",
              "  <div id=\"df-96aad8f6-c9c4-4dc7-810a-ab5d03bddf25\">\n",
              "    <div class=\"colab-df-container\">\n",
              "      <div>\n",
              "<style scoped>\n",
              "    .dataframe tbody tr th:only-of-type {\n",
              "        vertical-align: middle;\n",
              "    }\n",
              "\n",
              "    .dataframe tbody tr th {\n",
              "        vertical-align: top;\n",
              "    }\n",
              "\n",
              "    .dataframe thead th {\n",
              "        text-align: right;\n",
              "    }\n",
              "</style>\n",
              "<table border=\"1\" class=\"dataframe\">\n",
              "  <thead>\n",
              "    <tr style=\"text-align: right;\">\n",
              "      <th></th>\n",
              "      <th>params</th>\n",
              "      <th>score</th>\n",
              "      <th>train_time</th>\n",
              "    </tr>\n",
              "  </thead>\n",
              "  <tbody>\n",
              "    <tr>\n",
              "      <th>ridge__alpha</th>\n",
              "      <td>1.015789</td>\n",
              "      <td>1.268644</td>\n",
              "      <td>118.646322</td>\n",
              "    </tr>\n",
              "    <tr>\n",
              "      <th>randomforestregressor__bootstrap</th>\n",
              "      <td>False</td>\n",
              "      <td>1.178428</td>\n",
              "      <td>1332.648068</td>\n",
              "    </tr>\n",
              "    <tr>\n",
              "      <th>randomforestregressor__max_depth</th>\n",
              "      <td>10</td>\n",
              "      <td>1.178428</td>\n",
              "      <td>1332.648068</td>\n",
              "    </tr>\n",
              "    <tr>\n",
              "      <th>randomforestregressor__n_estimators</th>\n",
              "      <td>161</td>\n",
              "      <td>1.178428</td>\n",
              "      <td>1332.648068</td>\n",
              "    </tr>\n",
              "    <tr>\n",
              "      <th>lgbmregressor__learning_rate</th>\n",
              "      <td>0.431579</td>\n",
              "      <td>0.875913</td>\n",
              "      <td>2520.587086</td>\n",
              "    </tr>\n",
              "    <tr>\n",
              "      <th>lgbmregressor__max_depth</th>\n",
              "      <td>5.0</td>\n",
              "      <td>0.875913</td>\n",
              "      <td>2520.587086</td>\n",
              "    </tr>\n",
              "    <tr>\n",
              "      <th>lgbmregressor__n_estimators</th>\n",
              "      <td>1200.0</td>\n",
              "      <td>0.875913</td>\n",
              "      <td>2520.587086</td>\n",
              "    </tr>\n",
              "    <tr>\n",
              "      <th>lgbmregressor__num_leaves</th>\n",
              "      <td>1600.0</td>\n",
              "      <td>0.875913</td>\n",
              "      <td>2520.587086</td>\n",
              "    </tr>\n",
              "  </tbody>\n",
              "</table>\n",
              "</div>\n",
              "      <button class=\"colab-df-convert\" onclick=\"convertToInteractive('df-96aad8f6-c9c4-4dc7-810a-ab5d03bddf25')\"\n",
              "              title=\"Convert this dataframe to an interactive table.\"\n",
              "              style=\"display:none;\">\n",
              "        \n",
              "  <svg xmlns=\"http://www.w3.org/2000/svg\" height=\"24px\"viewBox=\"0 0 24 24\"\n",
              "       width=\"24px\">\n",
              "    <path d=\"M0 0h24v24H0V0z\" fill=\"none\"/>\n",
              "    <path d=\"M18.56 5.44l.94 2.06.94-2.06 2.06-.94-2.06-.94-.94-2.06-.94 2.06-2.06.94zm-11 1L8.5 8.5l.94-2.06 2.06-.94-2.06-.94L8.5 2.5l-.94 2.06-2.06.94zm10 10l.94 2.06.94-2.06 2.06-.94-2.06-.94-.94-2.06-.94 2.06-2.06.94z\"/><path d=\"M17.41 7.96l-1.37-1.37c-.4-.4-.92-.59-1.43-.59-.52 0-1.04.2-1.43.59L10.3 9.45l-7.72 7.72c-.78.78-.78 2.05 0 2.83L4 21.41c.39.39.9.59 1.41.59.51 0 1.02-.2 1.41-.59l7.78-7.78 2.81-2.81c.8-.78.8-2.07 0-2.86zM5.41 20L4 18.59l7.72-7.72 1.47 1.35L5.41 20z\"/>\n",
              "  </svg>\n",
              "      </button>\n",
              "      \n",
              "  <style>\n",
              "    .colab-df-container {\n",
              "      display:flex;\n",
              "      flex-wrap:wrap;\n",
              "      gap: 12px;\n",
              "    }\n",
              "\n",
              "    .colab-df-convert {\n",
              "      background-color: #E8F0FE;\n",
              "      border: none;\n",
              "      border-radius: 50%;\n",
              "      cursor: pointer;\n",
              "      display: none;\n",
              "      fill: #1967D2;\n",
              "      height: 32px;\n",
              "      padding: 0 0 0 0;\n",
              "      width: 32px;\n",
              "    }\n",
              "\n",
              "    .colab-df-convert:hover {\n",
              "      background-color: #E2EBFA;\n",
              "      box-shadow: 0px 1px 2px rgba(60, 64, 67, 0.3), 0px 1px 3px 1px rgba(60, 64, 67, 0.15);\n",
              "      fill: #174EA6;\n",
              "    }\n",
              "\n",
              "    [theme=dark] .colab-df-convert {\n",
              "      background-color: #3B4455;\n",
              "      fill: #D2E3FC;\n",
              "    }\n",
              "\n",
              "    [theme=dark] .colab-df-convert:hover {\n",
              "      background-color: #434B5C;\n",
              "      box-shadow: 0px 1px 3px 1px rgba(0, 0, 0, 0.15);\n",
              "      filter: drop-shadow(0px 1px 2px rgba(0, 0, 0, 0.3));\n",
              "      fill: #FFFFFF;\n",
              "    }\n",
              "  </style>\n",
              "\n",
              "      <script>\n",
              "        const buttonEl =\n",
              "          document.querySelector('#df-96aad8f6-c9c4-4dc7-810a-ab5d03bddf25 button.colab-df-convert');\n",
              "        buttonEl.style.display =\n",
              "          google.colab.kernel.accessAllowed ? 'block' : 'none';\n",
              "\n",
              "        async function convertToInteractive(key) {\n",
              "          const element = document.querySelector('#df-96aad8f6-c9c4-4dc7-810a-ab5d03bddf25');\n",
              "          const dataTable =\n",
              "            await google.colab.kernel.invokeFunction('convertToInteractive',\n",
              "                                                     [key], {});\n",
              "          if (!dataTable) return;\n",
              "\n",
              "          const docLinkHtml = 'Like what you see? Visit the ' +\n",
              "            '<a target=\"_blank\" href=https://colab.research.google.com/notebooks/data_table.ipynb>data table notebook</a>'\n",
              "            + ' to learn more about interactive tables.';\n",
              "          element.innerHTML = '';\n",
              "          dataTable['output_type'] = 'display_data';\n",
              "          await google.colab.output.renderOutput(dataTable, element);\n",
              "          const docLink = document.createElement('div');\n",
              "          docLink.innerHTML = docLinkHtml;\n",
              "          element.appendChild(docLink);\n",
              "        }\n",
              "      </script>\n",
              "    </div>\n",
              "  </div>\n",
              "  "
            ]
          },
          "metadata": {}
        },
        {
          "output_type": "stream",
          "name": "stdout",
          "text": [
            "Для модели с преобразованием Бокса-Кокса rmse: 1670.4354352762969\n"
          ]
        }
      ],
      "source": [
        "rmse_bc = test_model(search_bc, X_test, y_test, True)\n",
        "display(results_bc)\n",
        "print('Для модели с преобразованием Бокса-Кокса rmse:', rmse_bc)"
      ]
    },
    {
      "cell_type": "markdown",
      "metadata": {
        "id": "loHYGC6InvFm"
      },
      "source": [
        "### Вывод\n",
        "Наилучший результат показала модель LGBMRegressor, в которой целевая переменная не подвергалась преобразованию Бокса-Кокса. Однако, время обучения такой модели выше чем модели случайного леса и значительно выше, чем у модели линейной регрессии"
      ]
    },
    {
      "cell_type": "markdown",
      "source": [
        "Важность признаков для моделей"
      ],
      "metadata": {
        "id": "3WnuF15QwU9P"
      }
    },
    {
      "cell_type": "code",
      "source": [
        ""
      ],
      "metadata": {
        "id": "jfLfmJ-KDPhI"
      },
      "execution_count": 43,
      "outputs": []
    },
    {
      "cell_type": "code",
      "source": [
        ""
      ],
      "metadata": {
        "id": "3McCkvghDPki"
      },
      "execution_count": 43,
      "outputs": []
    },
    {
      "cell_type": "code",
      "source": [
        "model = Ridge(alpha=1.778947)\n",
        "X_train_transformed = prep_reg.fit_transform(X_train)\n",
        "model.fit(X_train_transformed, y_train)\n",
        "cat_columns_pipe = list(prep_reg.transformers_[1][1].named_steps['onehotencoder'].get_feature_names_out())\n",
        "feature_names = cat_columns_pipe + list(num_columns)\n",
        "pd.Series(model.coef_, index=feature_names).sort_values(ascending=False).head(20)"
      ],
      "metadata": {
        "colab": {
          "base_uri": "https://localhost:8080/"
        },
        "id": "x8-0HsCPDPmP",
        "outputId": "38391266-28cf-4868-beca-180d43eaf075"
      },
      "execution_count": 44,
      "outputs": [
        {
          "output_type": "execute_result",
          "data": {
            "text/plain": [
              "x3_kangoo               6333.274784\n",
              "x3_a_klasse             5790.183320\n",
              "x3_niva                 5543.662134\n",
              "x3_r19                  5386.647058\n",
              "x3_getz                 5278.390062\n",
              "x3_range_rover          5148.170740\n",
              "x3_lanos                4705.651327\n",
              "x3_cherokee             4661.823563\n",
              "x3_a4                   4367.721523\n",
              "x0_saab                 4264.967940\n",
              "x3_touran               4069.845684\n",
              "x3_range_rover_sport    3874.746023\n",
              "x3_x_type               3832.187374\n",
              "x3_spark                3708.041034\n",
              "x3_superb               3637.838341\n",
              "x3_vectra               3388.813900\n",
              "x3_doblo                3375.797000\n",
              "x3_i3                   3371.522687\n",
              "x1_electric             3309.618148\n",
              "x3_4_reihe              3260.106547\n",
              "dtype: float64"
            ]
          },
          "metadata": {},
          "execution_count": 44
        }
      ]
    },
    {
      "cell_type": "code",
      "source": [
        ""
      ],
      "metadata": {
        "id": "oRrJGICsDPpl"
      },
      "execution_count": 44,
      "outputs": []
    },
    {
      "cell_type": "code",
      "source": [
        "model = lgbm.LGBMRegressor(learning_rate=0.43157894736842106, max_depth=5, n_estimators=1200, num_leaves=1600, random_state=RANDOM_STATE)\n",
        "pipe = make_pipeline(prep_reg, model)\n",
        "pipe.fit(X_train, y_train)\n",
        "cat_columns_pipe = list(pipe[0].transformers_[1][1].named_steps['onehotencoder'].get_feature_names_out())\n",
        "feature_names = cat_columns_pipe + list(num_columns)"
      ],
      "metadata": {
        "id": "agxqR39gbXbC"
      },
      "execution_count": 45,
      "outputs": []
    },
    {
      "cell_type": "code",
      "source": [
        "pd.Series(pipe[1].feature_importances_, index=feature_names).sort_values(ascending=False).head(20)"
      ],
      "metadata": {
        "colab": {
          "base_uri": "https://localhost:8080/"
        },
        "id": "hJUPE-HWbXg8",
        "outputId": "edd6c0a6-874c-4c2b-9147-9ca376103214"
      },
      "execution_count": 47,
      "outputs": [
        {
          "output_type": "execute_result",
          "data": {
            "text/plain": [
              "x0_bmw          5852\n",
              "x0_audi         5180\n",
              "x0_chevrolet    2713\n",
              "x3_147           505\n",
              "x1_other         415\n",
              "x5_coupe         407\n",
              "x5_unknown       331\n",
              "x5_other         313\n",
              "x2_unknown       307\n",
              "x5_sedan         259\n",
              "x3_panda         217\n",
              "x5_small         201\n",
              "age_years        191\n",
              "Kilometer        179\n",
              "x5_wagon         156\n",
              "Power            156\n",
              "x3_145           140\n",
              "x3_156           129\n",
              "x3_twingo        124\n",
              "x0_toyota        108\n",
              "dtype: int64"
            ]
          },
          "metadata": {},
          "execution_count": 47
        }
      ]
    },
    {
      "cell_type": "code",
      "source": [
        ""
      ],
      "metadata": {
        "id": "kfWeaXVXbXjr"
      },
      "execution_count": 47,
      "outputs": []
    },
    {
      "cell_type": "code",
      "source": [
        ""
      ],
      "metadata": {
        "id": "xbcLkJvoyTyv"
      },
      "execution_count": 47,
      "outputs": []
    }
  ],
  "metadata": {
    "ExecuteTimeLog": [
      {
        "duration": 756,
        "start_time": "2021-08-30T12:00:19.408Z"
      },
      {
        "duration": 1124,
        "start_time": "2021-08-30T12:00:30.491Z"
      },
      {
        "duration": 31,
        "start_time": "2021-08-30T12:00:34.801Z"
      },
      {
        "duration": 151,
        "start_time": "2021-08-30T12:00:45.412Z"
      },
      {
        "duration": 21,
        "start_time": "2021-08-30T12:55:32.623Z"
      },
      {
        "duration": 20,
        "start_time": "2021-08-30T12:56:28.413Z"
      },
      {
        "duration": 129,
        "start_time": "2021-08-30T12:56:33.753Z"
      },
      {
        "duration": 18,
        "start_time": "2021-08-30T12:56:44.134Z"
      },
      {
        "duration": 132,
        "start_time": "2021-08-30T13:51:08.577Z"
      },
      {
        "duration": 162,
        "start_time": "2021-08-30T13:51:13.714Z"
      },
      {
        "duration": 563,
        "start_time": "2021-08-30T13:51:26.967Z"
      },
      {
        "duration": 45,
        "start_time": "2021-08-30T13:52:18.515Z"
      },
      {
        "duration": 7,
        "start_time": "2021-08-30T13:52:23.504Z"
      },
      {
        "duration": 12,
        "start_time": "2021-08-30T13:52:37.878Z"
      },
      {
        "duration": 44,
        "start_time": "2021-08-30T13:52:49.507Z"
      },
      {
        "duration": 15,
        "start_time": "2021-08-30T13:52:52.085Z"
      },
      {
        "duration": 8,
        "start_time": "2021-08-30T13:56:18.235Z"
      },
      {
        "duration": 15,
        "start_time": "2021-08-30T13:56:28.580Z"
      },
      {
        "duration": 150,
        "start_time": "2021-08-30T13:56:38.195Z"
      },
      {
        "duration": 12,
        "start_time": "2021-08-30T13:57:11.196Z"
      },
      {
        "duration": 313,
        "start_time": "2021-08-30T14:02:54.580Z"
      },
      {
        "duration": 357,
        "start_time": "2021-08-30T14:03:09.171Z"
      },
      {
        "duration": 336,
        "start_time": "2021-08-30T14:03:18.312Z"
      },
      {
        "duration": 115,
        "start_time": "2021-08-30T14:04:23.309Z"
      },
      {
        "duration": 8,
        "start_time": "2021-08-30T14:04:28.940Z"
      },
      {
        "duration": 166,
        "start_time": "2021-08-30T14:04:59.454Z"
      },
      {
        "duration": 6967,
        "start_time": "2021-08-30T14:05:05.326Z"
      },
      {
        "duration": 7,
        "start_time": "2021-08-30T14:05:36.119Z"
      },
      {
        "duration": 248,
        "start_time": "2021-08-30T14:05:58.640Z"
      },
      {
        "duration": 9721,
        "start_time": "2021-08-30T14:06:03.874Z"
      },
      {
        "duration": 8,
        "start_time": "2021-08-30T14:06:50.122Z"
      },
      {
        "duration": 760,
        "start_time": "2021-08-30T14:07:57.468Z"
      },
      {
        "duration": 1075,
        "start_time": "2021-08-30T14:07:58.231Z"
      },
      {
        "duration": 29,
        "start_time": "2021-08-30T14:07:59.309Z"
      },
      {
        "duration": 161,
        "start_time": "2021-08-30T14:07:59.852Z"
      },
      {
        "duration": 136,
        "start_time": "2021-08-30T14:08:03.874Z"
      },
      {
        "duration": 12,
        "start_time": "2021-08-30T14:08:17.900Z"
      },
      {
        "duration": 12,
        "start_time": "2021-08-30T14:08:38.870Z"
      },
      {
        "duration": 628,
        "start_time": "2021-08-30T14:08:41.820Z"
      },
      {
        "duration": 207,
        "start_time": "2021-08-30T14:08:43.437Z"
      },
      {
        "duration": 7,
        "start_time": "2021-08-30T14:08:44.061Z"
      },
      {
        "duration": 9644,
        "start_time": "2021-08-30T14:08:57.925Z"
      },
      {
        "duration": 67,
        "start_time": "2021-08-30T14:09:40.730Z"
      },
      {
        "duration": 809,
        "start_time": "2021-08-30T14:10:41.753Z"
      },
      {
        "duration": 1101,
        "start_time": "2021-08-30T14:10:42.566Z"
      },
      {
        "duration": 29,
        "start_time": "2021-08-30T14:10:43.670Z"
      },
      {
        "duration": 176,
        "start_time": "2021-08-30T14:10:43.703Z"
      },
      {
        "duration": 147,
        "start_time": "2021-08-30T14:10:43.882Z"
      },
      {
        "duration": 53,
        "start_time": "2021-08-30T14:10:44.031Z"
      },
      {
        "duration": 11,
        "start_time": "2021-08-30T14:10:44.086Z"
      },
      {
        "duration": 15,
        "start_time": "2021-08-30T14:10:44.100Z"
      },
      {
        "duration": 3,
        "start_time": "2021-08-30T14:10:44.117Z"
      },
      {
        "duration": 608,
        "start_time": "2021-08-30T14:10:44.122Z"
      },
      {
        "duration": 217,
        "start_time": "2021-08-30T14:10:44.732Z"
      },
      {
        "duration": 63,
        "start_time": "2021-08-30T14:10:44.952Z"
      },
      {
        "duration": 746,
        "start_time": "2021-08-30T14:12:23.553Z"
      },
      {
        "duration": 1086,
        "start_time": "2021-08-30T14:12:24.302Z"
      },
      {
        "duration": 30,
        "start_time": "2021-08-30T14:12:25.391Z"
      },
      {
        "duration": 180,
        "start_time": "2021-08-30T14:12:25.424Z"
      },
      {
        "duration": 153,
        "start_time": "2021-08-30T14:12:25.606Z"
      },
      {
        "duration": 47,
        "start_time": "2021-08-30T14:12:25.762Z"
      },
      {
        "duration": 11,
        "start_time": "2021-08-30T14:12:25.812Z"
      },
      {
        "duration": 39,
        "start_time": "2021-08-30T14:12:25.826Z"
      },
      {
        "duration": 13,
        "start_time": "2021-08-30T14:12:46.839Z"
      },
      {
        "duration": 6,
        "start_time": "2021-08-30T14:16:32.797Z"
      },
      {
        "duration": 4,
        "start_time": "2021-08-30T14:17:31.323Z"
      },
      {
        "duration": 159,
        "start_time": "2021-08-30T14:17:55.458Z"
      },
      {
        "duration": 5,
        "start_time": "2021-08-30T14:18:04.146Z"
      },
      {
        "duration": 7,
        "start_time": "2021-08-30T14:18:34.981Z"
      },
      {
        "duration": 6,
        "start_time": "2021-08-30T14:18:37.196Z"
      },
      {
        "duration": 6,
        "start_time": "2021-08-30T14:18:50.117Z"
      },
      {
        "duration": 5,
        "start_time": "2021-08-30T14:18:52.346Z"
      },
      {
        "duration": 6,
        "start_time": "2021-08-30T14:18:54.321Z"
      },
      {
        "duration": 776,
        "start_time": "2021-08-30T14:20:07.862Z"
      },
      {
        "duration": 30,
        "start_time": "2021-08-30T14:21:17.219Z"
      },
      {
        "duration": 12,
        "start_time": "2021-08-30T14:21:29.387Z"
      },
      {
        "duration": 808,
        "start_time": "2021-08-31T12:21:00.131Z"
      },
      {
        "duration": 1149,
        "start_time": "2021-08-31T12:21:01.290Z"
      },
      {
        "duration": 34,
        "start_time": "2021-08-31T12:21:02.441Z"
      },
      {
        "duration": 153,
        "start_time": "2021-08-31T12:21:02.715Z"
      },
      {
        "duration": 161,
        "start_time": "2021-08-31T12:22:39.092Z"
      },
      {
        "duration": 26,
        "start_time": "2021-08-31T12:23:01.558Z"
      },
      {
        "duration": 105,
        "start_time": "2021-08-31T12:23:12.370Z"
      },
      {
        "duration": 122,
        "start_time": "2021-08-31T12:23:28.782Z"
      },
      {
        "duration": 12,
        "start_time": "2021-08-31T12:23:40.358Z"
      },
      {
        "duration": 760,
        "start_time": "2021-08-31T12:24:35.417Z"
      },
      {
        "duration": 1102,
        "start_time": "2021-08-31T12:24:37.032Z"
      },
      {
        "duration": 41,
        "start_time": "2021-08-31T12:24:38.137Z"
      },
      {
        "duration": 173,
        "start_time": "2021-08-31T12:24:38.305Z"
      },
      {
        "duration": 132,
        "start_time": "2021-08-31T12:24:43.849Z"
      },
      {
        "duration": 45,
        "start_time": "2021-08-31T12:24:45.832Z"
      },
      {
        "duration": 13,
        "start_time": "2021-08-31T12:24:47.320Z"
      },
      {
        "duration": 15,
        "start_time": "2021-08-31T12:24:49.700Z"
      },
      {
        "duration": 13,
        "start_time": "2021-08-31T12:24:53.857Z"
      },
      {
        "duration": 180,
        "start_time": "2021-08-31T12:24:59.569Z"
      },
      {
        "duration": 1020,
        "start_time": "2021-08-31T12:25:01.313Z"
      },
      {
        "duration": 289,
        "start_time": "2021-08-31T12:25:02.336Z"
      },
      {
        "duration": 5663,
        "start_time": "2021-08-31T12:25:06.122Z"
      },
      {
        "duration": 7,
        "start_time": "2021-08-31T12:25:37.929Z"
      },
      {
        "duration": 6,
        "start_time": "2021-08-31T12:26:33.827Z"
      },
      {
        "duration": 61,
        "start_time": "2021-08-31T12:27:25.116Z"
      },
      {
        "duration": 1819,
        "start_time": "2021-08-31T12:30:10.408Z"
      },
      {
        "duration": 751,
        "start_time": "2021-08-31T12:30:33.063Z"
      },
      {
        "duration": 1505,
        "start_time": "2021-08-31T12:30:33.816Z"
      },
      {
        "duration": 49,
        "start_time": "2021-08-31T12:30:35.324Z"
      },
      {
        "duration": 171,
        "start_time": "2021-08-31T12:30:35.376Z"
      },
      {
        "duration": 154,
        "start_time": "2021-08-31T12:30:35.550Z"
      },
      {
        "duration": 47,
        "start_time": "2021-08-31T12:30:35.706Z"
      },
      {
        "duration": 20,
        "start_time": "2021-08-31T12:30:35.755Z"
      },
      {
        "duration": 13,
        "start_time": "2021-08-31T12:30:35.778Z"
      },
      {
        "duration": 12,
        "start_time": "2021-08-31T12:30:35.793Z"
      },
      {
        "duration": 167,
        "start_time": "2021-08-31T12:30:35.807Z"
      },
      {
        "duration": 112,
        "start_time": "2021-08-31T12:30:37.907Z"
      },
      {
        "duration": 21,
        "start_time": "2021-08-31T12:31:38.802Z"
      },
      {
        "duration": 58,
        "start_time": "2021-08-31T12:31:46.977Z"
      },
      {
        "duration": 54,
        "start_time": "2021-08-31T12:33:56.879Z"
      },
      {
        "duration": 45,
        "start_time": "2021-08-31T12:34:06.910Z"
      },
      {
        "duration": 45,
        "start_time": "2021-08-31T12:39:53.568Z"
      },
      {
        "duration": 32,
        "start_time": "2021-08-31T12:40:04.232Z"
      },
      {
        "duration": 44,
        "start_time": "2021-08-31T12:41:36.178Z"
      },
      {
        "duration": 22,
        "start_time": "2021-08-31T12:42:28.891Z"
      },
      {
        "duration": 437,
        "start_time": "2021-08-31T12:42:45.899Z"
      },
      {
        "duration": 409,
        "start_time": "2021-08-31T12:42:59.095Z"
      },
      {
        "duration": 757,
        "start_time": "2021-08-31T12:43:15.754Z"
      },
      {
        "duration": 462,
        "start_time": "2021-08-31T12:43:58.681Z"
      },
      {
        "duration": 151,
        "start_time": "2021-08-31T12:44:41.842Z"
      },
      {
        "duration": 6762,
        "start_time": "2021-08-31T12:44:47.078Z"
      },
      {
        "duration": 510,
        "start_time": "2021-08-31T12:45:10.250Z"
      },
      {
        "duration": 470,
        "start_time": "2021-08-31T12:45:32.436Z"
      },
      {
        "duration": 519,
        "start_time": "2021-08-31T12:45:42.683Z"
      },
      {
        "duration": 476,
        "start_time": "2021-08-31T12:46:03.829Z"
      },
      {
        "duration": 48,
        "start_time": "2021-08-31T12:47:19.880Z"
      },
      {
        "duration": 564,
        "start_time": "2021-08-31T13:23:45.894Z"
      },
      {
        "duration": 574,
        "start_time": "2021-08-31T13:23:51.904Z"
      },
      {
        "duration": 591,
        "start_time": "2021-08-31T13:24:13.501Z"
      },
      {
        "duration": 644,
        "start_time": "2021-09-01T08:06:33.025Z"
      },
      {
        "duration": 5289,
        "start_time": "2021-09-01T08:06:33.671Z"
      },
      {
        "duration": 26,
        "start_time": "2021-09-01T08:06:38.963Z"
      },
      {
        "duration": 152,
        "start_time": "2021-09-01T08:06:38.992Z"
      },
      {
        "duration": 520,
        "start_time": "2021-09-01T08:06:39.146Z"
      },
      {
        "duration": 125,
        "start_time": "2021-09-01T08:06:39.669Z"
      },
      {
        "duration": 35,
        "start_time": "2021-09-01T08:06:39.796Z"
      },
      {
        "duration": 11,
        "start_time": "2021-09-01T08:06:39.833Z"
      },
      {
        "duration": 411,
        "start_time": "2021-09-01T08:30:26.000Z"
      },
      {
        "duration": 415,
        "start_time": "2021-09-01T08:30:55.733Z"
      },
      {
        "duration": 59,
        "start_time": "2021-09-01T08:31:51.522Z"
      },
      {
        "duration": 416,
        "start_time": "2021-09-01T08:32:06.238Z"
      },
      {
        "duration": 170,
        "start_time": "2021-09-01T08:35:48.872Z"
      },
      {
        "duration": 419,
        "start_time": "2021-09-01T08:35:57.059Z"
      },
      {
        "duration": 431,
        "start_time": "2021-09-01T08:36:08.746Z"
      },
      {
        "duration": 8,
        "start_time": "2021-09-01T08:50:48.842Z"
      },
      {
        "duration": 85,
        "start_time": "2021-09-01T08:50:50.349Z"
      },
      {
        "duration": 20,
        "start_time": "2021-09-01T08:51:07.350Z"
      },
      {
        "duration": 5,
        "start_time": "2021-09-01T08:51:11.982Z"
      },
      {
        "duration": 4,
        "start_time": "2021-09-01T08:51:13.926Z"
      },
      {
        "duration": 4,
        "start_time": "2021-09-01T08:51:16.894Z"
      },
      {
        "duration": 4,
        "start_time": "2021-09-01T08:51:22.207Z"
      },
      {
        "duration": 4,
        "start_time": "2021-09-01T08:51:24.302Z"
      },
      {
        "duration": 91,
        "start_time": "2021-09-01T08:53:19.350Z"
      },
      {
        "duration": 515,
        "start_time": "2021-09-01T08:53:32.718Z"
      },
      {
        "duration": 6,
        "start_time": "2021-09-01T08:54:59.811Z"
      },
      {
        "duration": 198,
        "start_time": "2021-09-01T08:57:25.052Z"
      },
      {
        "duration": 217,
        "start_time": "2021-09-01T08:58:13.646Z"
      },
      {
        "duration": 233,
        "start_time": "2021-09-01T08:58:20.200Z"
      },
      {
        "duration": 256,
        "start_time": "2021-09-01T08:58:24.944Z"
      },
      {
        "duration": 304,
        "start_time": "2021-09-01T09:01:57.007Z"
      },
      {
        "duration": 460,
        "start_time": "2021-09-01T09:02:31.557Z"
      },
      {
        "duration": 166,
        "start_time": "2021-09-01T09:02:47.405Z"
      },
      {
        "duration": 268,
        "start_time": "2021-09-01T09:03:10.346Z"
      },
      {
        "duration": 453,
        "start_time": "2021-09-01T09:03:20.961Z"
      },
      {
        "duration": 2533,
        "start_time": "2021-09-01T09:03:45.581Z"
      },
      {
        "duration": 474,
        "start_time": "2021-09-01T09:03:59.081Z"
      },
      {
        "duration": 435,
        "start_time": "2021-09-01T09:04:17.538Z"
      },
      {
        "duration": 16,
        "start_time": "2021-09-01T09:05:10.685Z"
      },
      {
        "duration": 25,
        "start_time": "2021-09-01T09:05:16.277Z"
      },
      {
        "duration": 486,
        "start_time": "2021-09-01T09:35:14.440Z"
      },
      {
        "duration": 1283,
        "start_time": "2021-09-01T09:35:30.490Z"
      },
      {
        "duration": 909,
        "start_time": "2021-09-01T09:35:31.777Z"
      },
      {
        "duration": 18,
        "start_time": "2021-09-01T09:35:32.689Z"
      },
      {
        "duration": 143,
        "start_time": "2021-09-01T09:35:32.709Z"
      },
      {
        "duration": 488,
        "start_time": "2021-09-01T09:35:32.854Z"
      },
      {
        "duration": 411,
        "start_time": "2021-09-01T09:35:33.344Z"
      },
      {
        "duration": 460,
        "start_time": "2021-09-01T09:35:33.757Z"
      },
      {
        "duration": 9,
        "start_time": "2021-09-01T09:35:36.706Z"
      },
      {
        "duration": 116,
        "start_time": "2021-09-01T09:35:53.715Z"
      },
      {
        "duration": 32,
        "start_time": "2021-09-01T09:40:57.869Z"
      },
      {
        "duration": 43,
        "start_time": "2021-09-01T09:41:13.388Z"
      },
      {
        "duration": 1296,
        "start_time": "2021-09-01T10:54:35.773Z"
      },
      {
        "duration": 912,
        "start_time": "2021-09-01T10:54:37.071Z"
      },
      {
        "duration": 18,
        "start_time": "2021-09-01T10:54:37.985Z"
      },
      {
        "duration": 147,
        "start_time": "2021-09-01T10:54:38.005Z"
      },
      {
        "duration": 506,
        "start_time": "2021-09-01T10:54:38.153Z"
      },
      {
        "duration": 418,
        "start_time": "2021-09-01T10:54:38.661Z"
      },
      {
        "duration": 3,
        "start_time": "2021-09-01T10:55:38.741Z"
      },
      {
        "duration": 422,
        "start_time": "2021-09-01T10:55:39.457Z"
      },
      {
        "duration": 23,
        "start_time": "2021-09-01T10:55:46.243Z"
      },
      {
        "duration": 5,
        "start_time": "2021-09-01T10:56:03.550Z"
      },
      {
        "duration": 594,
        "start_time": "2021-09-01T10:56:59.661Z"
      },
      {
        "duration": 26,
        "start_time": "2021-09-01T10:57:13.224Z"
      },
      {
        "duration": 23,
        "start_time": "2021-09-01T10:57:34.336Z"
      },
      {
        "duration": 151,
        "start_time": "2021-09-01T10:58:44.432Z"
      },
      {
        "duration": 72,
        "start_time": "2021-09-01T10:59:05.148Z"
      },
      {
        "duration": 68,
        "start_time": "2021-09-01T10:59:18.601Z"
      },
      {
        "duration": 234,
        "start_time": "2021-09-01T10:59:45.840Z"
      },
      {
        "duration": 1326,
        "start_time": "2021-09-01T11:00:33.721Z"
      },
      {
        "duration": 1013,
        "start_time": "2021-09-01T11:00:35.049Z"
      },
      {
        "duration": 22,
        "start_time": "2021-09-01T11:00:36.064Z"
      },
      {
        "duration": 142,
        "start_time": "2021-09-01T11:00:36.088Z"
      },
      {
        "duration": 493,
        "start_time": "2021-09-01T11:00:36.232Z"
      },
      {
        "duration": 651,
        "start_time": "2021-09-01T11:00:36.727Z"
      },
      {
        "duration": 721,
        "start_time": "2021-09-01T11:00:37.381Z"
      },
      {
        "duration": 26,
        "start_time": "2021-09-01T11:00:41.001Z"
      },
      {
        "duration": 360,
        "start_time": "2021-09-01T11:01:51.434Z"
      },
      {
        "duration": 260,
        "start_time": "2021-09-01T11:02:38.636Z"
      },
      {
        "duration": 1250,
        "start_time": "2021-09-01T11:08:52.602Z"
      },
      {
        "duration": 888,
        "start_time": "2021-09-01T11:08:53.854Z"
      },
      {
        "duration": 18,
        "start_time": "2021-09-01T11:08:54.744Z"
      },
      {
        "duration": 136,
        "start_time": "2021-09-01T11:08:54.764Z"
      },
      {
        "duration": 475,
        "start_time": "2021-09-01T11:08:54.902Z"
      },
      {
        "duration": 261,
        "start_time": "2021-09-01T11:08:55.379Z"
      },
      {
        "duration": 821,
        "start_time": "2021-09-01T11:08:58.885Z"
      },
      {
        "duration": 366,
        "start_time": "2021-09-01T11:09:27.804Z"
      },
      {
        "duration": 1252,
        "start_time": "2021-09-01T11:10:01.220Z"
      },
      {
        "duration": 930,
        "start_time": "2021-09-01T11:10:02.474Z"
      },
      {
        "duration": 19,
        "start_time": "2021-09-01T11:10:03.407Z"
      },
      {
        "duration": 144,
        "start_time": "2021-09-01T11:10:03.429Z"
      },
      {
        "duration": 484,
        "start_time": "2021-09-01T11:10:03.577Z"
      },
      {
        "duration": 273,
        "start_time": "2021-09-01T11:10:04.063Z"
      },
      {
        "duration": 296,
        "start_time": "2021-09-01T11:10:06.098Z"
      },
      {
        "duration": 11,
        "start_time": "2021-09-01T11:10:18.159Z"
      },
      {
        "duration": 520,
        "start_time": "2021-09-01T11:10:44.305Z"
      },
      {
        "duration": 603,
        "start_time": "2021-09-01T11:10:57.016Z"
      },
      {
        "duration": 401,
        "start_time": "2021-09-01T11:12:01.998Z"
      },
      {
        "duration": 29,
        "start_time": "2021-09-01T11:12:09.762Z"
      },
      {
        "duration": 182,
        "start_time": "2021-09-01T11:12:20.578Z"
      },
      {
        "duration": 23,
        "start_time": "2021-09-01T11:12:23.115Z"
      },
      {
        "duration": 9,
        "start_time": "2021-09-01T11:12:44.578Z"
      },
      {
        "duration": 221,
        "start_time": "2021-09-01T11:13:56.324Z"
      },
      {
        "duration": 9,
        "start_time": "2021-09-01T11:15:07.206Z"
      },
      {
        "duration": 1325,
        "start_time": "2021-09-01T11:15:57.652Z"
      },
      {
        "duration": 923,
        "start_time": "2021-09-01T11:15:58.979Z"
      },
      {
        "duration": 18,
        "start_time": "2021-09-01T11:15:59.904Z"
      },
      {
        "duration": 141,
        "start_time": "2021-09-01T11:15:59.924Z"
      },
      {
        "duration": 506,
        "start_time": "2021-09-01T11:16:00.067Z"
      },
      {
        "duration": 268,
        "start_time": "2021-09-01T11:16:00.577Z"
      },
      {
        "duration": 513,
        "start_time": "2021-09-01T11:16:00.846Z"
      },
      {
        "duration": 16,
        "start_time": "2021-09-01T11:16:01.362Z"
      },
      {
        "duration": 80,
        "start_time": "2021-09-01T11:16:01.380Z"
      },
      {
        "duration": 256,
        "start_time": "2021-09-01T11:16:01.463Z"
      },
      {
        "duration": 15,
        "start_time": "2021-09-01T11:16:21.199Z"
      },
      {
        "duration": 203,
        "start_time": "2021-09-01T11:19:07.718Z"
      },
      {
        "duration": 250,
        "start_time": "2021-09-01T11:19:18.700Z"
      },
      {
        "duration": 26,
        "start_time": "2021-09-01T11:19:25.564Z"
      },
      {
        "duration": 371,
        "start_time": "2021-09-01T11:20:21.452Z"
      },
      {
        "duration": 242,
        "start_time": "2021-09-01T11:20:46.119Z"
      },
      {
        "duration": 252,
        "start_time": "2021-09-01T11:20:51.781Z"
      },
      {
        "duration": 133,
        "start_time": "2021-09-01T11:21:20.760Z"
      },
      {
        "duration": 501,
        "start_time": "2021-09-01T11:22:32.513Z"
      },
      {
        "duration": 7346,
        "start_time": "2021-09-01T11:22:56.610Z"
      },
      {
        "duration": 1254,
        "start_time": "2021-09-01T11:24:05.621Z"
      },
      {
        "duration": 914,
        "start_time": "2021-09-01T11:24:06.878Z"
      },
      {
        "duration": 19,
        "start_time": "2021-09-01T11:24:07.795Z"
      },
      {
        "duration": 550,
        "start_time": "2021-09-01T11:24:07.817Z"
      },
      {
        "duration": 474,
        "start_time": "2021-09-01T11:24:08.370Z"
      },
      {
        "duration": 273,
        "start_time": "2021-09-01T11:24:08.846Z"
      },
      {
        "duration": 499,
        "start_time": "2021-09-01T11:24:09.121Z"
      },
      {
        "duration": 9,
        "start_time": "2021-09-01T11:24:09.622Z"
      },
      {
        "duration": 94,
        "start_time": "2021-09-01T11:24:09.633Z"
      },
      {
        "duration": 242,
        "start_time": "2021-09-01T11:24:09.728Z"
      },
      {
        "duration": 8,
        "start_time": "2021-09-01T11:24:23.022Z"
      },
      {
        "duration": 296,
        "start_time": "2021-09-01T11:24:48.796Z"
      },
      {
        "duration": 253,
        "start_time": "2021-09-01T11:24:55.962Z"
      },
      {
        "duration": 448,
        "start_time": "2021-09-01T11:25:27.987Z"
      },
      {
        "duration": 366,
        "start_time": "2021-09-01T11:25:48.598Z"
      },
      {
        "duration": 415,
        "start_time": "2021-09-01T11:26:00.315Z"
      },
      {
        "duration": 250,
        "start_time": "2021-09-01T11:27:39.797Z"
      },
      {
        "duration": 258,
        "start_time": "2021-09-01T11:27:52.654Z"
      },
      {
        "duration": 164,
        "start_time": "2021-09-01T11:40:51.537Z"
      },
      {
        "duration": 604,
        "start_time": "2021-09-01T11:41:07.720Z"
      },
      {
        "duration": 165,
        "start_time": "2021-09-01T11:41:22.751Z"
      },
      {
        "duration": 557,
        "start_time": "2021-09-01T11:43:09.819Z"
      },
      {
        "duration": 566,
        "start_time": "2021-09-01T11:43:16.006Z"
      },
      {
        "duration": 265,
        "start_time": "2021-09-01T11:44:15.271Z"
      },
      {
        "duration": 235,
        "start_time": "2021-09-01T11:44:24.873Z"
      },
      {
        "duration": 258,
        "start_time": "2021-09-01T11:44:53.009Z"
      },
      {
        "duration": 287,
        "start_time": "2021-09-01T11:46:32.466Z"
      },
      {
        "duration": 281,
        "start_time": "2021-09-01T11:47:41.820Z"
      },
      {
        "duration": 370,
        "start_time": "2021-09-01T11:48:07.878Z"
      },
      {
        "duration": 353,
        "start_time": "2021-09-01T11:48:38.700Z"
      },
      {
        "duration": 449,
        "start_time": "2021-09-01T11:49:05.215Z"
      },
      {
        "duration": 72,
        "start_time": "2021-09-01T11:53:35.730Z"
      },
      {
        "duration": 61,
        "start_time": "2021-09-01T11:53:53.845Z"
      },
      {
        "duration": 63,
        "start_time": "2021-09-01T11:54:00.518Z"
      },
      {
        "duration": 43,
        "start_time": "2021-09-01T11:54:05.545Z"
      },
      {
        "duration": 456,
        "start_time": "2021-09-01T11:54:15.628Z"
      },
      {
        "duration": 7260,
        "start_time": "2021-09-01T11:54:16.586Z"
      },
      {
        "duration": 176,
        "start_time": "2021-09-01T11:54:55.281Z"
      },
      {
        "duration": 452,
        "start_time": "2021-09-01T11:54:58.359Z"
      },
      {
        "duration": 82,
        "start_time": "2021-09-01T11:54:58.908Z"
      },
      {
        "duration": 33,
        "start_time": "2021-09-01T11:55:19.164Z"
      },
      {
        "duration": 1267,
        "start_time": "2021-09-01T12:09:52.779Z"
      },
      {
        "duration": 836,
        "start_time": "2021-09-01T12:09:54.048Z"
      },
      {
        "duration": 17,
        "start_time": "2021-09-01T12:09:54.886Z"
      },
      {
        "duration": 137,
        "start_time": "2021-09-01T12:09:54.905Z"
      },
      {
        "duration": 459,
        "start_time": "2021-09-01T12:09:55.044Z"
      },
      {
        "duration": 259,
        "start_time": "2021-09-01T12:09:55.505Z"
      },
      {
        "duration": 485,
        "start_time": "2021-09-01T12:09:55.766Z"
      },
      {
        "duration": 235,
        "start_time": "2021-09-01T12:09:56.253Z"
      },
      {
        "duration": 407,
        "start_time": "2021-09-01T12:09:56.490Z"
      },
      {
        "duration": 126,
        "start_time": "2021-09-01T12:09:56.899Z"
      },
      {
        "duration": 8,
        "start_time": "2021-09-01T12:17:49.890Z"
      },
      {
        "duration": 22,
        "start_time": "2021-09-01T12:18:43.111Z"
      },
      {
        "duration": 21,
        "start_time": "2021-09-01T12:18:56.486Z"
      },
      {
        "duration": 8,
        "start_time": "2021-09-01T12:19:02.709Z"
      },
      {
        "duration": 23,
        "start_time": "2021-09-01T12:19:07.771Z"
      },
      {
        "duration": 22,
        "start_time": "2021-09-01T12:19:12.380Z"
      },
      {
        "duration": 5,
        "start_time": "2021-09-01T12:30:50.639Z"
      },
      {
        "duration": 5,
        "start_time": "2021-09-01T12:34:30.776Z"
      },
      {
        "duration": 5,
        "start_time": "2021-09-01T12:35:42.763Z"
      },
      {
        "duration": 9,
        "start_time": "2021-09-01T13:05:39.708Z"
      },
      {
        "duration": 32,
        "start_time": "2021-09-01T13:06:14.722Z"
      },
      {
        "duration": 30,
        "start_time": "2021-09-01T13:08:55.822Z"
      },
      {
        "duration": 27,
        "start_time": "2021-09-01T13:09:09.357Z"
      },
      {
        "duration": 16,
        "start_time": "2021-09-01T13:09:27.281Z"
      },
      {
        "duration": 30,
        "start_time": "2021-09-01T13:09:40.626Z"
      },
      {
        "duration": 26,
        "start_time": "2021-09-01T13:10:02.666Z"
      },
      {
        "duration": 245,
        "start_time": "2021-09-01T13:11:34.740Z"
      },
      {
        "duration": 5,
        "start_time": "2021-09-01T13:14:40.825Z"
      },
      {
        "duration": 448,
        "start_time": "2021-09-01T13:15:25.913Z"
      },
      {
        "duration": 6,
        "start_time": "2021-09-01T13:15:34.338Z"
      },
      {
        "duration": 454,
        "start_time": "2021-09-01T13:18:12.922Z"
      },
      {
        "duration": 14,
        "start_time": "2021-09-01T13:18:39.419Z"
      },
      {
        "duration": 1400,
        "start_time": "2021-09-01T13:20:27.858Z"
      },
      {
        "duration": 2270,
        "start_time": "2021-09-01T13:21:19.482Z"
      },
      {
        "duration": 51,
        "start_time": "2021-09-01T13:25:03.966Z"
      },
      {
        "duration": 537,
        "start_time": "2021-09-01T13:26:49.593Z"
      },
      {
        "duration": 1350,
        "start_time": "2021-09-01T13:27:06.839Z"
      },
      {
        "duration": 941,
        "start_time": "2021-09-01T13:27:08.192Z"
      },
      {
        "duration": 18,
        "start_time": "2021-09-01T13:27:09.136Z"
      },
      {
        "duration": 159,
        "start_time": "2021-09-01T13:27:09.157Z"
      },
      {
        "duration": 6,
        "start_time": "2021-09-01T13:27:09.319Z"
      },
      {
        "duration": 2418,
        "start_time": "2021-09-01T13:27:09.327Z"
      },
      {
        "duration": 55,
        "start_time": "2021-09-01T13:27:11.748Z"
      },
      {
        "duration": 532,
        "start_time": "2021-09-01T13:27:11.805Z"
      },
      {
        "duration": 272,
        "start_time": "2021-09-01T13:27:12.339Z"
      },
      {
        "duration": 509,
        "start_time": "2021-09-01T13:27:12.614Z"
      },
      {
        "duration": 236,
        "start_time": "2021-09-01T13:27:13.125Z"
      },
      {
        "duration": 423,
        "start_time": "2021-09-01T13:27:13.363Z"
      },
      {
        "duration": 90,
        "start_time": "2021-09-01T13:27:13.787Z"
      },
      {
        "duration": 20,
        "start_time": "2021-09-01T13:27:13.879Z"
      },
      {
        "duration": 19,
        "start_time": "2021-09-01T13:27:38.588Z"
      },
      {
        "duration": 31,
        "start_time": "2021-09-01T13:29:06.316Z"
      },
      {
        "duration": 144,
        "start_time": "2021-09-01T13:53:24.292Z"
      },
      {
        "duration": 124,
        "start_time": "2021-09-01T13:53:39.910Z"
      },
      {
        "duration": 128,
        "start_time": "2021-09-01T13:53:53.384Z"
      },
      {
        "duration": 1413,
        "start_time": "2021-09-01T18:46:28.439Z"
      },
      {
        "duration": 1219,
        "start_time": "2021-09-01T18:46:29.855Z"
      },
      {
        "duration": 24,
        "start_time": "2021-09-01T18:46:31.078Z"
      },
      {
        "duration": 154,
        "start_time": "2021-09-01T18:46:31.105Z"
      },
      {
        "duration": 6,
        "start_time": "2021-09-01T18:46:31.262Z"
      },
      {
        "duration": 2468,
        "start_time": "2021-09-01T18:46:31.270Z"
      },
      {
        "duration": 48,
        "start_time": "2021-09-01T18:46:33.741Z"
      },
      {
        "duration": 500,
        "start_time": "2021-09-01T18:46:33.792Z"
      },
      {
        "duration": 269,
        "start_time": "2021-09-01T18:46:34.295Z"
      },
      {
        "duration": 517,
        "start_time": "2021-09-01T18:46:34.566Z"
      },
      {
        "duration": 253,
        "start_time": "2021-09-01T18:46:35.085Z"
      },
      {
        "duration": 392,
        "start_time": "2021-09-01T18:46:35.342Z"
      },
      {
        "duration": 40,
        "start_time": "2021-09-01T18:47:28.905Z"
      },
      {
        "duration": 38,
        "start_time": "2021-09-01T18:47:43.221Z"
      },
      {
        "duration": 266,
        "start_time": "2021-09-01T18:47:56.177Z"
      },
      {
        "duration": 330,
        "start_time": "2021-09-01T18:48:10.104Z"
      },
      {
        "duration": 345,
        "start_time": "2021-09-01T18:48:38.029Z"
      },
      {
        "duration": 329,
        "start_time": "2021-09-01T18:49:06.282Z"
      },
      {
        "duration": 333,
        "start_time": "2021-09-01T18:49:13.037Z"
      },
      {
        "duration": 369,
        "start_time": "2021-09-01T18:49:21.347Z"
      },
      {
        "duration": 391,
        "start_time": "2021-09-01T18:49:30.325Z"
      },
      {
        "duration": 13,
        "start_time": "2021-09-01T18:50:18.359Z"
      },
      {
        "duration": 12,
        "start_time": "2021-09-01T18:50:25.537Z"
      },
      {
        "duration": 21,
        "start_time": "2021-09-01T18:50:30.862Z"
      },
      {
        "duration": 11,
        "start_time": "2021-09-01T18:50:34.655Z"
      },
      {
        "duration": 426,
        "start_time": "2021-09-01T18:51:07.127Z"
      },
      {
        "duration": 369,
        "start_time": "2021-09-01T18:51:26.759Z"
      },
      {
        "duration": 324,
        "start_time": "2021-09-01T18:51:46.242Z"
      },
      {
        "duration": 1439,
        "start_time": "2021-09-01T18:58:16.842Z"
      },
      {
        "duration": 1224,
        "start_time": "2021-09-01T18:58:18.284Z"
      },
      {
        "duration": 31,
        "start_time": "2021-09-01T18:58:19.511Z"
      },
      {
        "duration": 145,
        "start_time": "2021-09-01T18:58:19.545Z"
      },
      {
        "duration": 6,
        "start_time": "2021-09-01T18:58:19.693Z"
      },
      {
        "duration": 2619,
        "start_time": "2021-09-01T18:58:19.701Z"
      },
      {
        "duration": 61,
        "start_time": "2021-09-01T18:58:22.322Z"
      },
      {
        "duration": 535,
        "start_time": "2021-09-01T18:58:22.386Z"
      },
      {
        "duration": 298,
        "start_time": "2021-09-01T18:58:22.924Z"
      },
      {
        "duration": 559,
        "start_time": "2021-09-01T18:58:23.224Z"
      },
      {
        "duration": 274,
        "start_time": "2021-09-01T18:58:23.785Z"
      },
      {
        "duration": 399,
        "start_time": "2021-09-01T18:58:24.061Z"
      },
      {
        "duration": 328,
        "start_time": "2021-09-01T18:58:24.463Z"
      },
      {
        "duration": 29,
        "start_time": "2021-09-01T18:58:52.563Z"
      },
      {
        "duration": 334,
        "start_time": "2021-09-01T19:05:28.473Z"
      },
      {
        "duration": 25,
        "start_time": "2021-09-01T19:05:34.982Z"
      },
      {
        "duration": 13,
        "start_time": "2021-09-01T19:05:43.425Z"
      },
      {
        "duration": 1584,
        "start_time": "2021-09-02T06:56:55.703Z"
      },
      {
        "duration": 1169,
        "start_time": "2021-09-02T06:56:57.290Z"
      },
      {
        "duration": 25,
        "start_time": "2021-09-02T06:56:58.461Z"
      },
      {
        "duration": 187,
        "start_time": "2021-09-02T06:56:58.488Z"
      },
      {
        "duration": 6,
        "start_time": "2021-09-02T06:56:58.678Z"
      },
      {
        "duration": 3715,
        "start_time": "2021-09-02T06:56:58.687Z"
      },
      {
        "duration": 86,
        "start_time": "2021-09-02T06:57:02.404Z"
      },
      {
        "duration": 676,
        "start_time": "2021-09-02T06:57:02.493Z"
      },
      {
        "duration": 375,
        "start_time": "2021-09-02T06:57:03.172Z"
      },
      {
        "duration": 733,
        "start_time": "2021-09-02T06:57:03.550Z"
      },
      {
        "duration": 343,
        "start_time": "2021-09-02T06:57:04.286Z"
      },
      {
        "duration": 558,
        "start_time": "2021-09-02T06:57:04.631Z"
      },
      {
        "duration": 573,
        "start_time": "2021-09-02T06:58:38.314Z"
      },
      {
        "duration": 584,
        "start_time": "2021-09-02T07:03:32.319Z"
      },
      {
        "duration": 26,
        "start_time": "2021-09-02T07:04:25.703Z"
      },
      {
        "duration": 19,
        "start_time": "2021-09-02T07:04:29.416Z"
      },
      {
        "duration": 19,
        "start_time": "2021-09-02T07:05:52.612Z"
      },
      {
        "duration": 15,
        "start_time": "2021-09-02T07:05:59.897Z"
      },
      {
        "duration": 14,
        "start_time": "2021-09-02T07:08:56.960Z"
      },
      {
        "duration": 15,
        "start_time": "2021-09-02T07:09:04.140Z"
      },
      {
        "duration": 17,
        "start_time": "2021-09-02T07:09:15.102Z"
      },
      {
        "duration": 14,
        "start_time": "2021-09-02T07:09:21.139Z"
      },
      {
        "duration": 16,
        "start_time": "2021-09-02T07:09:36.206Z"
      },
      {
        "duration": 14,
        "start_time": "2021-09-02T07:09:44.044Z"
      },
      {
        "duration": 14,
        "start_time": "2021-09-02T07:09:50.094Z"
      },
      {
        "duration": 20,
        "start_time": "2021-09-02T07:09:55.910Z"
      },
      {
        "duration": 13,
        "start_time": "2021-09-02T07:10:02.535Z"
      },
      {
        "duration": 14,
        "start_time": "2021-09-02T07:10:20.639Z"
      },
      {
        "duration": 19,
        "start_time": "2021-09-02T07:10:27.415Z"
      },
      {
        "duration": 719,
        "start_time": "2021-09-02T07:15:03.727Z"
      },
      {
        "duration": 681,
        "start_time": "2021-09-02T07:15:36.384Z"
      },
      {
        "duration": 801,
        "start_time": "2021-09-02T07:16:40.929Z"
      },
      {
        "duration": 868,
        "start_time": "2021-09-02T07:20:06.069Z"
      },
      {
        "duration": 836,
        "start_time": "2021-09-02T07:21:37.559Z"
      },
      {
        "duration": 620,
        "start_time": "2021-09-02T07:21:49.496Z"
      },
      {
        "duration": 699,
        "start_time": "2021-09-02T07:25:07.924Z"
      },
      {
        "duration": 995,
        "start_time": "2021-09-02T07:26:24.971Z"
      },
      {
        "duration": 1010,
        "start_time": "2021-09-02T07:28:15.344Z"
      },
      {
        "duration": 1026,
        "start_time": "2021-09-02T07:28:35.017Z"
      },
      {
        "duration": 1020,
        "start_time": "2021-09-02T07:28:49.241Z"
      },
      {
        "duration": 1011,
        "start_time": "2021-09-02T07:29:26.210Z"
      },
      {
        "duration": 985,
        "start_time": "2021-09-02T07:29:34.345Z"
      },
      {
        "duration": 880,
        "start_time": "2021-09-02T07:30:03.098Z"
      },
      {
        "duration": 931,
        "start_time": "2021-09-02T07:30:13.858Z"
      },
      {
        "duration": 880,
        "start_time": "2021-09-02T07:30:29.251Z"
      },
      {
        "duration": 1010,
        "start_time": "2021-09-02T07:30:34.427Z"
      },
      {
        "duration": 877,
        "start_time": "2021-09-02T07:31:12.827Z"
      },
      {
        "duration": 903,
        "start_time": "2021-09-02T07:31:42.197Z"
      },
      {
        "duration": 898,
        "start_time": "2021-09-02T07:31:58.078Z"
      },
      {
        "duration": 877,
        "start_time": "2021-09-02T07:32:12.333Z"
      },
      {
        "duration": 866,
        "start_time": "2021-09-02T07:32:24.141Z"
      },
      {
        "duration": 964,
        "start_time": "2021-09-02T07:32:31.382Z"
      },
      {
        "duration": 917,
        "start_time": "2021-09-02T07:33:34.055Z"
      },
      {
        "duration": 1302,
        "start_time": "2021-09-02T07:35:24.080Z"
      },
      {
        "duration": 1166,
        "start_time": "2021-09-02T07:35:31.793Z"
      },
      {
        "duration": 1167,
        "start_time": "2021-09-02T07:36:02.056Z"
      },
      {
        "duration": 19,
        "start_time": "2021-09-02T07:37:35.118Z"
      },
      {
        "duration": 13,
        "start_time": "2021-09-02T07:37:45.053Z"
      },
      {
        "duration": 18,
        "start_time": "2021-09-02T07:37:48.711Z"
      },
      {
        "duration": 14,
        "start_time": "2021-09-02T07:37:51.924Z"
      },
      {
        "duration": 13,
        "start_time": "2021-09-02T07:37:54.564Z"
      },
      {
        "duration": 12,
        "start_time": "2021-09-02T07:37:59.285Z"
      },
      {
        "duration": 12,
        "start_time": "2021-09-02T07:38:02.741Z"
      },
      {
        "duration": 12,
        "start_time": "2021-09-02T07:38:05.494Z"
      },
      {
        "duration": 19,
        "start_time": "2021-09-02T07:38:09.108Z"
      },
      {
        "duration": 11,
        "start_time": "2021-09-02T07:38:12.501Z"
      },
      {
        "duration": 15,
        "start_time": "2021-09-02T07:38:15.284Z"
      },
      {
        "duration": 13,
        "start_time": "2021-09-02T07:38:19.173Z"
      },
      {
        "duration": 13,
        "start_time": "2021-09-02T07:38:22.589Z"
      },
      {
        "duration": 13,
        "start_time": "2021-09-02T07:38:25.733Z"
      },
      {
        "duration": 13,
        "start_time": "2021-09-02T07:38:28.789Z"
      },
      {
        "duration": 14,
        "start_time": "2021-09-02T07:38:31.653Z"
      },
      {
        "duration": 15,
        "start_time": "2021-09-02T07:38:34.581Z"
      },
      {
        "duration": 24,
        "start_time": "2021-09-02T07:38:38.374Z"
      },
      {
        "duration": 13,
        "start_time": "2021-09-02T07:38:41.293Z"
      },
      {
        "duration": 14,
        "start_time": "2021-09-02T07:38:43.837Z"
      },
      {
        "duration": 16,
        "start_time": "2021-09-02T07:38:46.638Z"
      },
      {
        "duration": 14,
        "start_time": "2021-09-02T07:40:18.736Z"
      },
      {
        "duration": 14,
        "start_time": "2021-09-02T07:40:21.873Z"
      },
      {
        "duration": 16,
        "start_time": "2021-09-02T07:40:24.584Z"
      },
      {
        "duration": 12,
        "start_time": "2021-09-02T07:40:27.632Z"
      },
      {
        "duration": 12,
        "start_time": "2021-09-02T07:40:37.376Z"
      },
      {
        "duration": 12,
        "start_time": "2021-09-02T07:40:40.423Z"
      },
      {
        "duration": 12,
        "start_time": "2021-09-02T07:40:43.896Z"
      },
      {
        "duration": 12,
        "start_time": "2021-09-02T07:40:46.984Z"
      },
      {
        "duration": 12,
        "start_time": "2021-09-02T07:40:49.977Z"
      },
      {
        "duration": 13,
        "start_time": "2021-09-02T07:40:54.969Z"
      },
      {
        "duration": 13,
        "start_time": "2021-09-02T07:41:00.134Z"
      },
      {
        "duration": 11,
        "start_time": "2021-09-02T07:41:26.265Z"
      },
      {
        "duration": 12,
        "start_time": "2021-09-02T07:41:29.010Z"
      },
      {
        "duration": 12,
        "start_time": "2021-09-02T07:41:32.178Z"
      },
      {
        "duration": 16,
        "start_time": "2021-09-02T07:41:59.616Z"
      },
      {
        "duration": 15,
        "start_time": "2021-09-02T07:43:28.473Z"
      },
      {
        "duration": 14,
        "start_time": "2021-09-02T07:43:34.061Z"
      },
      {
        "duration": 20,
        "start_time": "2021-09-02T07:43:39.213Z"
      },
      {
        "duration": 152,
        "start_time": "2021-09-02T07:44:49.718Z"
      },
      {
        "duration": 12,
        "start_time": "2021-09-02T08:07:57.869Z"
      },
      {
        "duration": 1815,
        "start_time": "2021-09-02T08:08:49.777Z"
      },
      {
        "duration": 1161,
        "start_time": "2021-09-02T08:08:51.595Z"
      },
      {
        "duration": 25,
        "start_time": "2021-09-02T08:08:52.759Z"
      },
      {
        "duration": 196,
        "start_time": "2021-09-02T08:08:52.787Z"
      },
      {
        "duration": 6,
        "start_time": "2021-09-02T08:08:52.986Z"
      },
      {
        "duration": 3469,
        "start_time": "2021-09-02T08:08:52.995Z"
      },
      {
        "duration": 87,
        "start_time": "2021-09-02T08:08:56.466Z"
      },
      {
        "duration": 662,
        "start_time": "2021-09-02T08:08:56.556Z"
      },
      {
        "duration": 379,
        "start_time": "2021-09-02T08:08:57.221Z"
      },
      {
        "duration": 757,
        "start_time": "2021-09-02T08:08:57.603Z"
      },
      {
        "duration": 359,
        "start_time": "2021-09-02T08:08:58.363Z"
      },
      {
        "duration": 1243,
        "start_time": "2021-09-02T08:08:58.725Z"
      },
      {
        "duration": 155,
        "start_time": "2021-09-02T08:08:59.971Z"
      },
      {
        "duration": 14,
        "start_time": "2021-09-02T08:09:00.130Z"
      },
      {
        "duration": 129,
        "start_time": "2021-09-02T08:09:00.146Z"
      },
      {
        "duration": 12,
        "start_time": "2021-09-02T08:09:00.277Z"
      },
      {
        "duration": 57,
        "start_time": "2021-09-02T08:09:00.291Z"
      },
      {
        "duration": 8,
        "start_time": "2021-09-02T08:11:09.261Z"
      },
      {
        "duration": 374,
        "start_time": "2021-09-02T08:11:17.327Z"
      },
      {
        "duration": 1178,
        "start_time": "2021-09-02T08:11:46.772Z"
      },
      {
        "duration": 358,
        "start_time": "2021-09-02T08:12:13.866Z"
      },
      {
        "duration": 1072,
        "start_time": "2021-09-02T08:13:21.124Z"
      },
      {
        "duration": 11,
        "start_time": "2021-09-02T08:13:43.172Z"
      },
      {
        "duration": 15,
        "start_time": "2021-09-02T08:13:59.413Z"
      },
      {
        "duration": 10,
        "start_time": "2021-09-02T08:14:05.389Z"
      },
      {
        "duration": 39,
        "start_time": "2021-09-02T08:32:50.055Z"
      },
      {
        "duration": 44,
        "start_time": "2021-09-02T09:52:43.242Z"
      },
      {
        "duration": 361,
        "start_time": "2021-09-02T10:06:19.415Z"
      },
      {
        "duration": 168,
        "start_time": "2021-09-02T10:06:59.813Z"
      },
      {
        "duration": 99,
        "start_time": "2021-09-02T10:07:35.911Z"
      },
      {
        "duration": 93,
        "start_time": "2021-09-02T10:07:58.506Z"
      },
      {
        "duration": 100,
        "start_time": "2021-09-02T10:08:06.667Z"
      },
      {
        "duration": 968,
        "start_time": "2021-09-02T10:09:40.116Z"
      },
      {
        "duration": 1487,
        "start_time": "2021-09-02T10:10:11.451Z"
      },
      {
        "duration": 1266,
        "start_time": "2021-09-02T10:10:16.363Z"
      },
      {
        "duration": 904,
        "start_time": "2021-09-02T10:31:07.351Z"
      },
      {
        "duration": 1131,
        "start_time": "2021-09-02T10:31:18.783Z"
      },
      {
        "duration": 1609,
        "start_time": "2021-09-02T10:31:22.863Z"
      },
      {
        "duration": 105,
        "start_time": "2021-09-02T10:31:57.081Z"
      },
      {
        "duration": 823,
        "start_time": "2021-09-02T10:32:35.201Z"
      },
      {
        "duration": 5016,
        "start_time": "2021-09-02T10:33:00.540Z"
      },
      {
        "duration": 105,
        "start_time": "2021-09-02T10:34:30.313Z"
      },
      {
        "duration": 102,
        "start_time": "2021-09-02T10:34:50.697Z"
      },
      {
        "duration": 45479,
        "start_time": "2021-09-02T10:35:01.160Z"
      },
      {
        "duration": 136,
        "start_time": "2021-09-02T10:36:04.998Z"
      },
      {
        "duration": 42683,
        "start_time": "2021-09-02T10:36:19.454Z"
      },
      {
        "duration": 99,
        "start_time": "2021-09-02T10:37:18.593Z"
      },
      {
        "duration": 95,
        "start_time": "2021-09-02T10:37:30.367Z"
      },
      {
        "duration": 36197,
        "start_time": "2021-09-02T10:37:44.347Z"
      },
      {
        "duration": 3140,
        "start_time": "2021-09-02T10:38:26.474Z"
      },
      {
        "duration": 1020,
        "start_time": "2021-09-02T10:38:57.929Z"
      },
      {
        "duration": 100,
        "start_time": "2021-09-02T10:39:03.166Z"
      },
      {
        "duration": 38288,
        "start_time": "2021-09-02T10:39:10.258Z"
      },
      {
        "duration": 105,
        "start_time": "2021-09-02T10:41:20.526Z"
      },
      {
        "duration": 90,
        "start_time": "2021-09-02T10:41:27.612Z"
      },
      {
        "duration": 101,
        "start_time": "2021-09-02T10:41:34.297Z"
      },
      {
        "duration": 1107,
        "start_time": "2021-09-02T10:43:44.572Z"
      },
      {
        "duration": 107,
        "start_time": "2021-09-02T10:43:57.643Z"
      },
      {
        "duration": 1677,
        "start_time": "2021-09-02T10:46:48.882Z"
      },
      {
        "duration": 1171,
        "start_time": "2021-09-02T10:46:50.562Z"
      },
      {
        "duration": 26,
        "start_time": "2021-09-02T10:46:51.736Z"
      },
      {
        "duration": 180,
        "start_time": "2021-09-02T10:46:51.764Z"
      },
      {
        "duration": 6,
        "start_time": "2021-09-02T10:46:51.947Z"
      },
      {
        "duration": 3447,
        "start_time": "2021-09-02T10:46:51.956Z"
      },
      {
        "duration": 78,
        "start_time": "2021-09-02T10:46:55.405Z"
      },
      {
        "duration": 652,
        "start_time": "2021-09-02T10:46:55.487Z"
      },
      {
        "duration": 361,
        "start_time": "2021-09-02T10:46:56.142Z"
      },
      {
        "duration": 714,
        "start_time": "2021-09-02T10:46:56.506Z"
      },
      {
        "duration": 345,
        "start_time": "2021-09-02T10:46:57.222Z"
      },
      {
        "duration": 1205,
        "start_time": "2021-09-02T10:46:57.569Z"
      },
      {
        "duration": 160,
        "start_time": "2021-09-02T10:46:58.776Z"
      },
      {
        "duration": 12,
        "start_time": "2021-09-02T10:46:58.938Z"
      },
      {
        "duration": 134,
        "start_time": "2021-09-02T10:46:58.953Z"
      },
      {
        "duration": 12,
        "start_time": "2021-09-02T10:46:59.089Z"
      },
      {
        "duration": 107,
        "start_time": "2021-09-02T10:47:08.750Z"
      },
      {
        "duration": 8,
        "start_time": "2021-09-02T10:47:10.479Z"
      },
      {
        "duration": 28601,
        "start_time": "2021-09-02T10:47:28.876Z"
      },
      {
        "duration": 7,
        "start_time": "2021-09-02T10:48:02.671Z"
      },
      {
        "duration": 101,
        "start_time": "2021-09-02T10:49:32.577Z"
      },
      {
        "duration": 11,
        "start_time": "2021-09-02T10:49:46.220Z"
      },
      {
        "duration": 14,
        "start_time": "2021-09-02T10:50:36.491Z"
      },
      {
        "duration": 1083,
        "start_time": "2021-09-02T12:58:41.749Z"
      },
      {
        "duration": 37,
        "start_time": "2021-09-02T12:59:28.988Z"
      },
      {
        "duration": 1154,
        "start_time": "2021-09-02T13:00:02.354Z"
      },
      {
        "duration": 38,
        "start_time": "2021-09-02T13:00:55.771Z"
      },
      {
        "duration": 994,
        "start_time": "2021-09-02T13:01:09.486Z"
      },
      {
        "duration": 63,
        "start_time": "2021-09-02T13:01:33.387Z"
      },
      {
        "duration": 48,
        "start_time": "2021-09-02T13:02:29.419Z"
      },
      {
        "duration": 29,
        "start_time": "2021-09-02T13:03:30.091Z"
      },
      {
        "duration": 65,
        "start_time": "2021-09-02T13:03:47.514Z"
      },
      {
        "duration": 5,
        "start_time": "2021-09-02T13:18:39.618Z"
      },
      {
        "duration": 155,
        "start_time": "2021-09-02T13:21:51.084Z"
      },
      {
        "duration": 1813,
        "start_time": "2021-09-02T13:22:11.273Z"
      },
      {
        "duration": 1114,
        "start_time": "2021-09-02T13:22:13.088Z"
      },
      {
        "duration": 29,
        "start_time": "2021-09-02T13:22:14.205Z"
      },
      {
        "duration": 171,
        "start_time": "2021-09-02T13:22:14.237Z"
      },
      {
        "duration": 10,
        "start_time": "2021-09-02T13:22:14.411Z"
      },
      {
        "duration": 3440,
        "start_time": "2021-09-02T13:22:14.423Z"
      },
      {
        "duration": 83,
        "start_time": "2021-09-02T13:22:17.866Z"
      },
      {
        "duration": 769,
        "start_time": "2021-09-02T13:22:17.953Z"
      },
      {
        "duration": 364,
        "start_time": "2021-09-02T13:22:18.726Z"
      },
      {
        "duration": 706,
        "start_time": "2021-09-02T13:22:19.092Z"
      },
      {
        "duration": 330,
        "start_time": "2021-09-02T13:22:19.800Z"
      },
      {
        "duration": 1178,
        "start_time": "2021-09-02T13:22:20.132Z"
      },
      {
        "duration": 153,
        "start_time": "2021-09-02T13:22:21.317Z"
      },
      {
        "duration": 12,
        "start_time": "2021-09-02T13:22:21.473Z"
      },
      {
        "duration": 123,
        "start_time": "2021-09-02T13:22:21.487Z"
      },
      {
        "duration": 11,
        "start_time": "2021-09-02T13:22:21.613Z"
      },
      {
        "duration": 130,
        "start_time": "2021-09-02T13:22:21.626Z"
      },
      {
        "duration": 9,
        "start_time": "2021-09-02T13:22:21.758Z"
      },
      {
        "duration": 71,
        "start_time": "2021-09-02T13:22:21.769Z"
      },
      {
        "duration": 1985,
        "start_time": "2021-09-02T13:22:21.842Z"
      },
      {
        "duration": 133,
        "start_time": "2021-09-02T13:22:47.309Z"
      },
      {
        "duration": 50,
        "start_time": "2021-09-02T13:23:09.571Z"
      },
      {
        "duration": 11,
        "start_time": "2021-09-02T13:23:16.161Z"
      },
      {
        "duration": 116,
        "start_time": "2021-09-02T13:24:06.321Z"
      },
      {
        "duration": 11,
        "start_time": "2021-09-02T13:24:06.894Z"
      },
      {
        "duration": 141,
        "start_time": "2021-09-02T13:24:27.288Z"
      },
      {
        "duration": 11,
        "start_time": "2021-09-02T13:24:29.620Z"
      },
      {
        "duration": 170,
        "start_time": "2021-09-02T13:24:44.662Z"
      },
      {
        "duration": 12,
        "start_time": "2021-09-02T13:24:46.814Z"
      },
      {
        "duration": 126,
        "start_time": "2021-09-02T13:24:57.134Z"
      },
      {
        "duration": 12,
        "start_time": "2021-09-02T13:24:57.501Z"
      },
      {
        "duration": 66,
        "start_time": "2021-09-02T13:27:09.443Z"
      },
      {
        "duration": 59,
        "start_time": "2021-09-02T13:28:29.597Z"
      },
      {
        "duration": 50,
        "start_time": "2021-09-02T13:39:05.995Z"
      },
      {
        "duration": 152,
        "start_time": "2021-09-02T13:39:34.383Z"
      },
      {
        "duration": 48,
        "start_time": "2021-09-02T13:40:20.978Z"
      },
      {
        "duration": 13,
        "start_time": "2021-09-02T13:43:22.017Z"
      },
      {
        "duration": 1960,
        "start_time": "2021-09-02T13:43:40.977Z"
      },
      {
        "duration": 1380,
        "start_time": "2021-09-02T13:43:42.940Z"
      },
      {
        "duration": 27,
        "start_time": "2021-09-02T13:43:44.327Z"
      },
      {
        "duration": 194,
        "start_time": "2021-09-02T13:43:44.356Z"
      },
      {
        "duration": 7,
        "start_time": "2021-09-02T13:43:44.552Z"
      },
      {
        "duration": 3554,
        "start_time": "2021-09-02T13:43:44.562Z"
      },
      {
        "duration": 71,
        "start_time": "2021-09-02T13:43:48.124Z"
      },
      {
        "duration": 827,
        "start_time": "2021-09-02T13:43:48.198Z"
      },
      {
        "duration": 352,
        "start_time": "2021-09-02T13:43:49.030Z"
      },
      {
        "duration": 718,
        "start_time": "2021-09-02T13:43:49.386Z"
      },
      {
        "duration": 350,
        "start_time": "2021-09-02T13:43:50.107Z"
      },
      {
        "duration": 1189,
        "start_time": "2021-09-02T13:43:50.460Z"
      },
      {
        "duration": 165,
        "start_time": "2021-09-02T13:43:51.651Z"
      },
      {
        "duration": 13,
        "start_time": "2021-09-02T13:43:51.819Z"
      },
      {
        "duration": 124,
        "start_time": "2021-09-02T13:43:51.834Z"
      },
      {
        "duration": 11,
        "start_time": "2021-09-02T13:43:51.961Z"
      },
      {
        "duration": 183,
        "start_time": "2021-09-02T13:43:51.974Z"
      },
      {
        "duration": 118,
        "start_time": "2021-09-02T13:43:52.159Z"
      },
      {
        "duration": 8,
        "start_time": "2021-09-02T13:43:52.280Z"
      },
      {
        "duration": 61,
        "start_time": "2021-09-02T13:43:52.291Z"
      },
      {
        "duration": 1100,
        "start_time": "2021-09-02T13:43:52.355Z"
      },
      {
        "duration": 16303,
        "start_time": "2021-09-02T13:43:37.155Z"
      },
      {
        "duration": 120,
        "start_time": "2021-09-02T13:44:06.980Z"
      },
      {
        "duration": 132,
        "start_time": "2021-09-02T13:44:22.293Z"
      },
      {
        "duration": 121,
        "start_time": "2021-09-02T13:44:34.007Z"
      },
      {
        "duration": 8,
        "start_time": "2021-09-02T13:44:37.354Z"
      },
      {
        "duration": 1696,
        "start_time": "2021-09-02T13:47:11.747Z"
      },
      {
        "duration": 1236,
        "start_time": "2021-09-02T13:47:13.447Z"
      },
      {
        "duration": 39,
        "start_time": "2021-09-02T13:47:14.686Z"
      },
      {
        "duration": 166,
        "start_time": "2021-09-02T13:47:14.728Z"
      },
      {
        "duration": 6,
        "start_time": "2021-09-02T13:47:14.897Z"
      },
      {
        "duration": 3474,
        "start_time": "2021-09-02T13:47:14.916Z"
      },
      {
        "duration": 91,
        "start_time": "2021-09-02T13:47:18.392Z"
      },
      {
        "duration": 733,
        "start_time": "2021-09-02T13:47:18.487Z"
      },
      {
        "duration": 352,
        "start_time": "2021-09-02T13:47:19.227Z"
      },
      {
        "duration": 725,
        "start_time": "2021-09-02T13:47:19.582Z"
      },
      {
        "duration": 340,
        "start_time": "2021-09-02T13:47:20.310Z"
      },
      {
        "duration": 1187,
        "start_time": "2021-09-02T13:47:20.652Z"
      },
      {
        "duration": 158,
        "start_time": "2021-09-02T13:47:21.841Z"
      },
      {
        "duration": 22,
        "start_time": "2021-09-02T13:47:22.002Z"
      },
      {
        "duration": 119,
        "start_time": "2021-09-02T13:47:22.028Z"
      },
      {
        "duration": 11,
        "start_time": "2021-09-02T13:47:22.149Z"
      },
      {
        "duration": 186,
        "start_time": "2021-09-02T13:47:22.163Z"
      },
      {
        "duration": 117,
        "start_time": "2021-09-02T13:47:22.352Z"
      },
      {
        "duration": 8,
        "start_time": "2021-09-02T13:47:22.472Z"
      },
      {
        "duration": 76,
        "start_time": "2021-09-02T13:47:22.482Z"
      },
      {
        "duration": 137,
        "start_time": "2021-09-02T13:47:22.561Z"
      },
      {
        "duration": 7,
        "start_time": "2021-09-02T13:47:22.700Z"
      },
      {
        "duration": 1917,
        "start_time": "2021-09-03T06:44:39.541Z"
      },
      {
        "duration": 2003,
        "start_time": "2021-09-03T06:45:02.038Z"
      },
      {
        "duration": 44784,
        "start_time": "2021-09-03T06:46:10.064Z"
      },
      {
        "duration": 272,
        "start_time": "2021-09-03T06:47:02.105Z"
      },
      {
        "duration": 27539,
        "start_time": "2021-09-03T06:48:20.578Z"
      },
      {
        "duration": 1957,
        "start_time": "2021-09-03T06:49:18.716Z"
      },
      {
        "duration": 8,
        "start_time": "2021-09-03T06:49:44.700Z"
      },
      {
        "duration": 1502,
        "start_time": "2021-09-03T06:51:19.080Z"
      },
      {
        "duration": 1114,
        "start_time": "2021-09-03T06:51:20.585Z"
      },
      {
        "duration": 25,
        "start_time": "2021-09-03T06:51:21.703Z"
      },
      {
        "duration": 180,
        "start_time": "2021-09-03T06:51:21.731Z"
      },
      {
        "duration": 6,
        "start_time": "2021-09-03T06:51:21.914Z"
      },
      {
        "duration": 3366,
        "start_time": "2021-09-03T06:51:21.924Z"
      },
      {
        "duration": 87,
        "start_time": "2021-09-03T06:51:25.293Z"
      },
      {
        "duration": 611,
        "start_time": "2021-09-03T06:51:25.384Z"
      },
      {
        "duration": 345,
        "start_time": "2021-09-03T06:51:25.998Z"
      },
      {
        "duration": 722,
        "start_time": "2021-09-03T06:51:26.346Z"
      },
      {
        "duration": 341,
        "start_time": "2021-09-03T06:51:27.071Z"
      },
      {
        "duration": 1166,
        "start_time": "2021-09-03T06:51:27.414Z"
      },
      {
        "duration": 170,
        "start_time": "2021-09-03T06:51:28.583Z"
      },
      {
        "duration": 15,
        "start_time": "2021-09-03T06:51:28.756Z"
      },
      {
        "duration": 128,
        "start_time": "2021-09-03T06:51:28.774Z"
      },
      {
        "duration": 13,
        "start_time": "2021-09-03T06:51:28.905Z"
      },
      {
        "duration": 183,
        "start_time": "2021-09-03T06:51:28.921Z"
      },
      {
        "duration": 112,
        "start_time": "2021-09-03T06:51:29.107Z"
      },
      {
        "duration": 9,
        "start_time": "2021-09-03T06:51:29.223Z"
      },
      {
        "duration": 68,
        "start_time": "2021-09-03T06:51:29.235Z"
      },
      {
        "duration": 6,
        "start_time": "2021-09-03T06:51:54.666Z"
      },
      {
        "duration": 155,
        "start_time": "2021-09-03T06:52:18.524Z"
      },
      {
        "duration": 25,
        "start_time": "2021-09-03T06:58:08.277Z"
      },
      {
        "duration": 25,
        "start_time": "2021-09-03T07:00:12.086Z"
      },
      {
        "duration": 94,
        "start_time": "2021-09-03T07:03:11.911Z"
      },
      {
        "duration": 84,
        "start_time": "2021-09-03T07:03:22.267Z"
      },
      {
        "duration": 16,
        "start_time": "2021-09-03T07:03:24.226Z"
      },
      {
        "duration": 12,
        "start_time": "2021-09-03T07:03:42.848Z"
      },
      {
        "duration": 85,
        "start_time": "2021-09-03T07:04:18.888Z"
      },
      {
        "duration": 95,
        "start_time": "2021-09-03T07:07:56.166Z"
      },
      {
        "duration": 491,
        "start_time": "2021-09-03T07:09:55.729Z"
      },
      {
        "duration": 42,
        "start_time": "2021-09-03T07:10:32.454Z"
      },
      {
        "duration": 318,
        "start_time": "2021-09-03T07:11:20.882Z"
      },
      {
        "duration": 89,
        "start_time": "2021-09-03T07:12:46.368Z"
      },
      {
        "duration": 96,
        "start_time": "2021-09-03T07:13:09.913Z"
      },
      {
        "duration": 1069,
        "start_time": "2021-09-03T07:13:39.949Z"
      },
      {
        "duration": 1150,
        "start_time": "2021-09-03T07:13:46.728Z"
      },
      {
        "duration": 94,
        "start_time": "2021-09-03T07:14:11.734Z"
      },
      {
        "duration": 1183,
        "start_time": "2021-09-03T07:14:31.954Z"
      },
      {
        "duration": 373,
        "start_time": "2021-09-03T07:15:08.310Z"
      },
      {
        "duration": 94,
        "start_time": "2021-09-03T07:15:41.446Z"
      },
      {
        "duration": 92,
        "start_time": "2021-09-03T07:15:49.351Z"
      },
      {
        "duration": 4528,
        "start_time": "2021-09-03T07:15:57.766Z"
      },
      {
        "duration": 5059,
        "start_time": "2021-09-03T07:16:04.220Z"
      },
      {
        "duration": 88,
        "start_time": "2021-09-03T07:16:12.719Z"
      },
      {
        "duration": 93,
        "start_time": "2021-09-03T07:16:18.274Z"
      },
      {
        "duration": 4,
        "start_time": "2021-09-03T07:20:29.544Z"
      },
      {
        "duration": 1486,
        "start_time": "2021-09-03T07:25:31.664Z"
      },
      {
        "duration": 1093,
        "start_time": "2021-09-03T07:25:33.153Z"
      },
      {
        "duration": 28,
        "start_time": "2021-09-03T07:25:34.249Z"
      },
      {
        "duration": 171,
        "start_time": "2021-09-03T07:25:34.280Z"
      },
      {
        "duration": 14,
        "start_time": "2021-09-03T07:25:34.453Z"
      },
      {
        "duration": 3427,
        "start_time": "2021-09-03T07:25:34.470Z"
      },
      {
        "duration": 84,
        "start_time": "2021-09-03T07:25:37.899Z"
      },
      {
        "duration": 628,
        "start_time": "2021-09-03T07:25:37.987Z"
      },
      {
        "duration": 347,
        "start_time": "2021-09-03T07:25:38.618Z"
      },
      {
        "duration": 739,
        "start_time": "2021-09-03T07:25:38.967Z"
      },
      {
        "duration": 336,
        "start_time": "2021-09-03T07:25:39.708Z"
      },
      {
        "duration": 1378,
        "start_time": "2021-09-03T07:25:40.047Z"
      },
      {
        "duration": 164,
        "start_time": "2021-09-03T07:25:41.427Z"
      },
      {
        "duration": 11,
        "start_time": "2021-09-03T07:25:41.594Z"
      },
      {
        "duration": 123,
        "start_time": "2021-09-03T07:25:41.607Z"
      },
      {
        "duration": 11,
        "start_time": "2021-09-03T07:25:41.732Z"
      },
      {
        "duration": 174,
        "start_time": "2021-09-03T07:25:41.745Z"
      },
      {
        "duration": 102,
        "start_time": "2021-09-03T07:25:41.921Z"
      },
      {
        "duration": 23,
        "start_time": "2021-09-03T07:25:42.025Z"
      },
      {
        "duration": 5,
        "start_time": "2021-09-03T07:25:55.586Z"
      },
      {
        "duration": 1304,
        "start_time": "2021-09-03T07:26:42.830Z"
      },
      {
        "duration": 72,
        "start_time": "2021-09-03T07:27:00.167Z"
      },
      {
        "duration": 94,
        "start_time": "2021-09-03T07:27:49.840Z"
      },
      {
        "duration": 96,
        "start_time": "2021-09-03T07:27:56.313Z"
      },
      {
        "duration": 7,
        "start_time": "2021-09-03T07:28:06.739Z"
      },
      {
        "duration": 50,
        "start_time": "2021-09-03T07:28:34.622Z"
      },
      {
        "duration": 14,
        "start_time": "2021-09-03T07:29:36.884Z"
      },
      {
        "duration": 79,
        "start_time": "2021-09-03T07:29:53.955Z"
      },
      {
        "duration": 17,
        "start_time": "2021-09-03T07:29:55.582Z"
      },
      {
        "duration": 6864,
        "start_time": "2021-09-03T07:30:08.787Z"
      },
      {
        "duration": 6126,
        "start_time": "2021-09-03T07:30:24.637Z"
      },
      {
        "duration": 10,
        "start_time": "2021-09-03T07:30:36.733Z"
      },
      {
        "duration": 8,
        "start_time": "2021-09-03T07:30:49.356Z"
      },
      {
        "duration": 60011,
        "start_time": "2021-09-03T07:31:56.410Z"
      },
      {
        "duration": 708,
        "start_time": "2021-09-03T07:33:59.967Z"
      },
      {
        "duration": 223,
        "start_time": "2021-09-03T07:34:10.277Z"
      },
      {
        "duration": 5,
        "start_time": "2021-09-03T07:34:19.560Z"
      },
      {
        "duration": 21,
        "start_time": "2021-09-03T07:34:23.864Z"
      },
      {
        "duration": 14,
        "start_time": "2021-09-03T07:34:46.324Z"
      },
      {
        "duration": 5,
        "start_time": "2021-09-03T07:35:05.770Z"
      },
      {
        "duration": 65,
        "start_time": "2021-09-03T07:35:09.494Z"
      },
      {
        "duration": 22,
        "start_time": "2021-09-03T07:35:49.444Z"
      },
      {
        "duration": 8,
        "start_time": "2021-09-03T07:35:50.030Z"
      },
      {
        "duration": 1464,
        "start_time": "2021-09-03T07:38:42.988Z"
      },
      {
        "duration": 1242,
        "start_time": "2021-09-03T07:38:44.454Z"
      },
      {
        "duration": 27,
        "start_time": "2021-09-03T07:38:45.699Z"
      },
      {
        "duration": 181,
        "start_time": "2021-09-03T07:38:45.729Z"
      },
      {
        "duration": 7,
        "start_time": "2021-09-03T07:38:45.912Z"
      },
      {
        "duration": 3378,
        "start_time": "2021-09-03T07:38:45.922Z"
      },
      {
        "duration": 85,
        "start_time": "2021-09-03T07:38:49.303Z"
      },
      {
        "duration": 607,
        "start_time": "2021-09-03T07:38:49.392Z"
      },
      {
        "duration": 347,
        "start_time": "2021-09-03T07:38:50.003Z"
      },
      {
        "duration": 673,
        "start_time": "2021-09-03T07:38:50.352Z"
      },
      {
        "duration": 339,
        "start_time": "2021-09-03T07:38:51.028Z"
      },
      {
        "duration": 1155,
        "start_time": "2021-09-03T07:38:51.370Z"
      },
      {
        "duration": 158,
        "start_time": "2021-09-03T07:38:52.527Z"
      },
      {
        "duration": 14,
        "start_time": "2021-09-03T07:38:52.688Z"
      },
      {
        "duration": 139,
        "start_time": "2021-09-03T07:38:52.705Z"
      },
      {
        "duration": 21,
        "start_time": "2021-09-03T07:38:52.846Z"
      },
      {
        "duration": 176,
        "start_time": "2021-09-03T07:38:52.870Z"
      },
      {
        "duration": 97,
        "start_time": "2021-09-03T07:38:53.049Z"
      },
      {
        "duration": 32,
        "start_time": "2021-09-03T07:38:53.149Z"
      },
      {
        "duration": 10,
        "start_time": "2021-09-03T07:38:53.184Z"
      },
      {
        "duration": 6569,
        "start_time": "2021-09-03T07:38:53.197Z"
      },
      {
        "duration": 17232,
        "start_time": "2021-09-03T07:38:42.537Z"
      },
      {
        "duration": 17228,
        "start_time": "2021-09-03T07:38:42.542Z"
      },
      {
        "duration": 6,
        "start_time": "2021-09-03T07:39:13.415Z"
      },
      {
        "duration": 75,
        "start_time": "2021-09-03T07:40:57.159Z"
      },
      {
        "duration": 359,
        "start_time": "2021-09-03T07:41:38.071Z"
      },
      {
        "duration": 443,
        "start_time": "2021-09-03T07:42:58.780Z"
      },
      {
        "duration": 358,
        "start_time": "2021-09-03T07:43:15.621Z"
      },
      {
        "duration": 6,
        "start_time": "2021-09-03T07:43:39.317Z"
      },
      {
        "duration": 71,
        "start_time": "2021-09-03T07:43:45.495Z"
      },
      {
        "duration": 70,
        "start_time": "2021-09-03T07:43:56.907Z"
      },
      {
        "duration": 360,
        "start_time": "2021-09-03T07:44:07.830Z"
      },
      {
        "duration": 88,
        "start_time": "2021-09-03T07:44:42.623Z"
      },
      {
        "duration": 7,
        "start_time": "2021-09-03T07:44:48.984Z"
      },
      {
        "duration": 22,
        "start_time": "2021-09-03T07:45:02.473Z"
      },
      {
        "duration": 43,
        "start_time": "2021-09-03T07:45:29.021Z"
      },
      {
        "duration": 42,
        "start_time": "2021-09-03T07:48:10.832Z"
      },
      {
        "duration": 7,
        "start_time": "2021-09-03T07:49:10.056Z"
      },
      {
        "duration": 7,
        "start_time": "2021-09-03T07:49:16.260Z"
      },
      {
        "duration": 39,
        "start_time": "2021-09-03T07:49:57.783Z"
      },
      {
        "duration": 15,
        "start_time": "2021-09-03T07:50:19.112Z"
      },
      {
        "duration": 17,
        "start_time": "2021-09-03T07:50:25.992Z"
      },
      {
        "duration": 305,
        "start_time": "2021-09-03T07:51:12.907Z"
      },
      {
        "duration": 1645,
        "start_time": "2021-09-03T07:51:18.845Z"
      },
      {
        "duration": 1106,
        "start_time": "2021-09-03T07:51:20.493Z"
      },
      {
        "duration": 26,
        "start_time": "2021-09-03T07:51:21.602Z"
      },
      {
        "duration": 177,
        "start_time": "2021-09-03T07:51:21.632Z"
      },
      {
        "duration": 8,
        "start_time": "2021-09-03T07:51:21.813Z"
      },
      {
        "duration": 3543,
        "start_time": "2021-09-03T07:51:21.823Z"
      },
      {
        "duration": 73,
        "start_time": "2021-09-03T07:51:25.369Z"
      },
      {
        "duration": 625,
        "start_time": "2021-09-03T07:51:25.446Z"
      },
      {
        "duration": 364,
        "start_time": "2021-09-03T07:51:26.075Z"
      },
      {
        "duration": 702,
        "start_time": "2021-09-03T07:51:26.441Z"
      },
      {
        "duration": 346,
        "start_time": "2021-09-03T07:51:27.146Z"
      },
      {
        "duration": 1286,
        "start_time": "2021-09-03T07:51:27.494Z"
      },
      {
        "duration": 161,
        "start_time": "2021-09-03T07:51:28.783Z"
      },
      {
        "duration": 20,
        "start_time": "2021-09-03T07:51:28.947Z"
      },
      {
        "duration": 124,
        "start_time": "2021-09-03T07:51:28.969Z"
      },
      {
        "duration": 11,
        "start_time": "2021-09-03T07:51:29.096Z"
      },
      {
        "duration": 167,
        "start_time": "2021-09-03T07:51:29.109Z"
      },
      {
        "duration": 356,
        "start_time": "2021-09-03T07:51:29.278Z"
      },
      {
        "duration": 17261,
        "start_time": "2021-09-03T07:51:12.375Z"
      },
      {
        "duration": 17259,
        "start_time": "2021-09-03T07:51:12.379Z"
      },
      {
        "duration": 17257,
        "start_time": "2021-09-03T07:51:12.383Z"
      },
      {
        "duration": 17256,
        "start_time": "2021-09-03T07:51:12.386Z"
      },
      {
        "duration": 17254,
        "start_time": "2021-09-03T07:51:12.389Z"
      },
      {
        "duration": 17253,
        "start_time": "2021-09-03T07:51:12.392Z"
      },
      {
        "duration": 5,
        "start_time": "2021-09-03T07:53:46.027Z"
      },
      {
        "duration": 167,
        "start_time": "2021-09-03T07:53:46.635Z"
      },
      {
        "duration": 38,
        "start_time": "2021-09-03T07:53:48.775Z"
      },
      {
        "duration": 23,
        "start_time": "2021-09-03T07:53:50.730Z"
      },
      {
        "duration": 46,
        "start_time": "2021-09-03T07:53:52.349Z"
      },
      {
        "duration": 21,
        "start_time": "2021-09-03T07:53:56.099Z"
      },
      {
        "duration": 14,
        "start_time": "2021-09-03T07:54:07.201Z"
      },
      {
        "duration": 178,
        "start_time": "2021-09-03T07:56:11.973Z"
      },
      {
        "duration": 15,
        "start_time": "2021-09-03T07:56:27.734Z"
      },
      {
        "duration": 23,
        "start_time": "2021-09-03T07:59:44.782Z"
      },
      {
        "duration": 35,
        "start_time": "2021-09-03T08:07:27.591Z"
      },
      {
        "duration": 47,
        "start_time": "2021-09-03T08:08:02.374Z"
      },
      {
        "duration": 45,
        "start_time": "2021-09-03T08:08:49.474Z"
      },
      {
        "duration": 42,
        "start_time": "2021-09-03T08:09:01.481Z"
      },
      {
        "duration": 44,
        "start_time": "2021-09-03T08:15:36.249Z"
      },
      {
        "duration": 42,
        "start_time": "2021-09-03T08:16:01.970Z"
      },
      {
        "duration": 347,
        "start_time": "2021-09-03T08:16:34.927Z"
      },
      {
        "duration": 394,
        "start_time": "2021-09-03T08:16:41.812Z"
      },
      {
        "duration": 525,
        "start_time": "2021-09-03T08:16:49.426Z"
      },
      {
        "duration": 46,
        "start_time": "2021-09-03T08:17:42.016Z"
      },
      {
        "duration": 579,
        "start_time": "2021-09-03T08:22:43.578Z"
      },
      {
        "duration": 64,
        "start_time": "2021-09-03T08:22:52.541Z"
      },
      {
        "duration": 35,
        "start_time": "2021-09-03T08:23:19.022Z"
      },
      {
        "duration": 68,
        "start_time": "2021-09-03T08:24:02.540Z"
      },
      {
        "duration": 392,
        "start_time": "2021-09-03T10:25:40.151Z"
      },
      {
        "duration": 5866,
        "start_time": "2021-09-03T10:27:22.129Z"
      },
      {
        "duration": 622,
        "start_time": "2021-09-03T10:27:33.872Z"
      },
      {
        "duration": 648,
        "start_time": "2021-09-03T10:27:47.487Z"
      },
      {
        "duration": 369,
        "start_time": "2021-09-03T10:28:31.647Z"
      },
      {
        "duration": 472,
        "start_time": "2021-09-03T10:28:39.844Z"
      },
      {
        "duration": 445,
        "start_time": "2021-09-03T10:29:25.065Z"
      },
      {
        "duration": 401,
        "start_time": "2021-09-03T10:30:50.764Z"
      },
      {
        "duration": 369,
        "start_time": "2021-09-03T10:31:13.689Z"
      },
      {
        "duration": 393,
        "start_time": "2021-09-03T10:31:46.164Z"
      },
      {
        "duration": 434,
        "start_time": "2021-09-03T10:32:04.201Z"
      },
      {
        "duration": 208,
        "start_time": "2021-09-03T10:32:18.074Z"
      },
      {
        "duration": 894,
        "start_time": "2021-09-03T10:32:44.746Z"
      },
      {
        "duration": 14283,
        "start_time": "2021-09-03T10:33:36.168Z"
      },
      {
        "duration": 15010,
        "start_time": "2021-09-03T10:34:23.505Z"
      },
      {
        "duration": 371,
        "start_time": "2021-09-03T10:35:20.168Z"
      },
      {
        "duration": 650,
        "start_time": "2021-09-03T10:35:51.176Z"
      },
      {
        "duration": 9,
        "start_time": "2021-09-03T10:36:41.932Z"
      },
      {
        "duration": 816,
        "start_time": "2021-09-03T10:37:17.556Z"
      },
      {
        "duration": 889,
        "start_time": "2021-09-03T10:38:35.320Z"
      },
      {
        "duration": 12992,
        "start_time": "2021-09-03T10:39:52.650Z"
      },
      {
        "duration": 8406,
        "start_time": "2021-09-03T10:40:12.183Z"
      },
      {
        "duration": 11133,
        "start_time": "2021-09-03T10:40:42.871Z"
      },
      {
        "duration": 15526,
        "start_time": "2021-09-03T10:42:45.977Z"
      },
      {
        "duration": 12248,
        "start_time": "2021-09-03T10:43:36.244Z"
      },
      {
        "duration": 358,
        "start_time": "2021-09-03T10:44:05.443Z"
      },
      {
        "duration": 591,
        "start_time": "2021-09-03T10:44:23.017Z"
      },
      {
        "duration": 10958,
        "start_time": "2021-09-03T10:44:49.821Z"
      },
      {
        "duration": 566,
        "start_time": "2021-09-03T10:45:16.457Z"
      },
      {
        "duration": 599,
        "start_time": "2021-09-03T10:45:43.479Z"
      },
      {
        "duration": 301,
        "start_time": "2021-09-03T10:46:00.906Z"
      },
      {
        "duration": 10533,
        "start_time": "2021-09-03T10:46:50.685Z"
      },
      {
        "duration": 363,
        "start_time": "2021-09-03T10:50:40.436Z"
      },
      {
        "duration": 169,
        "start_time": "2021-09-03T10:52:54.140Z"
      },
      {
        "duration": 185,
        "start_time": "2021-09-03T10:52:59.536Z"
      },
      {
        "duration": 177,
        "start_time": "2021-09-03T10:53:27.173Z"
      },
      {
        "duration": 184,
        "start_time": "2021-09-03T10:53:38.237Z"
      },
      {
        "duration": 168,
        "start_time": "2021-09-03T10:54:05.270Z"
      },
      {
        "duration": 326,
        "start_time": "2021-09-03T10:55:53.247Z"
      },
      {
        "duration": 116,
        "start_time": "2021-09-03T10:56:49.625Z"
      },
      {
        "duration": 143,
        "start_time": "2021-09-03T10:57:15.872Z"
      },
      {
        "duration": 242,
        "start_time": "2021-09-03T10:57:31.386Z"
      },
      {
        "duration": 365,
        "start_time": "2021-09-03T10:57:55.608Z"
      },
      {
        "duration": 294,
        "start_time": "2021-09-03T10:58:28.011Z"
      },
      {
        "duration": 185,
        "start_time": "2021-09-03T10:59:36.616Z"
      },
      {
        "duration": 174,
        "start_time": "2021-09-03T11:00:00.704Z"
      },
      {
        "duration": 24,
        "start_time": "2021-09-03T11:00:06.611Z"
      },
      {
        "duration": 82,
        "start_time": "2021-09-03T11:00:13.262Z"
      },
      {
        "duration": 174,
        "start_time": "2021-09-03T11:00:36.616Z"
      },
      {
        "duration": 175,
        "start_time": "2021-09-03T11:00:40.799Z"
      },
      {
        "duration": 19,
        "start_time": "2021-09-03T11:00:41.448Z"
      },
      {
        "duration": 318,
        "start_time": "2021-09-03T11:00:44.808Z"
      },
      {
        "duration": 7,
        "start_time": "2021-09-03T11:00:59.566Z"
      },
      {
        "duration": 180,
        "start_time": "2021-09-03T11:01:11.841Z"
      },
      {
        "duration": 7,
        "start_time": "2021-09-03T11:01:12.105Z"
      },
      {
        "duration": 289,
        "start_time": "2021-09-03T11:01:15.034Z"
      },
      {
        "duration": 499,
        "start_time": "2021-09-03T11:01:39.132Z"
      },
      {
        "duration": 271,
        "start_time": "2021-09-03T11:01:57.769Z"
      },
      {
        "duration": 9,
        "start_time": "2021-09-03T11:01:58.193Z"
      },
      {
        "duration": 139,
        "start_time": "2021-09-03T11:01:58.771Z"
      },
      {
        "duration": 351,
        "start_time": "2021-09-03T11:02:05.923Z"
      },
      {
        "duration": 355,
        "start_time": "2021-09-03T11:02:57.835Z"
      },
      {
        "duration": 18,
        "start_time": "2021-09-03T11:11:55.457Z"
      },
      {
        "duration": 65,
        "start_time": "2021-09-03T11:12:41.663Z"
      },
      {
        "duration": 33,
        "start_time": "2021-09-03T11:12:49.272Z"
      },
      {
        "duration": 33,
        "start_time": "2021-09-03T11:12:57.568Z"
      },
      {
        "duration": 37,
        "start_time": "2021-09-03T11:13:11.320Z"
      },
      {
        "duration": 486,
        "start_time": "2021-09-03T11:14:37.965Z"
      },
      {
        "duration": 1696,
        "start_time": "2021-09-03T11:15:05.244Z"
      },
      {
        "duration": 1208,
        "start_time": "2021-09-03T11:15:06.943Z"
      },
      {
        "duration": 30,
        "start_time": "2021-09-03T11:15:08.154Z"
      },
      {
        "duration": 182,
        "start_time": "2021-09-03T11:15:08.186Z"
      },
      {
        "duration": 8,
        "start_time": "2021-09-03T11:15:08.371Z"
      },
      {
        "duration": 3893,
        "start_time": "2021-09-03T11:15:08.382Z"
      },
      {
        "duration": 70,
        "start_time": "2021-09-03T11:15:12.278Z"
      },
      {
        "duration": 736,
        "start_time": "2021-09-03T11:15:12.369Z"
      },
      {
        "duration": 393,
        "start_time": "2021-09-03T11:15:13.109Z"
      },
      {
        "duration": 744,
        "start_time": "2021-09-03T11:15:13.505Z"
      },
      {
        "duration": 381,
        "start_time": "2021-09-03T11:15:14.251Z"
      },
      {
        "duration": 1164,
        "start_time": "2021-09-03T11:15:14.635Z"
      },
      {
        "duration": 152,
        "start_time": "2021-09-03T11:15:15.802Z"
      },
      {
        "duration": 20,
        "start_time": "2021-09-03T11:15:15.957Z"
      },
      {
        "duration": 124,
        "start_time": "2021-09-03T11:15:15.981Z"
      },
      {
        "duration": 13,
        "start_time": "2021-09-03T11:15:16.108Z"
      },
      {
        "duration": 173,
        "start_time": "2021-09-03T11:15:16.124Z"
      },
      {
        "duration": 471,
        "start_time": "2021-09-03T11:15:16.300Z"
      },
      {
        "duration": 667,
        "start_time": "2021-09-03T11:15:16.774Z"
      },
      {
        "duration": 17667,
        "start_time": "2021-09-03T11:14:59.777Z"
      },
      {
        "duration": 17661,
        "start_time": "2021-09-03T11:14:59.784Z"
      },
      {
        "duration": 17660,
        "start_time": "2021-09-03T11:14:59.786Z"
      },
      {
        "duration": 40,
        "start_time": "2021-09-03T11:16:09.487Z"
      },
      {
        "duration": 1463,
        "start_time": "2021-09-03T11:18:09.610Z"
      },
      {
        "duration": 1096,
        "start_time": "2021-09-03T11:18:11.076Z"
      },
      {
        "duration": 26,
        "start_time": "2021-09-03T11:18:12.175Z"
      },
      {
        "duration": 183,
        "start_time": "2021-09-03T11:18:12.205Z"
      },
      {
        "duration": 7,
        "start_time": "2021-09-03T11:18:12.391Z"
      },
      {
        "duration": 3345,
        "start_time": "2021-09-03T11:18:12.401Z"
      },
      {
        "duration": 82,
        "start_time": "2021-09-03T11:18:15.749Z"
      },
      {
        "duration": 599,
        "start_time": "2021-09-03T11:18:15.835Z"
      },
      {
        "duration": 349,
        "start_time": "2021-09-03T11:18:16.437Z"
      },
      {
        "duration": 702,
        "start_time": "2021-09-03T11:18:16.788Z"
      },
      {
        "duration": 350,
        "start_time": "2021-09-03T11:18:17.492Z"
      },
      {
        "duration": 1178,
        "start_time": "2021-09-03T11:18:17.844Z"
      },
      {
        "duration": 156,
        "start_time": "2021-09-03T11:18:19.024Z"
      },
      {
        "duration": 11,
        "start_time": "2021-09-03T11:18:19.183Z"
      },
      {
        "duration": 123,
        "start_time": "2021-09-03T11:18:19.197Z"
      },
      {
        "duration": 11,
        "start_time": "2021-09-03T11:18:19.323Z"
      },
      {
        "duration": 183,
        "start_time": "2021-09-03T11:18:19.337Z"
      },
      {
        "duration": 38,
        "start_time": "2021-09-03T11:18:26.605Z"
      },
      {
        "duration": 60,
        "start_time": "2021-09-03T11:18:38.135Z"
      },
      {
        "duration": 38,
        "start_time": "2021-09-03T11:18:39.016Z"
      },
      {
        "duration": 206,
        "start_time": "2021-09-03T11:18:46.887Z"
      },
      {
        "duration": 202,
        "start_time": "2021-09-03T11:19:28.213Z"
      },
      {
        "duration": 184,
        "start_time": "2021-09-03T11:19:34.664Z"
      },
      {
        "duration": 16,
        "start_time": "2021-09-03T11:19:35.416Z"
      },
      {
        "duration": 33,
        "start_time": "2021-09-03T11:19:36.673Z"
      },
      {
        "duration": 460,
        "start_time": "2021-09-03T11:19:37.600Z"
      },
      {
        "duration": 37,
        "start_time": "2021-09-03T11:20:17.871Z"
      },
      {
        "duration": 335,
        "start_time": "2021-09-03T11:20:59.802Z"
      },
      {
        "duration": 347,
        "start_time": "2021-09-03T11:40:17.228Z"
      },
      {
        "duration": 101990,
        "start_time": "2021-09-03T11:40:38.208Z"
      },
      {
        "duration": 51,
        "start_time": "2021-09-03T12:07:15.656Z"
      },
      {
        "duration": 24,
        "start_time": "2021-09-03T12:07:25.770Z"
      },
      {
        "duration": 91,
        "start_time": "2021-09-03T12:08:00.331Z"
      },
      {
        "duration": 23,
        "start_time": "2021-09-03T12:08:04.457Z"
      },
      {
        "duration": 2128,
        "start_time": "2021-09-03T12:09:36.083Z"
      },
      {
        "duration": 354,
        "start_time": "2021-09-03T12:09:55.807Z"
      },
      {
        "duration": 1534,
        "start_time": "2021-09-03T12:10:40.837Z"
      },
      {
        "duration": 1120,
        "start_time": "2021-09-03T12:10:42.373Z"
      },
      {
        "duration": 30,
        "start_time": "2021-09-03T12:10:43.496Z"
      },
      {
        "duration": 194,
        "start_time": "2021-09-03T12:10:43.529Z"
      },
      {
        "duration": 7,
        "start_time": "2021-09-03T12:10:43.725Z"
      },
      {
        "duration": 3516,
        "start_time": "2021-09-03T12:10:43.735Z"
      },
      {
        "duration": 84,
        "start_time": "2021-09-03T12:10:47.254Z"
      },
      {
        "duration": 614,
        "start_time": "2021-09-03T12:10:47.343Z"
      },
      {
        "duration": 359,
        "start_time": "2021-09-03T12:10:47.968Z"
      },
      {
        "duration": 725,
        "start_time": "2021-09-03T12:10:48.330Z"
      },
      {
        "duration": 337,
        "start_time": "2021-09-03T12:10:49.058Z"
      },
      {
        "duration": 1161,
        "start_time": "2021-09-03T12:10:49.398Z"
      },
      {
        "duration": 150,
        "start_time": "2021-09-03T12:10:50.566Z"
      },
      {
        "duration": 11,
        "start_time": "2021-09-03T12:10:50.719Z"
      },
      {
        "duration": 125,
        "start_time": "2021-09-03T12:10:50.732Z"
      },
      {
        "duration": 15,
        "start_time": "2021-09-03T12:10:50.859Z"
      },
      {
        "duration": 163,
        "start_time": "2021-09-03T12:10:50.877Z"
      },
      {
        "duration": 370,
        "start_time": "2021-09-03T12:10:55.153Z"
      },
      {
        "duration": 75,
        "start_time": "2021-09-03T12:11:04.069Z"
      },
      {
        "duration": 349,
        "start_time": "2021-09-03T12:11:05.883Z"
      },
      {
        "duration": 82,
        "start_time": "2021-09-03T12:11:20.501Z"
      },
      {
        "duration": 350,
        "start_time": "2021-09-03T12:11:22.356Z"
      },
      {
        "duration": 77,
        "start_time": "2021-09-03T12:11:39.798Z"
      },
      {
        "duration": 373,
        "start_time": "2021-09-03T12:11:40.941Z"
      },
      {
        "duration": 435,
        "start_time": "2021-09-03T12:18:02.392Z"
      },
      {
        "duration": 249,
        "start_time": "2021-09-03T12:18:20.853Z"
      },
      {
        "duration": 262,
        "start_time": "2021-09-03T12:18:32.240Z"
      },
      {
        "duration": 320,
        "start_time": "2021-09-03T12:18:44.535Z"
      },
      {
        "duration": 25,
        "start_time": "2021-09-03T12:18:51.646Z"
      },
      {
        "duration": 578,
        "start_time": "2021-09-03T12:19:05.880Z"
      },
      {
        "duration": 506,
        "start_time": "2021-09-03T12:20:31.143Z"
      },
      {
        "duration": 481,
        "start_time": "2021-09-03T12:20:40.938Z"
      },
      {
        "duration": 48,
        "start_time": "2021-09-03T12:23:28.945Z"
      },
      {
        "duration": 42,
        "start_time": "2021-09-03T12:23:39.807Z"
      },
      {
        "duration": 518,
        "start_time": "2021-09-03T12:27:12.674Z"
      },
      {
        "duration": 499,
        "start_time": "2021-09-03T12:27:22.942Z"
      },
      {
        "duration": 74,
        "start_time": "2021-09-03T12:29:51.078Z"
      },
      {
        "duration": 204,
        "start_time": "2021-09-03T12:33:07.763Z"
      },
      {
        "duration": 168,
        "start_time": "2021-09-03T12:33:09.314Z"
      },
      {
        "duration": 1489,
        "start_time": "2021-09-03T12:33:27.772Z"
      },
      {
        "duration": 1121,
        "start_time": "2021-09-03T12:33:29.264Z"
      },
      {
        "duration": 26,
        "start_time": "2021-09-03T12:33:30.388Z"
      },
      {
        "duration": 174,
        "start_time": "2021-09-03T12:33:30.417Z"
      },
      {
        "duration": 6,
        "start_time": "2021-09-03T12:33:30.593Z"
      },
      {
        "duration": 3439,
        "start_time": "2021-09-03T12:33:30.601Z"
      },
      {
        "duration": 88,
        "start_time": "2021-09-03T12:33:34.042Z"
      },
      {
        "duration": 629,
        "start_time": "2021-09-03T12:33:34.134Z"
      },
      {
        "duration": 356,
        "start_time": "2021-09-03T12:33:34.766Z"
      },
      {
        "duration": 715,
        "start_time": "2021-09-03T12:33:35.124Z"
      },
      {
        "duration": 345,
        "start_time": "2021-09-03T12:33:35.841Z"
      },
      {
        "duration": 1188,
        "start_time": "2021-09-03T12:33:36.189Z"
      },
      {
        "duration": 153,
        "start_time": "2021-09-03T12:33:37.379Z"
      },
      {
        "duration": 12,
        "start_time": "2021-09-03T12:33:37.534Z"
      },
      {
        "duration": 126,
        "start_time": "2021-09-03T12:33:37.548Z"
      },
      {
        "duration": 12,
        "start_time": "2021-09-03T12:33:37.676Z"
      },
      {
        "duration": 177,
        "start_time": "2021-09-03T12:33:37.690Z"
      },
      {
        "duration": 520,
        "start_time": "2021-09-03T12:33:37.869Z"
      },
      {
        "duration": 90,
        "start_time": "2021-09-03T12:33:38.391Z"
      },
      {
        "duration": 25,
        "start_time": "2021-09-03T12:33:38.484Z"
      },
      {
        "duration": 223,
        "start_time": "2021-09-03T12:33:38.512Z"
      },
      {
        "duration": 155,
        "start_time": "2021-09-03T12:33:56.520Z"
      },
      {
        "duration": 42,
        "start_time": "2021-09-03T13:11:52.754Z"
      },
      {
        "duration": 43,
        "start_time": "2021-09-03T13:12:32.129Z"
      },
      {
        "duration": 43,
        "start_time": "2021-09-03T13:13:39.055Z"
      },
      {
        "duration": 157,
        "start_time": "2021-09-03T13:18:49.119Z"
      },
      {
        "duration": 32,
        "start_time": "2021-09-03T13:18:54.002Z"
      },
      {
        "duration": 1627,
        "start_time": "2021-09-03T13:25:01.648Z"
      },
      {
        "duration": 1129,
        "start_time": "2021-09-03T13:25:03.277Z"
      },
      {
        "duration": 24,
        "start_time": "2021-09-03T13:25:04.409Z"
      },
      {
        "duration": 183,
        "start_time": "2021-09-03T13:25:04.436Z"
      },
      {
        "duration": 7,
        "start_time": "2021-09-03T13:25:04.621Z"
      },
      {
        "duration": 3395,
        "start_time": "2021-09-03T13:25:04.630Z"
      },
      {
        "duration": 81,
        "start_time": "2021-09-03T13:25:08.027Z"
      },
      {
        "duration": 646,
        "start_time": "2021-09-03T13:25:08.111Z"
      },
      {
        "duration": 336,
        "start_time": "2021-09-03T13:25:08.768Z"
      },
      {
        "duration": 685,
        "start_time": "2021-09-03T13:25:09.106Z"
      },
      {
        "duration": 339,
        "start_time": "2021-09-03T13:25:09.793Z"
      },
      {
        "duration": 1159,
        "start_time": "2021-09-03T13:25:10.135Z"
      },
      {
        "duration": 158,
        "start_time": "2021-09-03T13:25:11.297Z"
      },
      {
        "duration": 12,
        "start_time": "2021-09-03T13:25:11.458Z"
      },
      {
        "duration": 129,
        "start_time": "2021-09-03T13:25:11.472Z"
      },
      {
        "duration": 11,
        "start_time": "2021-09-03T13:25:11.604Z"
      },
      {
        "duration": 542,
        "start_time": "2021-09-03T13:25:11.617Z"
      },
      {
        "duration": 76,
        "start_time": "2021-09-03T13:25:12.161Z"
      },
      {
        "duration": 35,
        "start_time": "2021-09-03T13:25:12.240Z"
      },
      {
        "duration": 215,
        "start_time": "2021-09-03T13:25:12.277Z"
      },
      {
        "duration": 154,
        "start_time": "2021-09-03T13:25:12.495Z"
      },
      {
        "duration": 185,
        "start_time": "2021-09-03T13:26:10.629Z"
      },
      {
        "duration": 115,
        "start_time": "2021-09-03T13:26:18.419Z"
      },
      {
        "duration": 4,
        "start_time": "2021-09-03T13:30:53.307Z"
      },
      {
        "duration": 164,
        "start_time": "2021-09-03T13:31:30.223Z"
      },
      {
        "duration": 58,
        "start_time": "2021-09-03T13:31:34.700Z"
      },
      {
        "duration": 155,
        "start_time": "2021-09-03T13:32:07.501Z"
      },
      {
        "duration": 30,
        "start_time": "2021-09-03T13:32:10.277Z"
      },
      {
        "duration": 4,
        "start_time": "2021-09-03T13:34:38.336Z"
      },
      {
        "duration": 1127,
        "start_time": "2021-09-03T13:34:42.048Z"
      },
      {
        "duration": 41,
        "start_time": "2021-09-03T13:35:17.423Z"
      },
      {
        "duration": 9,
        "start_time": "2021-09-03T13:35:44.814Z"
      },
      {
        "duration": 308,
        "start_time": "2021-09-03T13:36:10.346Z"
      },
      {
        "duration": 18,
        "start_time": "2021-09-03T13:36:43.291Z"
      },
      {
        "duration": 19,
        "start_time": "2021-09-03T13:37:00.268Z"
      },
      {
        "duration": 419,
        "start_time": "2021-09-03T13:37:11.432Z"
      },
      {
        "duration": 26,
        "start_time": "2021-09-03T13:37:28.228Z"
      },
      {
        "duration": 42,
        "start_time": "2021-09-03T13:38:01.202Z"
      },
      {
        "duration": 4211,
        "start_time": "2021-09-03T13:38:38.603Z"
      },
      {
        "duration": 29,
        "start_time": "2021-09-03T13:38:44.194Z"
      },
      {
        "duration": 435,
        "start_time": "2021-09-03T18:27:50.727Z"
      },
      {
        "duration": 1203,
        "start_time": "2021-09-03T18:28:12.989Z"
      },
      {
        "duration": 821,
        "start_time": "2021-09-03T18:28:14.194Z"
      },
      {
        "duration": 16,
        "start_time": "2021-09-03T18:28:15.017Z"
      },
      {
        "duration": 143,
        "start_time": "2021-09-03T18:28:15.034Z"
      },
      {
        "duration": 4,
        "start_time": "2021-09-03T18:28:15.179Z"
      },
      {
        "duration": 2016,
        "start_time": "2021-09-03T18:28:15.185Z"
      },
      {
        "duration": 42,
        "start_time": "2021-09-03T18:28:17.203Z"
      },
      {
        "duration": 406,
        "start_time": "2021-09-03T18:28:17.247Z"
      },
      {
        "duration": 230,
        "start_time": "2021-09-03T18:28:17.656Z"
      },
      {
        "duration": 449,
        "start_time": "2021-09-03T18:28:17.888Z"
      },
      {
        "duration": 207,
        "start_time": "2021-09-03T18:28:18.339Z"
      },
      {
        "duration": 689,
        "start_time": "2021-09-03T18:28:18.548Z"
      },
      {
        "duration": 86,
        "start_time": "2021-09-03T18:28:19.239Z"
      },
      {
        "duration": 7,
        "start_time": "2021-09-03T18:28:19.327Z"
      },
      {
        "duration": 79,
        "start_time": "2021-09-03T18:28:19.335Z"
      },
      {
        "duration": 8,
        "start_time": "2021-09-03T18:28:19.415Z"
      },
      {
        "duration": 756,
        "start_time": "2021-09-03T18:28:19.424Z"
      },
      {
        "duration": -2179,
        "start_time": "2021-09-03T18:28:22.361Z"
      },
      {
        "duration": -2183,
        "start_time": "2021-09-03T18:28:22.366Z"
      },
      {
        "duration": -2186,
        "start_time": "2021-09-03T18:28:22.370Z"
      },
      {
        "duration": -2195,
        "start_time": "2021-09-03T18:28:22.380Z"
      },
      {
        "duration": -2200,
        "start_time": "2021-09-03T18:28:22.385Z"
      },
      {
        "duration": -2209,
        "start_time": "2021-09-03T18:28:22.396Z"
      },
      {
        "duration": -2214,
        "start_time": "2021-09-03T18:28:22.401Z"
      },
      {
        "duration": 290,
        "start_time": "2021-09-03T18:28:32.304Z"
      },
      {
        "duration": 47,
        "start_time": "2021-09-03T18:28:36.696Z"
      },
      {
        "duration": 16,
        "start_time": "2021-09-03T18:28:36.936Z"
      },
      {
        "duration": 129,
        "start_time": "2021-09-03T18:28:37.344Z"
      },
      {
        "duration": 111,
        "start_time": "2021-09-03T18:28:37.547Z"
      },
      {
        "duration": 3,
        "start_time": "2021-09-03T18:28:37.968Z"
      },
      {
        "duration": 87,
        "start_time": "2021-09-03T18:28:58.731Z"
      },
      {
        "duration": 45,
        "start_time": "2021-09-03T18:28:59.217Z"
      },
      {
        "duration": 114,
        "start_time": "2021-09-03T18:29:00.481Z"
      },
      {
        "duration": 13,
        "start_time": "2021-09-03T18:38:50.137Z"
      },
      {
        "duration": 12,
        "start_time": "2021-09-03T18:39:19.833Z"
      },
      {
        "duration": 5510,
        "start_time": "2021-09-03T18:39:26.305Z"
      },
      {
        "duration": 13,
        "start_time": "2021-09-03T18:39:37.946Z"
      },
      {
        "duration": 6371,
        "start_time": "2021-09-03T18:39:59.202Z"
      },
      {
        "duration": 364,
        "start_time": "2021-09-03T18:40:21.453Z"
      },
      {
        "duration": 14,
        "start_time": "2021-09-03T18:40:30.339Z"
      },
      {
        "duration": 4,
        "start_time": "2021-09-03T18:40:56.093Z"
      },
      {
        "duration": 702,
        "start_time": "2021-09-03T18:41:52.479Z"
      },
      {
        "duration": 4,
        "start_time": "2021-09-03T18:42:21.559Z"
      },
      {
        "duration": 12,
        "start_time": "2021-09-03T18:43:29.913Z"
      },
      {
        "duration": 13,
        "start_time": "2021-09-03T18:43:35.344Z"
      },
      {
        "duration": 4,
        "start_time": "2021-09-03T18:44:24.082Z"
      },
      {
        "duration": 4,
        "start_time": "2021-09-03T18:44:35.595Z"
      },
      {
        "duration": 5,
        "start_time": "2021-09-03T18:44:40.946Z"
      },
      {
        "duration": 24,
        "start_time": "2021-09-03T18:45:05.595Z"
      },
      {
        "duration": 12,
        "start_time": "2021-09-03T18:46:29.206Z"
      },
      {
        "duration": 111,
        "start_time": "2021-09-03T18:47:42.347Z"
      },
      {
        "duration": 112,
        "start_time": "2021-09-03T18:48:01.121Z"
      },
      {
        "duration": 121,
        "start_time": "2021-09-03T18:48:33.100Z"
      },
      {
        "duration": 3,
        "start_time": "2021-09-03T18:48:41.979Z"
      },
      {
        "duration": 5518,
        "start_time": "2021-09-03T18:49:13.005Z"
      },
      {
        "duration": 25,
        "start_time": "2021-09-03T18:49:23.875Z"
      },
      {
        "duration": 660,
        "start_time": "2021-09-03T18:50:35.472Z"
      },
      {
        "duration": 4361,
        "start_time": "2021-09-03T18:51:33.540Z"
      },
      {
        "duration": 5471,
        "start_time": "2021-09-03T18:51:56.817Z"
      },
      {
        "duration": 5905,
        "start_time": "2021-09-03T18:52:27.155Z"
      },
      {
        "duration": 131,
        "start_time": "2021-09-03T18:53:16.007Z"
      },
      {
        "duration": 3,
        "start_time": "2021-09-03T18:56:11.876Z"
      },
      {
        "duration": 206,
        "start_time": "2021-09-03T19:08:24.463Z"
      },
      {
        "duration": 5,
        "start_time": "2021-09-03T19:08:28.075Z"
      },
      {
        "duration": 886,
        "start_time": "2021-09-03T19:08:30.085Z"
      },
      {
        "duration": 380,
        "start_time": "2021-09-03T19:09:27.296Z"
      },
      {
        "duration": 1263,
        "start_time": "2021-09-03T19:09:33.795Z"
      },
      {
        "duration": 1179,
        "start_time": "2021-09-03T19:09:35.061Z"
      },
      {
        "duration": 35,
        "start_time": "2021-09-03T19:09:36.243Z"
      },
      {
        "duration": 235,
        "start_time": "2021-09-03T19:09:36.281Z"
      },
      {
        "duration": 7,
        "start_time": "2021-09-03T19:09:36.519Z"
      },
      {
        "duration": 3184,
        "start_time": "2021-09-03T19:09:36.529Z"
      },
      {
        "duration": 44,
        "start_time": "2021-09-03T19:09:39.714Z"
      },
      {
        "duration": 440,
        "start_time": "2021-09-03T19:09:39.761Z"
      },
      {
        "duration": 243,
        "start_time": "2021-09-03T19:09:40.204Z"
      },
      {
        "duration": 459,
        "start_time": "2021-09-03T19:09:40.449Z"
      },
      {
        "duration": 213,
        "start_time": "2021-09-03T19:09:40.910Z"
      },
      {
        "duration": 794,
        "start_time": "2021-09-03T19:09:41.125Z"
      },
      {
        "duration": 88,
        "start_time": "2021-09-03T19:09:41.921Z"
      },
      {
        "duration": 7,
        "start_time": "2021-09-03T19:09:42.011Z"
      },
      {
        "duration": 87,
        "start_time": "2021-09-03T19:09:42.020Z"
      },
      {
        "duration": 9,
        "start_time": "2021-09-03T19:09:42.109Z"
      },
      {
        "duration": 316,
        "start_time": "2021-09-03T19:09:42.120Z"
      },
      {
        "duration": 54,
        "start_time": "2021-09-03T19:09:42.438Z"
      },
      {
        "duration": 17,
        "start_time": "2021-09-03T19:09:42.494Z"
      },
      {
        "duration": 154,
        "start_time": "2021-09-03T19:09:42.513Z"
      },
      {
        "duration": 121,
        "start_time": "2021-09-03T19:09:42.669Z"
      },
      {
        "duration": 3,
        "start_time": "2021-09-03T19:09:42.792Z"
      },
      {
        "duration": 101,
        "start_time": "2021-09-03T19:09:42.798Z"
      },
      {
        "duration": 46,
        "start_time": "2021-09-03T19:09:42.901Z"
      },
      {
        "duration": 136,
        "start_time": "2021-09-03T19:09:42.948Z"
      },
      {
        "duration": 19,
        "start_time": "2021-09-03T19:09:43.086Z"
      },
      {
        "duration": 14,
        "start_time": "2021-09-03T19:09:43.107Z"
      },
      {
        "duration": 3,
        "start_time": "2021-09-03T19:09:43.123Z"
      },
      {
        "duration": 6025,
        "start_time": "2021-09-03T19:09:43.128Z"
      },
      {
        "duration": 128,
        "start_time": "2021-09-03T19:09:49.155Z"
      },
      {
        "duration": 218,
        "start_time": "2021-09-03T19:09:49.284Z"
      },
      {
        "duration": 3,
        "start_time": "2021-09-03T19:09:49.503Z"
      },
      {
        "duration": 1311,
        "start_time": "2021-09-04T06:29:26.558Z"
      },
      {
        "duration": 795,
        "start_time": "2021-09-04T06:29:27.871Z"
      },
      {
        "duration": 15,
        "start_time": "2021-09-04T06:29:28.668Z"
      },
      {
        "duration": 118,
        "start_time": "2021-09-04T06:29:28.691Z"
      },
      {
        "duration": 4,
        "start_time": "2021-09-04T06:29:28.811Z"
      },
      {
        "duration": 2017,
        "start_time": "2021-09-04T06:29:28.817Z"
      },
      {
        "duration": 62,
        "start_time": "2021-09-04T06:29:30.835Z"
      },
      {
        "duration": 456,
        "start_time": "2021-09-04T06:29:30.900Z"
      },
      {
        "duration": 242,
        "start_time": "2021-09-04T06:29:31.359Z"
      },
      {
        "duration": 511,
        "start_time": "2021-09-04T06:29:31.603Z"
      },
      {
        "duration": 200,
        "start_time": "2021-09-04T06:29:32.116Z"
      },
      {
        "duration": 678,
        "start_time": "2021-09-04T06:29:32.318Z"
      },
      {
        "duration": 106,
        "start_time": "2021-09-04T06:29:32.998Z"
      },
      {
        "duration": 9,
        "start_time": "2021-09-04T06:29:33.106Z"
      },
      {
        "duration": 84,
        "start_time": "2021-09-04T06:29:33.117Z"
      },
      {
        "duration": 10,
        "start_time": "2021-09-04T06:29:33.203Z"
      },
      {
        "duration": 296,
        "start_time": "2021-09-04T06:29:33.214Z"
      },
      {
        "duration": 57,
        "start_time": "2021-09-04T06:29:33.512Z"
      },
      {
        "duration": 34,
        "start_time": "2021-09-04T06:29:33.570Z"
      },
      {
        "duration": 146,
        "start_time": "2021-09-04T06:29:33.606Z"
      },
      {
        "duration": 110,
        "start_time": "2021-09-04T06:29:33.754Z"
      },
      {
        "duration": 4,
        "start_time": "2021-09-04T06:29:33.865Z"
      },
      {
        "duration": 105,
        "start_time": "2021-09-04T06:29:33.873Z"
      },
      {
        "duration": 53,
        "start_time": "2021-09-04T06:29:33.980Z"
      },
      {
        "duration": 128,
        "start_time": "2021-09-04T06:29:34.035Z"
      },
      {
        "duration": 12,
        "start_time": "2021-09-04T06:29:34.165Z"
      },
      {
        "duration": 3,
        "start_time": "2021-09-04T06:29:34.178Z"
      },
      {
        "duration": 5420,
        "start_time": "2021-09-04T06:29:34.192Z"
      },
      {
        "duration": 135,
        "start_time": "2021-09-04T06:29:39.613Z"
      },
      {
        "duration": 175,
        "start_time": "2021-09-04T06:29:39.749Z"
      },
      {
        "duration": 3,
        "start_time": "2021-09-04T06:29:39.925Z"
      },
      {
        "duration": 1184,
        "start_time": "2021-09-04T07:37:10.291Z"
      },
      {
        "duration": 790,
        "start_time": "2021-09-04T07:37:11.477Z"
      },
      {
        "duration": 24,
        "start_time": "2021-09-04T07:37:12.270Z"
      },
      {
        "duration": 121,
        "start_time": "2021-09-04T07:37:12.296Z"
      },
      {
        "duration": 4,
        "start_time": "2021-09-04T07:37:12.419Z"
      },
      {
        "duration": 2024,
        "start_time": "2021-09-04T07:37:12.425Z"
      },
      {
        "duration": 56,
        "start_time": "2021-09-04T07:37:14.450Z"
      },
      {
        "duration": 453,
        "start_time": "2021-09-04T07:37:14.508Z"
      },
      {
        "duration": 245,
        "start_time": "2021-09-04T07:37:14.964Z"
      },
      {
        "duration": 484,
        "start_time": "2021-09-04T07:37:15.211Z"
      },
      {
        "duration": 196,
        "start_time": "2021-09-04T07:37:15.697Z"
      },
      {
        "duration": 677,
        "start_time": "2021-09-04T07:37:15.895Z"
      },
      {
        "duration": 102,
        "start_time": "2021-09-04T07:37:16.574Z"
      },
      {
        "duration": 17,
        "start_time": "2021-09-04T07:37:16.678Z"
      },
      {
        "duration": 65,
        "start_time": "2021-09-04T07:37:16.697Z"
      },
      {
        "duration": 10,
        "start_time": "2021-09-04T07:37:16.764Z"
      },
      {
        "duration": 299,
        "start_time": "2021-09-04T07:37:16.776Z"
      },
      {
        "duration": 62,
        "start_time": "2021-09-04T07:37:17.077Z"
      },
      {
        "duration": 20,
        "start_time": "2021-09-04T07:37:17.140Z"
      },
      {
        "duration": 148,
        "start_time": "2021-09-04T07:37:17.162Z"
      },
      {
        "duration": 114,
        "start_time": "2021-09-04T07:37:17.312Z"
      },
      {
        "duration": 3,
        "start_time": "2021-09-04T07:37:17.428Z"
      },
      {
        "duration": 98,
        "start_time": "2021-09-04T07:37:17.432Z"
      },
      {
        "duration": 42,
        "start_time": "2021-09-04T07:37:17.532Z"
      },
      {
        "duration": 123,
        "start_time": "2021-09-04T07:37:17.576Z"
      },
      {
        "duration": 12,
        "start_time": "2021-09-04T07:37:17.700Z"
      },
      {
        "duration": 2,
        "start_time": "2021-09-04T07:37:17.715Z"
      },
      {
        "duration": 5239,
        "start_time": "2021-09-04T07:37:17.719Z"
      },
      {
        "duration": 134,
        "start_time": "2021-09-04T07:37:22.959Z"
      },
      {
        "duration": 190,
        "start_time": "2021-09-04T07:37:23.095Z"
      },
      {
        "duration": 14,
        "start_time": "2021-09-04T07:37:23.287Z"
      },
      {
        "duration": 145,
        "start_time": "2021-09-04T07:51:11.490Z"
      },
      {
        "duration": 6,
        "start_time": "2021-09-04T07:52:13.061Z"
      },
      {
        "duration": 25,
        "start_time": "2021-09-04T07:54:59.837Z"
      },
      {
        "duration": 1172,
        "start_time": "2021-09-04T08:07:03.110Z"
      },
      {
        "duration": 745,
        "start_time": "2021-09-04T08:07:04.284Z"
      },
      {
        "duration": 15,
        "start_time": "2021-09-04T08:07:05.031Z"
      },
      {
        "duration": 125,
        "start_time": "2021-09-04T08:07:05.048Z"
      },
      {
        "duration": 4,
        "start_time": "2021-09-04T08:07:05.175Z"
      },
      {
        "duration": 1929,
        "start_time": "2021-09-04T08:07:05.180Z"
      },
      {
        "duration": 29,
        "start_time": "2021-09-04T08:07:07.111Z"
      },
      {
        "duration": 23,
        "start_time": "2021-09-04T08:07:11.724Z"
      },
      {
        "duration": 27,
        "start_time": "2021-09-04T09:24:07.130Z"
      },
      {
        "duration": 35,
        "start_time": "2021-09-04T09:24:11.766Z"
      },
      {
        "duration": 15,
        "start_time": "2021-09-04T09:24:38.600Z"
      },
      {
        "duration": 13,
        "start_time": "2021-09-04T09:24:47.926Z"
      },
      {
        "duration": 20,
        "start_time": "2021-09-04T09:24:58.441Z"
      },
      {
        "duration": 24,
        "start_time": "2021-09-04T09:25:00.547Z"
      },
      {
        "duration": 703,
        "start_time": "2021-09-04T09:25:56.008Z"
      },
      {
        "duration": 227,
        "start_time": "2021-09-04T09:26:23.261Z"
      },
      {
        "duration": 21,
        "start_time": "2021-09-04T09:26:26.905Z"
      },
      {
        "duration": 262,
        "start_time": "2021-09-04T09:29:35.416Z"
      },
      {
        "duration": 3,
        "start_time": "2021-09-04T09:29:38.495Z"
      },
      {
        "duration": 957,
        "start_time": "2021-09-04T09:29:41.197Z"
      },
      {
        "duration": 890,
        "start_time": "2021-09-04T09:31:33.019Z"
      },
      {
        "duration": 1395,
        "start_time": "2021-09-04T09:32:09.055Z"
      },
      {
        "duration": 291,
        "start_time": "2021-09-04T09:32:28.231Z"
      },
      {
        "duration": 951,
        "start_time": "2021-09-04T09:33:31.472Z"
      },
      {
        "duration": 41,
        "start_time": "2021-09-04T09:33:37.507Z"
      },
      {
        "duration": 247,
        "start_time": "2021-09-04T09:44:23.349Z"
      },
      {
        "duration": 252,
        "start_time": "2021-09-04T09:44:50.911Z"
      },
      {
        "duration": 22,
        "start_time": "2021-09-04T09:45:05.453Z"
      },
      {
        "duration": 6205,
        "start_time": "2021-09-04T09:45:15.447Z"
      },
      {
        "duration": 5,
        "start_time": "2021-09-04T09:45:40.273Z"
      },
      {
        "duration": 740,
        "start_time": "2021-09-04T09:45:40.280Z"
      },
      {
        "duration": 12,
        "start_time": "2021-09-04T09:45:41.022Z"
      },
      {
        "duration": 121,
        "start_time": "2021-09-04T09:45:41.036Z"
      },
      {
        "duration": 4,
        "start_time": "2021-09-04T09:45:41.158Z"
      },
      {
        "duration": 1890,
        "start_time": "2021-09-04T09:45:41.164Z"
      },
      {
        "duration": 56,
        "start_time": "2021-09-04T09:45:43.056Z"
      },
      {
        "duration": 394,
        "start_time": "2021-09-04T09:45:43.115Z"
      },
      {
        "duration": 219,
        "start_time": "2021-09-04T09:45:43.511Z"
      },
      {
        "duration": 456,
        "start_time": "2021-09-04T09:45:43.732Z"
      },
      {
        "duration": 198,
        "start_time": "2021-09-04T09:45:44.191Z"
      },
      {
        "duration": 770,
        "start_time": "2021-09-04T09:45:44.391Z"
      },
      {
        "duration": 114,
        "start_time": "2021-09-04T09:45:45.163Z"
      },
      {
        "duration": 18,
        "start_time": "2021-09-04T09:45:45.279Z"
      },
      {
        "duration": 118,
        "start_time": "2021-09-04T09:45:45.299Z"
      },
      {
        "duration": 11,
        "start_time": "2021-09-04T09:45:45.420Z"
      },
      {
        "duration": 289,
        "start_time": "2021-09-04T09:45:45.434Z"
      },
      {
        "duration": 48,
        "start_time": "2021-09-04T09:45:45.725Z"
      },
      {
        "duration": 33,
        "start_time": "2021-09-04T09:45:45.776Z"
      },
      {
        "duration": 144,
        "start_time": "2021-09-04T09:45:45.812Z"
      },
      {
        "duration": 117,
        "start_time": "2021-09-04T09:45:45.958Z"
      },
      {
        "duration": 3,
        "start_time": "2021-09-04T09:45:46.076Z"
      },
      {
        "duration": 95,
        "start_time": "2021-09-04T09:45:46.081Z"
      },
      {
        "duration": 54,
        "start_time": "2021-09-04T09:45:46.178Z"
      },
      {
        "duration": 113,
        "start_time": "2021-09-04T09:45:46.234Z"
      },
      {
        "duration": 13,
        "start_time": "2021-09-04T09:45:46.348Z"
      },
      {
        "duration": 2,
        "start_time": "2021-09-04T09:45:46.362Z"
      },
      {
        "duration": 5350,
        "start_time": "2021-09-04T09:45:46.366Z"
      },
      {
        "duration": 128,
        "start_time": "2021-09-04T09:45:51.718Z"
      },
      {
        "duration": 6,
        "start_time": "2021-09-04T09:45:56.797Z"
      },
      {
        "duration": 133,
        "start_time": "2021-09-04T09:46:02.828Z"
      },
      {
        "duration": 41,
        "start_time": "2021-09-04T09:46:06.996Z"
      },
      {
        "duration": 743,
        "start_time": "2021-09-04T09:46:16.612Z"
      },
      {
        "duration": 360,
        "start_time": "2021-09-04T09:46:18.812Z"
      },
      {
        "duration": 66,
        "start_time": "2021-09-04T09:46:27.006Z"
      },
      {
        "duration": 46,
        "start_time": "2021-09-04T09:46:27.750Z"
      },
      {
        "duration": 15,
        "start_time": "2021-09-04T09:48:41.199Z"
      },
      {
        "duration": 20,
        "start_time": "2021-09-04T09:49:12.301Z"
      },
      {
        "duration": 12,
        "start_time": "2021-09-04T09:49:29.462Z"
      },
      {
        "duration": 104,
        "start_time": "2021-09-04T09:49:42.797Z"
      },
      {
        "duration": 12,
        "start_time": "2021-09-04T09:49:47.867Z"
      },
      {
        "duration": 730,
        "start_time": "2021-09-04T09:49:51.211Z"
      },
      {
        "duration": 28,
        "start_time": "2021-09-04T09:49:56.741Z"
      },
      {
        "duration": 116,
        "start_time": "2021-09-04T09:50:10.275Z"
      },
      {
        "duration": 40,
        "start_time": "2021-09-04T09:50:15.203Z"
      },
      {
        "duration": 91,
        "start_time": "2021-09-04T09:51:12.017Z"
      },
      {
        "duration": 54,
        "start_time": "2021-09-04T09:51:17.010Z"
      },
      {
        "duration": 181,
        "start_time": "2021-09-04T09:51:39.691Z"
      },
      {
        "duration": 56,
        "start_time": "2021-09-04T09:51:40.372Z"
      },
      {
        "duration": 445,
        "start_time": "2021-09-04T09:56:16.665Z"
      },
      {
        "duration": 172,
        "start_time": "2021-09-04T09:56:21.351Z"
      },
      {
        "duration": 44,
        "start_time": "2021-09-04T09:56:24.119Z"
      },
      {
        "duration": 265,
        "start_time": "2021-09-04T09:56:47.584Z"
      },
      {
        "duration": 137,
        "start_time": "2021-09-04T09:56:57.098Z"
      },
      {
        "duration": 95,
        "start_time": "2021-09-04T09:57:17.821Z"
      },
      {
        "duration": 45,
        "start_time": "2021-09-04T09:57:21.779Z"
      },
      {
        "duration": 287,
        "start_time": "2021-09-04T09:57:35.551Z"
      },
      {
        "duration": 1162,
        "start_time": "2021-09-04T09:57:47.271Z"
      },
      {
        "duration": 734,
        "start_time": "2021-09-04T09:57:48.435Z"
      },
      {
        "duration": 21,
        "start_time": "2021-09-04T09:57:49.171Z"
      },
      {
        "duration": 131,
        "start_time": "2021-09-04T09:57:49.195Z"
      },
      {
        "duration": 5,
        "start_time": "2021-09-04T09:57:49.328Z"
      },
      {
        "duration": 2080,
        "start_time": "2021-09-04T09:57:49.335Z"
      },
      {
        "duration": 48,
        "start_time": "2021-09-04T09:57:51.417Z"
      },
      {
        "duration": 468,
        "start_time": "2021-09-04T09:57:51.468Z"
      },
      {
        "duration": 246,
        "start_time": "2021-09-04T09:57:51.939Z"
      },
      {
        "duration": 511,
        "start_time": "2021-09-04T09:57:52.187Z"
      },
      {
        "duration": 202,
        "start_time": "2021-09-04T09:57:52.699Z"
      },
      {
        "duration": 690,
        "start_time": "2021-09-04T09:57:52.903Z"
      },
      {
        "duration": 101,
        "start_time": "2021-09-04T09:57:53.595Z"
      },
      {
        "duration": 8,
        "start_time": "2021-09-04T09:57:53.697Z"
      },
      {
        "duration": 68,
        "start_time": "2021-09-04T09:57:53.707Z"
      },
      {
        "duration": 10,
        "start_time": "2021-09-04T09:57:53.792Z"
      },
      {
        "duration": 313,
        "start_time": "2021-09-04T09:57:53.804Z"
      },
      {
        "duration": 50,
        "start_time": "2021-09-04T09:57:54.119Z"
      },
      {
        "duration": 28,
        "start_time": "2021-09-04T09:57:54.171Z"
      },
      {
        "duration": 160,
        "start_time": "2021-09-04T09:57:54.200Z"
      },
      {
        "duration": 118,
        "start_time": "2021-09-04T09:57:54.362Z"
      },
      {
        "duration": 10,
        "start_time": "2021-09-04T09:57:54.482Z"
      },
      {
        "duration": 108,
        "start_time": "2021-09-04T09:57:54.496Z"
      },
      {
        "duration": 47,
        "start_time": "2021-09-04T09:57:54.606Z"
      },
      {
        "duration": 143,
        "start_time": "2021-09-04T09:57:54.656Z"
      },
      {
        "duration": 14,
        "start_time": "2021-09-04T09:57:54.801Z"
      },
      {
        "duration": 3,
        "start_time": "2021-09-04T09:57:54.816Z"
      },
      {
        "duration": 5474,
        "start_time": "2021-09-04T09:57:54.821Z"
      },
      {
        "duration": 132,
        "start_time": "2021-09-04T09:58:00.297Z"
      },
      {
        "duration": 189,
        "start_time": "2021-09-04T09:58:00.431Z"
      },
      {
        "duration": 3,
        "start_time": "2021-09-04T09:58:00.622Z"
      },
      {
        "duration": 996,
        "start_time": "2021-09-04T09:58:00.627Z"
      },
      {
        "duration": 474,
        "start_time": "2021-09-04T09:58:01.625Z"
      },
      {
        "duration": 439,
        "start_time": "2021-09-04T09:58:02.101Z"
      },
      {
        "duration": 43,
        "start_time": "2021-09-04T10:06:27.964Z"
      },
      {
        "duration": 6,
        "start_time": "2021-09-04T10:07:44.804Z"
      },
      {
        "duration": 323,
        "start_time": "2021-09-04T10:10:16.262Z"
      },
      {
        "duration": 6,
        "start_time": "2021-09-04T10:11:04.421Z"
      },
      {
        "duration": 39,
        "start_time": "2021-09-04T10:11:10.089Z"
      },
      {
        "duration": 256,
        "start_time": "2021-09-04T10:11:59.504Z"
      },
      {
        "duration": 6,
        "start_time": "2021-09-04T10:12:05.687Z"
      },
      {
        "duration": 1216,
        "start_time": "2021-09-04T10:12:49.502Z"
      },
      {
        "duration": 817,
        "start_time": "2021-09-04T10:12:50.720Z"
      },
      {
        "duration": 16,
        "start_time": "2021-09-04T10:12:51.539Z"
      },
      {
        "duration": 131,
        "start_time": "2021-09-04T10:12:51.557Z"
      },
      {
        "duration": 6,
        "start_time": "2021-09-04T10:12:51.692Z"
      },
      {
        "duration": 2262,
        "start_time": "2021-09-04T10:12:51.700Z"
      },
      {
        "duration": 60,
        "start_time": "2021-09-04T10:12:53.964Z"
      },
      {
        "duration": 443,
        "start_time": "2021-09-04T10:12:54.027Z"
      },
      {
        "duration": 252,
        "start_time": "2021-09-04T10:12:54.472Z"
      },
      {
        "duration": 520,
        "start_time": "2021-09-04T10:12:54.727Z"
      },
      {
        "duration": 218,
        "start_time": "2021-09-04T10:12:55.249Z"
      },
      {
        "duration": 710,
        "start_time": "2021-09-04T10:12:55.469Z"
      },
      {
        "duration": 102,
        "start_time": "2021-09-04T10:12:56.181Z"
      },
      {
        "duration": 14,
        "start_time": "2021-09-04T10:12:56.285Z"
      },
      {
        "duration": 74,
        "start_time": "2021-09-04T10:12:56.300Z"
      },
      {
        "duration": 26,
        "start_time": "2021-09-04T10:12:56.375Z"
      },
      {
        "duration": 319,
        "start_time": "2021-09-04T10:12:56.403Z"
      },
      {
        "duration": 48,
        "start_time": "2021-09-04T10:12:56.724Z"
      },
      {
        "duration": 35,
        "start_time": "2021-09-04T10:12:56.774Z"
      },
      {
        "duration": 143,
        "start_time": "2021-09-04T10:12:56.811Z"
      },
      {
        "duration": 115,
        "start_time": "2021-09-04T10:12:56.955Z"
      },
      {
        "duration": 4,
        "start_time": "2021-09-04T10:12:57.072Z"
      },
      {
        "duration": 99,
        "start_time": "2021-09-04T10:12:57.093Z"
      },
      {
        "duration": 52,
        "start_time": "2021-09-04T10:12:57.196Z"
      },
      {
        "duration": 141,
        "start_time": "2021-09-04T10:12:57.250Z"
      },
      {
        "duration": 16,
        "start_time": "2021-09-04T10:12:57.393Z"
      },
      {
        "duration": 3,
        "start_time": "2021-09-04T10:12:57.411Z"
      },
      {
        "duration": 5911,
        "start_time": "2021-09-04T10:12:57.416Z"
      },
      {
        "duration": 2,
        "start_time": "2021-09-04T10:13:03.329Z"
      },
      {
        "duration": 965,
        "start_time": "2021-09-04T10:13:03.333Z"
      },
      {
        "duration": 522,
        "start_time": "2021-09-04T10:13:04.300Z"
      },
      {
        "duration": 256,
        "start_time": "2021-09-04T10:13:04.824Z"
      },
      {
        "duration": 215,
        "start_time": "2021-09-04T10:19:01.604Z"
      },
      {
        "duration": 812,
        "start_time": "2021-09-04T10:19:29.428Z"
      },
      {
        "duration": 274,
        "start_time": "2021-09-04T10:20:50.913Z"
      },
      {
        "duration": 17,
        "start_time": "2021-09-04T10:21:53.372Z"
      },
      {
        "duration": 196,
        "start_time": "2021-09-04T10:23:03.266Z"
      },
      {
        "duration": 16,
        "start_time": "2021-09-04T10:23:06.850Z"
      },
      {
        "duration": 1253,
        "start_time": "2021-09-04T10:23:22.263Z"
      },
      {
        "duration": 841,
        "start_time": "2021-09-04T10:23:23.518Z"
      },
      {
        "duration": 18,
        "start_time": "2021-09-04T10:23:24.361Z"
      },
      {
        "duration": 141,
        "start_time": "2021-09-04T10:23:24.392Z"
      },
      {
        "duration": 5,
        "start_time": "2021-09-04T10:23:24.534Z"
      },
      {
        "duration": 2488,
        "start_time": "2021-09-04T10:23:24.541Z"
      },
      {
        "duration": 71,
        "start_time": "2021-09-04T10:23:27.031Z"
      },
      {
        "duration": 597,
        "start_time": "2021-09-04T10:23:27.106Z"
      },
      {
        "duration": 256,
        "start_time": "2021-09-04T10:23:27.708Z"
      },
      {
        "duration": 513,
        "start_time": "2021-09-04T10:23:27.967Z"
      },
      {
        "duration": 217,
        "start_time": "2021-09-04T10:23:28.482Z"
      },
      {
        "duration": 716,
        "start_time": "2021-09-04T10:23:28.700Z"
      },
      {
        "duration": 100,
        "start_time": "2021-09-04T10:23:29.418Z"
      },
      {
        "duration": 8,
        "start_time": "2021-09-04T10:23:29.520Z"
      },
      {
        "duration": 89,
        "start_time": "2021-09-04T10:23:29.529Z"
      },
      {
        "duration": 9,
        "start_time": "2021-09-04T10:23:29.620Z"
      },
      {
        "duration": 310,
        "start_time": "2021-09-04T10:23:29.631Z"
      },
      {
        "duration": 59,
        "start_time": "2021-09-04T10:23:29.943Z"
      },
      {
        "duration": 24,
        "start_time": "2021-09-04T10:23:30.004Z"
      },
      {
        "duration": 217,
        "start_time": "2021-09-04T10:23:30.030Z"
      },
      {
        "duration": 209,
        "start_time": "2021-09-04T10:23:30.249Z"
      },
      {
        "duration": 4,
        "start_time": "2021-09-04T10:23:30.460Z"
      },
      {
        "duration": 280,
        "start_time": "2021-09-04T10:23:30.468Z"
      },
      {
        "duration": 203,
        "start_time": "2021-09-04T10:23:30.750Z"
      },
      {
        "duration": 16,
        "start_time": "2021-09-04T10:23:30.955Z"
      },
      {
        "duration": 22,
        "start_time": "2021-09-04T10:23:30.973Z"
      },
      {
        "duration": 5834,
        "start_time": "2021-09-04T10:23:30.997Z"
      },
      {
        "duration": 3,
        "start_time": "2021-09-04T10:23:36.833Z"
      },
      {
        "duration": 822,
        "start_time": "2021-09-04T10:23:36.838Z"
      },
      {
        "duration": 11,
        "start_time": "2021-09-04T10:23:37.661Z"
      },
      {
        "duration": 1160,
        "start_time": "2021-09-04T10:24:51.435Z"
      },
      {
        "duration": 737,
        "start_time": "2021-09-04T10:24:52.597Z"
      },
      {
        "duration": 19,
        "start_time": "2021-09-04T10:24:53.336Z"
      },
      {
        "duration": 136,
        "start_time": "2021-09-04T10:24:53.357Z"
      },
      {
        "duration": 5,
        "start_time": "2021-09-04T10:24:53.494Z"
      },
      {
        "duration": 1949,
        "start_time": "2021-09-04T10:24:53.500Z"
      },
      {
        "duration": 55,
        "start_time": "2021-09-04T10:24:55.450Z"
      },
      {
        "duration": 412,
        "start_time": "2021-09-04T10:24:55.507Z"
      },
      {
        "duration": 233,
        "start_time": "2021-09-04T10:24:55.921Z"
      },
      {
        "duration": 507,
        "start_time": "2021-09-04T10:24:56.156Z"
      },
      {
        "duration": 199,
        "start_time": "2021-09-04T10:24:56.665Z"
      },
      {
        "duration": 663,
        "start_time": "2021-09-04T10:24:56.866Z"
      },
      {
        "duration": 99,
        "start_time": "2021-09-04T10:24:57.531Z"
      },
      {
        "duration": 9,
        "start_time": "2021-09-04T10:24:57.632Z"
      },
      {
        "duration": 78,
        "start_time": "2021-09-04T10:24:57.642Z"
      },
      {
        "duration": 10,
        "start_time": "2021-09-04T10:24:57.722Z"
      },
      {
        "duration": 290,
        "start_time": "2021-09-04T10:24:57.734Z"
      },
      {
        "duration": 48,
        "start_time": "2021-09-04T10:24:58.026Z"
      },
      {
        "duration": 32,
        "start_time": "2021-09-04T10:24:58.076Z"
      },
      {
        "duration": 141,
        "start_time": "2021-09-04T10:24:58.110Z"
      },
      {
        "duration": 113,
        "start_time": "2021-09-04T10:24:58.252Z"
      },
      {
        "duration": 4,
        "start_time": "2021-09-04T10:24:58.367Z"
      },
      {
        "duration": 190,
        "start_time": "2021-09-04T10:24:58.375Z"
      },
      {
        "duration": 120,
        "start_time": "2021-09-04T10:24:58.567Z"
      },
      {
        "duration": 13,
        "start_time": "2021-09-04T10:24:58.691Z"
      },
      {
        "duration": 3,
        "start_time": "2021-09-04T10:24:58.705Z"
      },
      {
        "duration": 5599,
        "start_time": "2021-09-04T10:24:58.710Z"
      },
      {
        "duration": 4,
        "start_time": "2021-09-04T10:25:04.311Z"
      },
      {
        "duration": 724,
        "start_time": "2021-09-04T10:25:04.317Z"
      },
      {
        "duration": 17,
        "start_time": "2021-09-04T10:25:05.043Z"
      },
      {
        "duration": 377,
        "start_time": "2021-09-04T10:25:15.140Z"
      },
      {
        "duration": 239,
        "start_time": "2021-09-04T10:36:57.557Z"
      },
      {
        "duration": 17,
        "start_time": "2021-09-04T10:37:30.805Z"
      },
      {
        "duration": 3,
        "start_time": "2021-09-04T10:38:22.901Z"
      },
      {
        "duration": 837,
        "start_time": "2021-09-04T10:38:23.373Z"
      },
      {
        "duration": 723,
        "start_time": "2021-09-04T10:38:24.212Z"
      },
      {
        "duration": 273,
        "start_time": "2021-09-04T10:39:09.861Z"
      },
      {
        "duration": 1179,
        "start_time": "2021-09-04T10:40:27.216Z"
      },
      {
        "duration": 803,
        "start_time": "2021-09-04T10:40:28.397Z"
      },
      {
        "duration": 19,
        "start_time": "2021-09-04T10:40:29.202Z"
      },
      {
        "duration": 135,
        "start_time": "2021-09-04T10:40:29.224Z"
      },
      {
        "duration": 4,
        "start_time": "2021-09-04T10:40:29.361Z"
      },
      {
        "duration": 2117,
        "start_time": "2021-09-04T10:40:29.367Z"
      },
      {
        "duration": 50,
        "start_time": "2021-09-04T10:40:31.491Z"
      },
      {
        "duration": 449,
        "start_time": "2021-09-04T10:40:31.543Z"
      },
      {
        "duration": 241,
        "start_time": "2021-09-04T10:40:31.995Z"
      },
      {
        "duration": 518,
        "start_time": "2021-09-04T10:40:32.237Z"
      },
      {
        "duration": 210,
        "start_time": "2021-09-04T10:40:32.757Z"
      },
      {
        "duration": 701,
        "start_time": "2021-09-04T10:40:32.968Z"
      },
      {
        "duration": 99,
        "start_time": "2021-09-04T10:40:33.671Z"
      },
      {
        "duration": 8,
        "start_time": "2021-09-04T10:40:33.772Z"
      },
      {
        "duration": 71,
        "start_time": "2021-09-04T10:40:33.792Z"
      },
      {
        "duration": 10,
        "start_time": "2021-09-04T10:40:33.864Z"
      },
      {
        "duration": 315,
        "start_time": "2021-09-04T10:40:33.876Z"
      },
      {
        "duration": 49,
        "start_time": "2021-09-04T10:40:34.193Z"
      },
      {
        "duration": 18,
        "start_time": "2021-09-04T10:40:34.244Z"
      },
      {
        "duration": 156,
        "start_time": "2021-09-04T10:40:34.264Z"
      },
      {
        "duration": 117,
        "start_time": "2021-09-04T10:40:34.422Z"
      },
      {
        "duration": 12,
        "start_time": "2021-09-04T10:40:34.541Z"
      },
      {
        "duration": 2,
        "start_time": "2021-09-04T10:40:34.556Z"
      },
      {
        "duration": 6306,
        "start_time": "2021-09-04T10:40:34.560Z"
      },
      {
        "duration": 3,
        "start_time": "2021-09-04T10:40:40.867Z"
      },
      {
        "duration": 203,
        "start_time": "2021-09-04T10:40:40.872Z"
      },
      {
        "duration": 115,
        "start_time": "2021-09-04T10:40:41.077Z"
      },
      {
        "duration": 5,
        "start_time": "2021-09-04T10:40:41.194Z"
      },
      {
        "duration": 877,
        "start_time": "2021-09-04T10:40:41.203Z"
      },
      {
        "duration": 441,
        "start_time": "2021-09-04T10:40:42.082Z"
      },
      {
        "duration": 4,
        "start_time": "2021-09-04T10:41:38.351Z"
      },
      {
        "duration": 241,
        "start_time": "2021-09-04T10:41:38.757Z"
      },
      {
        "duration": 121,
        "start_time": "2021-09-04T10:41:39.065Z"
      },
      {
        "duration": 3,
        "start_time": "2021-09-04T10:41:39.319Z"
      },
      {
        "duration": 758,
        "start_time": "2021-09-04T10:41:39.714Z"
      },
      {
        "duration": 1049,
        "start_time": "2021-09-04T10:41:40.474Z"
      },
      {
        "duration": 16,
        "start_time": "2021-09-04T10:42:42.744Z"
      },
      {
        "duration": 22,
        "start_time": "2021-09-04T10:42:50.513Z"
      },
      {
        "duration": 1163,
        "start_time": "2021-09-04T10:43:23.348Z"
      },
      {
        "duration": 264,
        "start_time": "2021-09-04T10:43:41.964Z"
      },
      {
        "duration": 1366,
        "start_time": "2021-09-04T10:43:54.874Z"
      },
      {
        "duration": 245,
        "start_time": "2021-09-04T10:44:07.942Z"
      },
      {
        "duration": 4,
        "start_time": "2021-09-04T10:44:39.631Z"
      },
      {
        "duration": 235,
        "start_time": "2021-09-04T10:44:40.104Z"
      },
      {
        "duration": 18,
        "start_time": "2021-09-04T10:44:40.412Z"
      },
      {
        "duration": 130,
        "start_time": "2021-09-04T10:44:40.609Z"
      },
      {
        "duration": 3,
        "start_time": "2021-09-04T10:44:40.849Z"
      },
      {
        "duration": 877,
        "start_time": "2021-09-04T10:44:41.352Z"
      },
      {
        "duration": 1059,
        "start_time": "2021-09-04T10:44:42.231Z"
      },
      {
        "duration": 1127,
        "start_time": "2021-09-04T10:52:34.833Z"
      },
      {
        "duration": 1141,
        "start_time": "2021-09-04T10:52:42.711Z"
      },
      {
        "duration": 1368,
        "start_time": "2021-09-04T10:53:23.117Z"
      },
      {
        "duration": 641,
        "start_time": "2021-09-04T10:54:42.164Z"
      },
      {
        "duration": 355,
        "start_time": "2021-09-04T10:55:19.532Z"
      },
      {
        "duration": 44,
        "start_time": "2021-09-04T10:55:27.315Z"
      },
      {
        "duration": 44,
        "start_time": "2021-09-04T10:55:36.169Z"
      },
      {
        "duration": 45,
        "start_time": "2021-09-04T10:55:49.644Z"
      },
      {
        "duration": 1534,
        "start_time": "2021-09-04T10:56:47.982Z"
      },
      {
        "duration": 1106,
        "start_time": "2021-09-04T10:56:49.518Z"
      },
      {
        "duration": 18,
        "start_time": "2021-09-04T10:56:50.627Z"
      },
      {
        "duration": 169,
        "start_time": "2021-09-04T10:56:50.647Z"
      },
      {
        "duration": 5,
        "start_time": "2021-09-04T10:56:50.818Z"
      },
      {
        "duration": 2305,
        "start_time": "2021-09-04T10:56:50.825Z"
      },
      {
        "duration": 58,
        "start_time": "2021-09-04T10:56:53.133Z"
      },
      {
        "duration": 435,
        "start_time": "2021-09-04T10:56:53.195Z"
      },
      {
        "duration": 285,
        "start_time": "2021-09-04T10:56:53.633Z"
      },
      {
        "duration": 535,
        "start_time": "2021-09-04T10:56:53.920Z"
      },
      {
        "duration": 223,
        "start_time": "2021-09-04T10:56:54.457Z"
      },
      {
        "duration": 697,
        "start_time": "2021-09-04T10:56:54.681Z"
      },
      {
        "duration": 97,
        "start_time": "2021-09-04T10:56:55.381Z"
      },
      {
        "duration": 12,
        "start_time": "2021-09-04T10:56:55.480Z"
      },
      {
        "duration": 72,
        "start_time": "2021-09-04T10:56:55.495Z"
      },
      {
        "duration": 22,
        "start_time": "2021-09-04T10:56:55.569Z"
      },
      {
        "duration": 298,
        "start_time": "2021-09-04T10:56:55.593Z"
      },
      {
        "duration": 51,
        "start_time": "2021-09-04T10:56:55.893Z"
      },
      {
        "duration": 19,
        "start_time": "2021-09-04T10:56:55.946Z"
      },
      {
        "duration": 168,
        "start_time": "2021-09-04T10:56:55.967Z"
      },
      {
        "duration": 118,
        "start_time": "2021-09-04T10:56:56.137Z"
      },
      {
        "duration": 11,
        "start_time": "2021-09-04T10:56:56.257Z"
      },
      {
        "duration": 22,
        "start_time": "2021-09-04T10:56:56.271Z"
      },
      {
        "duration": 6312,
        "start_time": "2021-09-04T10:56:56.295Z"
      },
      {
        "duration": 2,
        "start_time": "2021-09-04T10:57:02.609Z"
      },
      {
        "duration": 312,
        "start_time": "2021-09-04T10:57:02.613Z"
      },
      {
        "duration": 523,
        "start_time": "2021-09-04T10:57:02.928Z"
      },
      {
        "duration": -121,
        "start_time": "2021-09-04T10:57:03.574Z"
      },
      {
        "duration": -122,
        "start_time": "2021-09-04T10:57:03.577Z"
      },
      {
        "duration": -125,
        "start_time": "2021-09-04T10:57:03.581Z"
      },
      {
        "duration": -126,
        "start_time": "2021-09-04T10:57:03.583Z"
      },
      {
        "duration": -127,
        "start_time": "2021-09-04T10:57:03.585Z"
      },
      {
        "duration": 112,
        "start_time": "2021-09-04T11:10:20.848Z"
      },
      {
        "duration": 3,
        "start_time": "2021-09-04T11:10:21.456Z"
      },
      {
        "duration": 1092,
        "start_time": "2021-09-04T11:10:21.935Z"
      },
      {
        "duration": 588,
        "start_time": "2021-09-04T11:10:23.029Z"
      },
      {
        "duration": 425,
        "start_time": "2021-09-04T11:10:26.608Z"
      },
      {
        "duration": 597,
        "start_time": "2021-09-04T11:11:58.663Z"
      },
      {
        "duration": 606,
        "start_time": "2021-09-04T11:50:44.957Z"
      },
      {
        "duration": 902,
        "start_time": "2021-09-04T11:52:42.989Z"
      },
      {
        "duration": 6,
        "start_time": "2021-09-04T11:54:28.872Z"
      },
      {
        "duration": 3,
        "start_time": "2021-09-04T12:29:59.210Z"
      },
      {
        "duration": 5,
        "start_time": "2021-09-04T12:35:04.385Z"
      },
      {
        "duration": 7,
        "start_time": "2021-09-04T12:35:08.812Z"
      },
      {
        "duration": 6,
        "start_time": "2021-09-04T12:35:18.694Z"
      },
      {
        "duration": 4,
        "start_time": "2021-09-04T12:35:25.478Z"
      },
      {
        "duration": 446,
        "start_time": "2021-09-04T12:36:48.714Z"
      },
      {
        "duration": 37,
        "start_time": "2021-09-04T12:37:22.501Z"
      },
      {
        "duration": 5,
        "start_time": "2021-09-04T12:37:34.146Z"
      },
      {
        "duration": 4,
        "start_time": "2021-09-04T12:37:34.211Z"
      },
      {
        "duration": 5,
        "start_time": "2021-09-04T12:37:47.456Z"
      },
      {
        "duration": 37,
        "start_time": "2021-09-04T12:37:53.197Z"
      },
      {
        "duration": 5,
        "start_time": "2021-09-04T12:38:04.239Z"
      },
      {
        "duration": 4,
        "start_time": "2021-09-04T12:38:04.314Z"
      },
      {
        "duration": 2112,
        "start_time": "2021-09-04T12:38:12.541Z"
      },
      {
        "duration": 5,
        "start_time": "2021-09-04T12:38:14.655Z"
      },
      {
        "duration": 20742,
        "start_time": "2021-09-04T12:38:21.262Z"
      },
      {
        "duration": 1961,
        "start_time": "2021-09-04T12:39:58.891Z"
      },
      {
        "duration": 20927,
        "start_time": "2021-09-04T12:40:35.971Z"
      },
      {
        "duration": 21143,
        "start_time": "2021-09-04T12:41:42.354Z"
      },
      {
        "duration": 5,
        "start_time": "2021-09-04T12:44:08.385Z"
      },
      {
        "duration": 15500,
        "start_time": "2021-09-04T12:44:59.998Z"
      },
      {
        "duration": 17548,
        "start_time": "2021-09-04T12:48:10.959Z"
      },
      {
        "duration": 269,
        "start_time": "2021-09-04T12:50:47.951Z"
      },
      {
        "duration": 7,
        "start_time": "2021-09-04T12:51:17.666Z"
      },
      {
        "duration": 231,
        "start_time": "2021-09-04T12:51:23.629Z"
      },
      {
        "duration": 3,
        "start_time": "2021-09-04T12:51:30.467Z"
      },
      {
        "duration": 1488,
        "start_time": "2021-09-05T11:08:15.193Z"
      },
      {
        "duration": 1149,
        "start_time": "2021-09-05T11:08:16.684Z"
      },
      {
        "duration": 31,
        "start_time": "2021-09-05T11:08:17.836Z"
      },
      {
        "duration": 179,
        "start_time": "2021-09-05T11:08:17.870Z"
      },
      {
        "duration": 6,
        "start_time": "2021-09-05T11:08:18.055Z"
      },
      {
        "duration": 3180,
        "start_time": "2021-09-05T11:08:18.064Z"
      },
      {
        "duration": 74,
        "start_time": "2021-09-05T11:08:21.246Z"
      },
      {
        "duration": 581,
        "start_time": "2021-09-05T11:08:21.323Z"
      },
      {
        "duration": 356,
        "start_time": "2021-09-05T11:08:21.907Z"
      },
      {
        "duration": 765,
        "start_time": "2021-09-05T11:08:22.266Z"
      },
      {
        "duration": 348,
        "start_time": "2021-09-05T11:08:23.034Z"
      },
      {
        "duration": 1275,
        "start_time": "2021-09-05T11:08:23.385Z"
      },
      {
        "duration": 155,
        "start_time": "2021-09-05T11:08:24.663Z"
      },
      {
        "duration": 13,
        "start_time": "2021-09-05T11:08:24.821Z"
      },
      {
        "duration": 114,
        "start_time": "2021-09-05T11:08:24.854Z"
      },
      {
        "duration": 13,
        "start_time": "2021-09-05T11:08:24.970Z"
      },
      {
        "duration": 488,
        "start_time": "2021-09-05T11:08:24.986Z"
      },
      {
        "duration": 93,
        "start_time": "2021-09-05T11:08:25.477Z"
      },
      {
        "duration": 25,
        "start_time": "2021-09-05T11:08:25.572Z"
      },
      {
        "duration": 204,
        "start_time": "2021-09-05T11:08:25.600Z"
      },
      {
        "duration": 153,
        "start_time": "2021-09-05T11:08:25.807Z"
      },
      {
        "duration": 19,
        "start_time": "2021-09-05T11:08:25.963Z"
      },
      {
        "duration": 3,
        "start_time": "2021-09-05T11:08:25.989Z"
      },
      {
        "duration": 10071,
        "start_time": "2021-09-05T11:08:25.995Z"
      },
      {
        "duration": 3,
        "start_time": "2021-09-05T11:08:36.068Z"
      },
      {
        "duration": 272,
        "start_time": "2021-09-05T11:08:36.073Z"
      },
      {
        "duration": 180,
        "start_time": "2021-09-05T11:08:36.347Z"
      },
      {
        "duration": 4,
        "start_time": "2021-09-05T11:08:36.529Z"
      },
      {
        "duration": 1112,
        "start_time": "2021-09-05T11:08:36.535Z"
      },
      {
        "duration": 811,
        "start_time": "2021-09-05T11:08:37.650Z"
      },
      {
        "duration": 439,
        "start_time": "2021-09-05T11:08:38.463Z"
      },
      {
        "duration": 2975,
        "start_time": "2021-09-05T11:08:38.904Z"
      },
      {
        "duration": 6,
        "start_time": "2021-09-05T11:08:41.882Z"
      },
      {
        "duration": 7,
        "start_time": "2021-09-05T11:08:41.890Z"
      },
      {
        "duration": 23457,
        "start_time": "2021-09-05T11:08:41.899Z"
      },
      {
        "duration": 23396,
        "start_time": "2021-09-05T11:09:05.360Z"
      },
      {
        "duration": 16397,
        "start_time": "2021-09-05T11:09:28.759Z"
      },
      {
        "duration": 16602,
        "start_time": "2021-09-05T11:09:45.160Z"
      },
      {
        "duration": 6,
        "start_time": "2021-09-05T11:38:22.695Z"
      },
      {
        "duration": 7,
        "start_time": "2021-09-05T11:38:49.092Z"
      },
      {
        "duration": 4,
        "start_time": "2021-09-05T11:42:04.556Z"
      },
      {
        "duration": 395,
        "start_time": "2021-09-05T11:45:58.691Z"
      },
      {
        "duration": 5,
        "start_time": "2021-09-05T11:46:12.339Z"
      },
      {
        "duration": 3,
        "start_time": "2021-09-05T11:46:37.885Z"
      },
      {
        "duration": 5,
        "start_time": "2021-09-05T11:47:43.058Z"
      },
      {
        "duration": 2034,
        "start_time": "2021-09-05T11:48:14.868Z"
      },
      {
        "duration": 4,
        "start_time": "2021-09-05T11:51:43.554Z"
      },
      {
        "duration": 3,
        "start_time": "2021-09-05T11:51:48.999Z"
      },
      {
        "duration": 4,
        "start_time": "2021-09-05T11:51:59.046Z"
      },
      {
        "duration": 4,
        "start_time": "2021-09-05T11:52:00.293Z"
      },
      {
        "duration": 5,
        "start_time": "2021-09-05T11:52:00.412Z"
      },
      {
        "duration": 2019,
        "start_time": "2021-09-05T11:52:01.253Z"
      },
      {
        "duration": 4,
        "start_time": "2021-09-05T11:54:20.636Z"
      },
      {
        "duration": 3,
        "start_time": "2021-09-05T11:54:26.405Z"
      },
      {
        "duration": 5,
        "start_time": "2021-09-05T11:54:26.923Z"
      },
      {
        "duration": 5,
        "start_time": "2021-09-05T11:54:27.492Z"
      },
      {
        "duration": 2069,
        "start_time": "2021-09-05T11:54:28.133Z"
      },
      {
        "duration": 84,
        "start_time": "2021-09-05T11:55:17.158Z"
      },
      {
        "duration": 4,
        "start_time": "2021-09-05T11:55:52.179Z"
      },
      {
        "duration": 4,
        "start_time": "2021-09-05T11:56:14.003Z"
      },
      {
        "duration": 19791915,
        "start_time": "2021-09-05T11:56:14.592Z"
      },
      {
        "duration": -1007,
        "start_time": "2021-09-05T17:26:07.517Z"
      },
      {
        "duration": -1013,
        "start_time": "2021-09-05T17:26:07.524Z"
      },
      {
        "duration": -1016,
        "start_time": "2021-09-05T17:26:07.529Z"
      },
      {
        "duration": 5,
        "start_time": "2021-09-05T17:26:39.595Z"
      },
      {
        "duration": 4,
        "start_time": "2021-09-05T17:26:40.532Z"
      },
      {
        "duration": 4,
        "start_time": "2021-09-05T17:59:28.277Z"
      },
      {
        "duration": 4,
        "start_time": "2021-09-05T17:59:36.331Z"
      },
      {
        "duration": 5,
        "start_time": "2021-09-05T17:59:41.195Z"
      },
      {
        "duration": 5,
        "start_time": "2021-09-05T18:00:09.232Z"
      },
      {
        "duration": 7096,
        "start_time": "2021-09-05T18:00:27.340Z"
      },
      {
        "duration": 1698,
        "start_time": "2021-09-05T18:00:50.781Z"
      },
      {
        "duration": 1204,
        "start_time": "2021-09-05T18:00:52.481Z"
      },
      {
        "duration": 25,
        "start_time": "2021-09-05T18:00:53.688Z"
      },
      {
        "duration": 187,
        "start_time": "2021-09-05T18:00:53.716Z"
      },
      {
        "duration": 7,
        "start_time": "2021-09-05T18:00:53.905Z"
      },
      {
        "duration": 3439,
        "start_time": "2021-09-05T18:00:53.914Z"
      },
      {
        "duration": 81,
        "start_time": "2021-09-05T18:00:57.356Z"
      },
      {
        "duration": 666,
        "start_time": "2021-09-05T18:00:57.441Z"
      },
      {
        "duration": 361,
        "start_time": "2021-09-05T18:00:58.110Z"
      },
      {
        "duration": 708,
        "start_time": "2021-09-05T18:00:58.473Z"
      },
      {
        "duration": 343,
        "start_time": "2021-09-05T18:00:59.184Z"
      },
      {
        "duration": 1284,
        "start_time": "2021-09-05T18:00:59.529Z"
      },
      {
        "duration": 167,
        "start_time": "2021-09-05T18:01:00.816Z"
      },
      {
        "duration": 11,
        "start_time": "2021-09-05T18:01:00.986Z"
      },
      {
        "duration": 127,
        "start_time": "2021-09-05T18:01:01.000Z"
      },
      {
        "duration": 29,
        "start_time": "2021-09-05T18:01:01.130Z"
      },
      {
        "duration": 518,
        "start_time": "2021-09-05T18:01:01.162Z"
      },
      {
        "duration": 98,
        "start_time": "2021-09-05T18:01:01.684Z"
      },
      {
        "duration": 26,
        "start_time": "2021-09-05T18:01:01.785Z"
      },
      {
        "duration": 221,
        "start_time": "2021-09-05T18:01:01.814Z"
      },
      {
        "duration": 174,
        "start_time": "2021-09-05T18:01:02.038Z"
      },
      {
        "duration": 19,
        "start_time": "2021-09-05T18:01:02.215Z"
      },
      {
        "duration": 7,
        "start_time": "2021-09-05T18:01:02.257Z"
      },
      {
        "duration": 10335,
        "start_time": "2021-09-05T18:01:02.267Z"
      },
      {
        "duration": 4,
        "start_time": "2021-09-05T18:01:12.605Z"
      },
      {
        "duration": 276,
        "start_time": "2021-09-05T18:01:12.611Z"
      },
      {
        "duration": 184,
        "start_time": "2021-09-05T18:01:12.889Z"
      },
      {
        "duration": 5,
        "start_time": "2021-09-05T18:01:13.076Z"
      },
      {
        "duration": 1551,
        "start_time": "2021-09-05T18:01:13.083Z"
      },
      {
        "duration": 1306,
        "start_time": "2021-09-05T18:01:14.636Z"
      },
      {
        "duration": 431,
        "start_time": "2021-09-05T18:01:15.953Z"
      },
      {
        "duration": 3111,
        "start_time": "2021-09-05T18:01:16.386Z"
      },
      {
        "duration": 6,
        "start_time": "2021-09-05T18:01:19.500Z"
      },
      {
        "duration": 20,
        "start_time": "2021-09-05T18:01:19.509Z"
      },
      {
        "duration": 27228,
        "start_time": "2021-09-05T18:01:19.532Z"
      },
      {
        "duration": 28602,
        "start_time": "2021-09-05T18:01:46.775Z"
      },
      {
        "duration": 20194,
        "start_time": "2021-09-05T18:02:15.380Z"
      },
      {
        "duration": 19691,
        "start_time": "2021-09-05T18:02:35.576Z"
      },
      {
        "duration": 5,
        "start_time": "2021-09-05T18:02:55.271Z"
      },
      {
        "duration": 109,
        "start_time": "2021-09-05T18:02:55.356Z"
      },
      {
        "duration": 13,
        "start_time": "2021-09-05T18:02:55.468Z"
      },
      {
        "duration": 31,
        "start_time": "2021-09-05T18:02:55.484Z"
      },
      {
        "duration": 21589,
        "start_time": "2021-09-05T18:02:55.517Z"
      },
      {
        "duration": 4,
        "start_time": "2021-09-05T18:07:42.826Z"
      },
      {
        "duration": 3,
        "start_time": "2021-09-05T18:07:43.578Z"
      },
      {
        "duration": 4,
        "start_time": "2021-09-05T18:07:44.210Z"
      },
      {
        "duration": 286,
        "start_time": "2021-09-05T18:07:47.165Z"
      },
      {
        "duration": 21342,
        "start_time": "2021-09-05T18:08:06.765Z"
      },
      {
        "duration": 5,
        "start_time": "2021-09-05T18:08:43.841Z"
      },
      {
        "duration": 21458,
        "start_time": "2021-09-05T18:08:46.826Z"
      },
      {
        "duration": 6,
        "start_time": "2021-09-05T18:09:19.751Z"
      },
      {
        "duration": 6775843,
        "start_time": "2021-09-05T18:09:20.302Z"
      },
      {
        "duration": 18,
        "start_time": "2021-09-05T20:05:19.807Z"
      },
      {
        "duration": 93,
        "start_time": "2021-09-05T20:05:59.038Z"
      },
      {
        "duration": 5,
        "start_time": "2021-09-05T20:06:02.344Z"
      },
      {
        "duration": 6,
        "start_time": "2021-09-05T20:06:29.412Z"
      },
      {
        "duration": 5,
        "start_time": "2021-09-05T20:07:36.982Z"
      },
      {
        "duration": 5,
        "start_time": "2021-09-05T20:07:55.612Z"
      },
      {
        "duration": 6,
        "start_time": "2021-09-05T20:07:57.916Z"
      },
      {
        "duration": 41465,
        "start_time": "2021-09-05T20:08:02.820Z"
      },
      {
        "duration": 5,
        "start_time": "2021-09-05T20:09:02.276Z"
      },
      {
        "duration": 5,
        "start_time": "2021-09-05T20:09:03.550Z"
      },
      {
        "duration": 1529,
        "start_time": "2021-09-05T20:22:45.871Z"
      },
      {
        "duration": 1145,
        "start_time": "2021-09-05T20:22:47.404Z"
      },
      {
        "duration": 31,
        "start_time": "2021-09-05T20:22:48.551Z"
      },
      {
        "duration": 210,
        "start_time": "2021-09-05T20:22:48.586Z"
      },
      {
        "duration": 6,
        "start_time": "2021-09-05T20:22:48.798Z"
      },
      {
        "duration": 3354,
        "start_time": "2021-09-05T20:22:48.807Z"
      },
      {
        "duration": 69,
        "start_time": "2021-09-05T20:22:52.165Z"
      },
      {
        "duration": 622,
        "start_time": "2021-09-05T20:22:52.254Z"
      },
      {
        "duration": 344,
        "start_time": "2021-09-05T20:22:52.880Z"
      },
      {
        "duration": 743,
        "start_time": "2021-09-05T20:22:53.227Z"
      },
      {
        "duration": 397,
        "start_time": "2021-09-05T20:22:53.973Z"
      },
      {
        "duration": 1175,
        "start_time": "2021-09-05T20:22:54.373Z"
      },
      {
        "duration": 159,
        "start_time": "2021-09-05T20:22:55.550Z"
      },
      {
        "duration": 13,
        "start_time": "2021-09-05T20:22:55.712Z"
      },
      {
        "duration": 138,
        "start_time": "2021-09-05T20:22:55.727Z"
      },
      {
        "duration": 14,
        "start_time": "2021-09-05T20:22:55.868Z"
      },
      {
        "duration": 517,
        "start_time": "2021-09-05T20:22:55.885Z"
      },
      {
        "duration": 88,
        "start_time": "2021-09-05T20:22:56.405Z"
      },
      {
        "duration": 23,
        "start_time": "2021-09-05T20:22:56.495Z"
      },
      {
        "duration": 218,
        "start_time": "2021-09-05T20:22:56.521Z"
      },
      {
        "duration": 160,
        "start_time": "2021-09-05T20:22:56.741Z"
      },
      {
        "duration": 17,
        "start_time": "2021-09-05T20:22:56.903Z"
      },
      {
        "duration": 4,
        "start_time": "2021-09-05T20:22:56.922Z"
      },
      {
        "duration": 10202,
        "start_time": "2021-09-05T20:22:56.928Z"
      },
      {
        "duration": 5,
        "start_time": "2021-09-05T20:23:07.132Z"
      },
      {
        "duration": 283,
        "start_time": "2021-09-05T20:23:07.144Z"
      },
      {
        "duration": 213,
        "start_time": "2021-09-05T20:23:07.430Z"
      },
      {
        "duration": 13,
        "start_time": "2021-09-05T20:23:07.645Z"
      },
      {
        "duration": 1538,
        "start_time": "2021-09-05T20:23:07.661Z"
      },
      {
        "duration": 857,
        "start_time": "2021-09-05T20:23:09.201Z"
      },
      {
        "duration": 431,
        "start_time": "2021-09-05T20:23:10.062Z"
      },
      {
        "duration": 3117,
        "start_time": "2021-09-05T20:23:10.496Z"
      },
      {
        "duration": 5,
        "start_time": "2021-09-05T20:23:13.615Z"
      },
      {
        "duration": 24,
        "start_time": "2021-09-05T20:23:13.622Z"
      },
      {
        "duration": 27612,
        "start_time": "2021-09-05T20:23:13.648Z"
      },
      {
        "duration": 26995,
        "start_time": "2021-09-05T20:23:41.267Z"
      },
      {
        "duration": 19892,
        "start_time": "2021-09-05T20:24:08.270Z"
      },
      {
        "duration": 16505,
        "start_time": "2021-09-05T20:24:28.256Z"
      },
      {
        "duration": 93,
        "start_time": "2021-09-05T20:24:44.764Z"
      },
      {
        "duration": 8,
        "start_time": "2021-09-05T20:24:44.859Z"
      },
      {
        "duration": 7,
        "start_time": "2021-09-05T20:24:44.869Z"
      },
      {
        "duration": 95,
        "start_time": "2021-09-05T20:24:44.879Z"
      },
      {
        "duration": 1188,
        "start_time": "2021-09-06T06:06:31.127Z"
      },
      {
        "duration": 907,
        "start_time": "2021-09-06T06:06:32.318Z"
      },
      {
        "duration": 15,
        "start_time": "2021-09-06T06:06:33.227Z"
      },
      {
        "duration": 131,
        "start_time": "2021-09-06T06:06:33.244Z"
      },
      {
        "duration": 5,
        "start_time": "2021-09-06T06:06:33.376Z"
      },
      {
        "duration": 2019,
        "start_time": "2021-09-06T06:06:33.382Z"
      },
      {
        "duration": 52,
        "start_time": "2021-09-06T06:06:35.402Z"
      },
      {
        "duration": 445,
        "start_time": "2021-09-06T06:06:35.456Z"
      },
      {
        "duration": 249,
        "start_time": "2021-09-06T06:06:35.903Z"
      },
      {
        "duration": 516,
        "start_time": "2021-09-06T06:06:36.153Z"
      },
      {
        "duration": 197,
        "start_time": "2021-09-06T06:06:36.670Z"
      },
      {
        "duration": 688,
        "start_time": "2021-09-06T06:06:36.868Z"
      },
      {
        "duration": 111,
        "start_time": "2021-09-06T06:06:37.558Z"
      },
      {
        "duration": 8,
        "start_time": "2021-09-06T06:06:37.671Z"
      },
      {
        "duration": 73,
        "start_time": "2021-09-06T06:06:37.680Z"
      },
      {
        "duration": 9,
        "start_time": "2021-09-06T06:06:37.755Z"
      },
      {
        "duration": 301,
        "start_time": "2021-09-06T06:06:37.765Z"
      },
      {
        "duration": 67,
        "start_time": "2021-09-06T06:06:38.067Z"
      },
      {
        "duration": 20,
        "start_time": "2021-09-06T06:06:38.136Z"
      },
      {
        "duration": 144,
        "start_time": "2021-09-06T06:06:38.158Z"
      },
      {
        "duration": 114,
        "start_time": "2021-09-06T06:06:38.304Z"
      },
      {
        "duration": 11,
        "start_time": "2021-09-06T06:06:38.420Z"
      },
      {
        "duration": 2,
        "start_time": "2021-09-06T06:06:38.435Z"
      },
      {
        "duration": 5367,
        "start_time": "2021-09-06T06:06:38.439Z"
      },
      {
        "duration": 3,
        "start_time": "2021-09-06T06:06:43.808Z"
      },
      {
        "duration": 198,
        "start_time": "2021-09-06T06:06:43.812Z"
      },
      {
        "duration": 126,
        "start_time": "2021-09-06T06:06:44.012Z"
      },
      {
        "duration": 3,
        "start_time": "2021-09-06T06:06:44.139Z"
      },
      {
        "duration": 1181,
        "start_time": "2021-09-06T06:06:44.144Z"
      },
      {
        "duration": 648,
        "start_time": "2021-09-06T06:06:45.327Z"
      },
      {
        "duration": 418,
        "start_time": "2021-09-06T06:06:45.976Z"
      },
      {
        "duration": 2107,
        "start_time": "2021-09-06T06:06:46.395Z"
      },
      {
        "duration": 4,
        "start_time": "2021-09-06T06:06:48.504Z"
      },
      {
        "duration": 12,
        "start_time": "2021-09-06T06:06:48.510Z"
      },
      {
        "duration": 21969,
        "start_time": "2021-09-06T06:06:48.524Z"
      },
      {
        "duration": 21400,
        "start_time": "2021-09-06T06:07:10.495Z"
      },
      {
        "duration": 13402,
        "start_time": "2021-09-06T06:07:31.897Z"
      },
      {
        "duration": 13508,
        "start_time": "2021-09-06T06:07:45.392Z"
      },
      {
        "duration": 4,
        "start_time": "2021-09-06T06:18:06.857Z"
      },
      {
        "duration": 361,
        "start_time": "2021-09-06T06:18:08.741Z"
      },
      {
        "duration": 3,
        "start_time": "2021-09-06T06:18:14.183Z"
      },
      {
        "duration": 2,
        "start_time": "2021-09-06T06:18:14.773Z"
      },
      {
        "duration": 4,
        "start_time": "2021-09-06T06:18:15.347Z"
      },
      {
        "duration": 4,
        "start_time": "2021-09-06T06:18:16.166Z"
      },
      {
        "duration": 1948110,
        "start_time": "2021-09-06T06:18:24.444Z"
      },
      {
        "duration": 237,
        "start_time": "2021-09-06T06:50:52.556Z"
      },
      {
        "duration": 19458,
        "start_time": "2021-09-06T06:50:33.337Z"
      },
      {
        "duration": 4,
        "start_time": "2021-09-06T06:51:10.603Z"
      },
      {
        "duration": 4,
        "start_time": "2021-09-06T06:51:12.399Z"
      },
      {
        "duration": 1417437,
        "start_time": "2021-09-06T06:51:15.442Z"
      },
      {
        "duration": 11,
        "start_time": "2021-09-06T07:14:52.881Z"
      },
      {
        "duration": 6,
        "start_time": "2021-09-06T07:14:52.894Z"
      },
      {
        "duration": 283,
        "start_time": "2021-09-06T07:17:42.051Z"
      },
      {
        "duration": 5,
        "start_time": "2021-09-06T07:33:03.420Z"
      },
      {
        "duration": 35209,
        "start_time": "2021-09-06T07:36:33.215Z"
      },
      {
        "duration": 4,
        "start_time": "2021-09-06T07:38:32.360Z"
      },
      {
        "duration": 461,
        "start_time": "2021-09-06T07:39:42.291Z"
      },
      {
        "duration": 11,
        "start_time": "2021-09-06T07:42:28.557Z"
      },
      {
        "duration": 414,
        "start_time": "2021-09-06T07:42:34.133Z"
      },
      {
        "duration": 4,
        "start_time": "2021-09-06T07:42:49.879Z"
      },
      {
        "duration": 4,
        "start_time": "2021-09-06T07:42:52.861Z"
      },
      {
        "duration": 111683,
        "start_time": "2021-09-06T07:42:57.652Z"
      },
      {
        "duration": 4,
        "start_time": "2021-09-06T07:45:04.527Z"
      },
      {
        "duration": 118,
        "start_time": "2021-09-06T07:45:08.440Z"
      },
      {
        "duration": 4,
        "start_time": "2021-09-06T07:46:34.468Z"
      },
      {
        "duration": 402,
        "start_time": "2021-09-06T07:51:43.470Z"
      },
      {
        "duration": 7,
        "start_time": "2021-09-06T07:52:02.037Z"
      },
      {
        "duration": 129096,
        "start_time": "2021-09-06T07:52:07.705Z"
      },
      {
        "duration": 4,
        "start_time": "2021-09-06T07:54:39.197Z"
      },
      {
        "duration": 4,
        "start_time": "2021-09-06T07:54:51.787Z"
      },
      {
        "duration": 6,
        "start_time": "2021-09-06T08:04:48.300Z"
      },
      {
        "duration": 88649,
        "start_time": "2021-09-06T08:05:28.643Z"
      },
      {
        "duration": 88505,
        "start_time": "2021-09-06T08:07:57.287Z"
      },
      {
        "duration": 726,
        "start_time": "2021-09-06T08:13:47.894Z"
      },
      {
        "duration": 112682,
        "start_time": "2021-09-06T08:14:07.511Z"
      },
      {
        "duration": 115308,
        "start_time": "2021-09-06T08:16:00.196Z"
      },
      {
        "duration": 6,
        "start_time": "2021-09-06T08:24:25.798Z"
      },
      {
        "duration": 36,
        "start_time": "2021-09-06T08:24:53.510Z"
      },
      {
        "duration": 7,
        "start_time": "2021-09-06T08:26:13.673Z"
      },
      {
        "duration": 70887,
        "start_time": "2021-09-06T08:27:57.010Z"
      },
      {
        "duration": 111016,
        "start_time": "2021-09-06T08:29:51.684Z"
      },
      {
        "duration": 6,
        "start_time": "2021-09-06T08:41:18.157Z"
      },
      {
        "duration": 6,
        "start_time": "2021-09-06T08:41:25.893Z"
      },
      {
        "duration": 6,
        "start_time": "2021-09-06T08:44:00.673Z"
      },
      {
        "duration": 302581,
        "start_time": "2021-09-06T08:45:13.378Z"
      },
      {
        "duration": 1060,
        "start_time": "2021-09-06T08:52:46.366Z"
      },
      {
        "duration": 15111,
        "start_time": "2021-09-06T08:53:16.085Z"
      },
      {
        "duration": 61103,
        "start_time": "2021-09-06T08:54:31.048Z"
      },
      {
        "duration": 38605,
        "start_time": "2021-09-06T09:00:13.895Z"
      },
      {
        "duration": 6903,
        "start_time": "2021-09-06T09:02:42.401Z"
      },
      {
        "duration": 195804,
        "start_time": "2021-09-06T09:02:53.156Z"
      },
      {
        "duration": 95309,
        "start_time": "2021-09-06T09:12:38.906Z"
      },
      {
        "duration": 473762,
        "start_time": "2021-09-06T09:14:14.217Z"
      },
      {
        "duration": 3,
        "start_time": "2021-09-06T09:24:54.688Z"
      },
      {
        "duration": 3,
        "start_time": "2021-09-06T09:24:59.576Z"
      },
      {
        "duration": 7823404,
        "start_time": "2021-09-06T09:25:04.575Z"
      },
      {
        "duration": 713155,
        "start_time": "2021-09-06T11:35:27.981Z"
      },
      {
        "duration": 806,
        "start_time": "2021-09-06T11:47:21.138Z"
      },
      {
        "duration": 4587,
        "start_time": "2021-09-06T11:47:21.945Z"
      },
      {
        "duration": 4,
        "start_time": "2021-09-06T11:47:33.832Z"
      },
      {
        "duration": 4,
        "start_time": "2021-09-06T11:47:40.003Z"
      },
      {
        "duration": 4,
        "start_time": "2021-09-06T11:48:27.289Z"
      },
      {
        "duration": 4,
        "start_time": "2021-09-06T11:48:31.178Z"
      },
      {
        "duration": 1272,
        "start_time": "2021-09-06T11:48:34.227Z"
      },
      {
        "duration": 3,
        "start_time": "2021-09-06T11:48:57.348Z"
      },
      {
        "duration": 3,
        "start_time": "2021-09-06T11:49:00.189Z"
      },
      {
        "duration": 2226218,
        "start_time": "2021-09-06T11:49:05.711Z"
      },
      {
        "duration": 4,
        "start_time": "2021-09-06T12:29:33.612Z"
      },
      {
        "duration": 4,
        "start_time": "2021-09-06T12:29:49.767Z"
      },
      {
        "duration": 373596,
        "start_time": "2021-09-06T12:38:45.195Z"
      },
      {
        "duration": 1427,
        "start_time": "2021-09-06T12:50:46.708Z"
      },
      {
        "duration": 838,
        "start_time": "2021-09-06T12:50:48.137Z"
      },
      {
        "duration": 23,
        "start_time": "2021-09-06T12:50:48.977Z"
      },
      {
        "duration": 135,
        "start_time": "2021-09-06T12:50:49.002Z"
      },
      {
        "duration": 4,
        "start_time": "2021-09-06T12:50:49.138Z"
      },
      {
        "duration": 2064,
        "start_time": "2021-09-06T12:50:49.144Z"
      },
      {
        "duration": 50,
        "start_time": "2021-09-06T12:50:51.210Z"
      },
      {
        "duration": 468,
        "start_time": "2021-09-06T12:50:51.263Z"
      },
      {
        "duration": 259,
        "start_time": "2021-09-06T12:50:51.733Z"
      },
      {
        "duration": 529,
        "start_time": "2021-09-06T12:50:51.994Z"
      },
      {
        "duration": 278,
        "start_time": "2021-09-06T12:50:52.525Z"
      },
      {
        "duration": 955,
        "start_time": "2021-09-06T12:50:52.805Z"
      },
      {
        "duration": 112,
        "start_time": "2021-09-06T12:50:53.762Z"
      },
      {
        "duration": 16,
        "start_time": "2021-09-06T12:50:53.875Z"
      },
      {
        "duration": 69,
        "start_time": "2021-09-06T12:50:53.893Z"
      },
      {
        "duration": 9,
        "start_time": "2021-09-06T12:50:53.964Z"
      },
      {
        "duration": 331,
        "start_time": "2021-09-06T12:50:53.993Z"
      },
      {
        "duration": 65,
        "start_time": "2021-09-06T12:50:54.326Z"
      },
      {
        "duration": 21,
        "start_time": "2021-09-06T12:50:54.393Z"
      },
      {
        "duration": 166,
        "start_time": "2021-09-06T12:50:54.416Z"
      },
      {
        "duration": 120,
        "start_time": "2021-09-06T12:50:54.583Z"
      },
      {
        "duration": 11,
        "start_time": "2021-09-06T12:50:54.705Z"
      },
      {
        "duration": 3,
        "start_time": "2021-09-06T12:50:54.720Z"
      },
      {
        "duration": 5970,
        "start_time": "2021-09-06T12:50:54.725Z"
      },
      {
        "duration": 4,
        "start_time": "2021-09-06T12:51:00.697Z"
      },
      {
        "duration": 233,
        "start_time": "2021-09-06T12:51:00.703Z"
      },
      {
        "duration": 146,
        "start_time": "2021-09-06T12:51:00.938Z"
      },
      {
        "duration": 5,
        "start_time": "2021-09-06T12:51:01.086Z"
      },
      {
        "duration": 1611,
        "start_time": "2021-09-06T12:51:01.093Z"
      },
      {
        "duration": 740,
        "start_time": "2021-09-06T12:51:02.706Z"
      },
      {
        "duration": 432,
        "start_time": "2021-09-06T12:51:03.448Z"
      },
      {
        "duration": 2098,
        "start_time": "2021-09-06T12:51:03.882Z"
      },
      {
        "duration": 4,
        "start_time": "2021-09-06T12:51:05.981Z"
      },
      {
        "duration": 23,
        "start_time": "2021-09-06T12:51:05.992Z"
      },
      {
        "duration": 23073,
        "start_time": "2021-09-06T12:51:06.017Z"
      },
      {
        "duration": 1110,
        "start_time": "2021-09-06T12:51:29.095Z"
      },
      {
        "duration": 20185,
        "start_time": "2021-09-06T12:51:10.022Z"
      },
      {
        "duration": 20179,
        "start_time": "2021-09-06T12:51:10.029Z"
      },
      {
        "duration": 20171,
        "start_time": "2021-09-06T12:51:10.037Z"
      },
      {
        "duration": 20165,
        "start_time": "2021-09-06T12:51:10.044Z"
      },
      {
        "duration": 19917,
        "start_time": "2021-09-06T12:51:10.293Z"
      },
      {
        "duration": 19910,
        "start_time": "2021-09-06T12:51:10.301Z"
      },
      {
        "duration": 22199,
        "start_time": "2021-09-06T12:51:38.594Z"
      },
      {
        "duration": 23604,
        "start_time": "2021-09-06T12:52:00.796Z"
      },
      {
        "duration": 14297,
        "start_time": "2021-09-06T12:52:24.497Z"
      },
      {
        "duration": 16498,
        "start_time": "2021-09-06T12:52:38.797Z"
      },
      {
        "duration": 95,
        "start_time": "2021-09-06T12:52:55.297Z"
      },
      {
        "duration": 3,
        "start_time": "2021-09-06T12:53:32.631Z"
      },
      {
        "duration": 3,
        "start_time": "2021-09-06T12:54:27.126Z"
      },
      {
        "duration": 1880413,
        "start_time": "2021-09-06T12:54:52.571Z"
      },
      {
        "duration": 7,
        "start_time": "2021-09-06T13:45:13.091Z"
      },
      {
        "duration": 7,
        "start_time": "2021-09-06T13:45:37.934Z"
      },
      {
        "duration": 3,
        "start_time": "2021-09-06T13:56:35.701Z"
      },
      {
        "duration": 929245,
        "start_time": "2021-09-06T13:56:37.868Z"
      },
      {
        "duration": 1630,
        "start_time": "2021-09-06T14:13:05.875Z"
      },
      {
        "duration": 806,
        "start_time": "2021-09-06T14:13:07.507Z"
      },
      {
        "duration": 19,
        "start_time": "2021-09-06T14:13:08.315Z"
      },
      {
        "duration": 128,
        "start_time": "2021-09-06T14:13:08.335Z"
      },
      {
        "duration": 4,
        "start_time": "2021-09-06T14:13:08.465Z"
      },
      {
        "duration": 2052,
        "start_time": "2021-09-06T14:13:08.471Z"
      },
      {
        "duration": 51,
        "start_time": "2021-09-06T14:13:10.526Z"
      },
      {
        "duration": 449,
        "start_time": "2021-09-06T14:13:10.580Z"
      },
      {
        "duration": 249,
        "start_time": "2021-09-06T14:13:11.032Z"
      },
      {
        "duration": 521,
        "start_time": "2021-09-06T14:13:11.283Z"
      },
      {
        "duration": 217,
        "start_time": "2021-09-06T14:13:11.806Z"
      },
      {
        "duration": 734,
        "start_time": "2021-09-06T14:13:12.025Z"
      },
      {
        "duration": 115,
        "start_time": "2021-09-06T14:13:12.761Z"
      },
      {
        "duration": 17,
        "start_time": "2021-09-06T14:13:12.878Z"
      },
      {
        "duration": 70,
        "start_time": "2021-09-06T14:13:12.897Z"
      },
      {
        "duration": 22,
        "start_time": "2021-09-06T14:13:12.969Z"
      },
      {
        "duration": 304,
        "start_time": "2021-09-06T14:13:12.994Z"
      },
      {
        "duration": 54,
        "start_time": "2021-09-06T14:13:13.299Z"
      },
      {
        "duration": 38,
        "start_time": "2021-09-06T14:13:13.355Z"
      },
      {
        "duration": 153,
        "start_time": "2021-09-06T14:13:13.395Z"
      },
      {
        "duration": 13,
        "start_time": "2021-09-06T14:13:13.550Z"
      },
      {
        "duration": 3,
        "start_time": "2021-09-06T14:13:13.565Z"
      },
      {
        "duration": 5619,
        "start_time": "2021-09-06T14:13:13.571Z"
      },
      {
        "duration": 175,
        "start_time": "2021-09-06T14:13:19.192Z"
      },
      {
        "duration": 2,
        "start_time": "2021-09-06T14:13:19.369Z"
      },
      {
        "duration": 215,
        "start_time": "2021-09-06T14:13:19.373Z"
      },
      {
        "duration": 124,
        "start_time": "2021-09-06T14:13:19.589Z"
      },
      {
        "duration": 3,
        "start_time": "2021-09-06T14:13:19.715Z"
      },
      {
        "duration": 2633,
        "start_time": "2021-09-06T14:13:19.720Z"
      },
      {
        "duration": 282,
        "start_time": "2021-09-06T14:13:22.354Z"
      },
      {
        "duration": 478,
        "start_time": "2021-09-06T14:13:22.638Z"
      },
      {
        "duration": 1917,
        "start_time": "2021-09-06T14:13:23.118Z"
      },
      {
        "duration": 5,
        "start_time": "2021-09-06T14:13:25.037Z"
      },
      {
        "duration": 18,
        "start_time": "2021-09-06T14:13:25.043Z"
      },
      {
        "duration": 51529,
        "start_time": "2021-09-06T14:13:25.063Z"
      },
      {
        "duration": 31500,
        "start_time": "2021-09-06T14:14:16.594Z"
      },
      {
        "duration": 37,
        "start_time": "2021-09-06T14:15:25.287Z"
      },
      {
        "duration": 27,
        "start_time": "2021-09-06T14:15:55.433Z"
      },
      {
        "duration": 85,
        "start_time": "2021-09-06T14:16:11.366Z"
      },
      {
        "duration": 155241,
        "start_time": "2021-09-06T14:17:16.528Z"
      },
      {
        "duration": 3,
        "start_time": "2021-09-06T14:21:37.528Z"
      },
      {
        "duration": 1445,
        "start_time": "2021-09-06T14:21:38.529Z"
      },
      {
        "duration": 252,
        "start_time": "2021-09-06T14:21:39.976Z"
      },
      {
        "duration": 259,
        "start_time": "2021-09-06T14:21:43.184Z"
      },
      {
        "duration": 1024,
        "start_time": "2021-09-06T14:21:45.899Z"
      },
      {
        "duration": 4,
        "start_time": "2021-09-06T14:21:46.926Z"
      },
      {
        "duration": 3,
        "start_time": "2021-09-06T14:21:48.955Z"
      },
      {
        "duration": 22982,
        "start_time": "2021-09-06T14:21:49.609Z"
      }
    ],
    "colab": {
      "collapsed_sections": [],
      "name": "car_price.ipynb",
      "provenance": []
    },
    "kernelspec": {
      "display_name": "Python 3",
      "language": "python",
      "name": "python3"
    },
    "language_info": {
      "codemirror_mode": {
        "name": "ipython",
        "version": 3
      },
      "file_extension": ".py",
      "mimetype": "text/x-python",
      "name": "python",
      "nbconvert_exporter": "python",
      "pygments_lexer": "ipython3",
      "version": "3.7.8"
    },
    "toc": {
      "base_numbering": 1,
      "nav_menu": {},
      "number_sections": true,
      "sideBar": true,
      "skip_h1_title": true,
      "title_cell": "Table of Contents",
      "title_sidebar": "Contents",
      "toc_cell": false,
      "toc_position": {},
      "toc_section_display": true,
      "toc_window_display": true
    }
  },
  "nbformat": 4,
  "nbformat_minor": 0
}