{
  "cells": [
    {
      "cell_type": "markdown",
      "metadata": {
        "id": "view-in-github",
        "colab_type": "text"
      },
      "source": [
        "<a href=\"https://colab.research.google.com/github/Andrey-Kharlamov/yandex_praktikum/blob/main/%D0%9E%D0%BF%D1%80%D0%B5%D0%B4%D0%B5%D0%BB%D0%B5%D0%BD%D0%B8%D0%B5%20%D1%82%D0%BE%D0%BA%D1%81%D0%B8%D1%87%D0%BD%D1%8B%D1%85%20%D0%BA%D0%BE%D0%BC%D0%BC%D0%B5%D0%BD%D1%82%D0%B0%D1%80%D0%B8%D0%B5%D0%B2/toxic_comments.ipynb\" target=\"_parent\"><img src=\"https://colab.research.google.com/assets/colab-badge.svg\" alt=\"Open In Colab\"/></a>"
      ]
    },
    {
      "cell_type": "markdown",
      "metadata": {
        "id": "0W77Ye5PRWfg"
      },
      "source": [
        "# Токсичные комментарии"
      ]
    },
    {
      "cell_type": "markdown",
      "metadata": {
        "id": "vNl_LxorRWfh"
      },
      "source": [
        "Интернет-магазин «Викишоп» запускает новый сервис. Теперь пользователи могут редактировать и дополнять описания товаров, как в вики-сообществах. То есть клиенты предлагают свои правки и комментируют изменения других. Магазину нужен инструмент, который будет искать токсичные комментарии и отправлять их на модерацию. \n",
        "\n",
        "Требуется обучить модель классифицировать комментарии на позитивные и негативные. Для выполнения этой задачи имеется набор данных с разметкой о токсичности правок.\n",
        "\n",
        "Задача: Постройте модель со значением метрики качества *F1* не меньше 0.75. \n",
        "\n",
        "**Описание данных**\n",
        "\n",
        "Данные находятся в файле `toxic_comments.csv`. Столбец *text* в нём содержит текст комментария, а *toxic* — целевой признак."
      ]
    },
    {
      "cell_type": "markdown",
      "metadata": {
        "id": "6E5qhjWFRWfi"
      },
      "source": [
        "## Подготовка"
      ]
    },
    {
      "cell_type": "markdown",
      "metadata": {
        "id": "tlE_JaM8RWfj"
      },
      "source": [
        "Импорт оснвных библиотек и открытие файла"
      ]
    },
    {
      "cell_type": "code",
      "execution_count": 1,
      "metadata": {
        "colab": {
          "base_uri": "https://localhost:8080/"
        },
        "id": "EU5s5epNRWfk",
        "outputId": "aabc984f-6b94-45e4-b16f-0a8dec0213e6"
      },
      "outputs": [
        {
          "output_type": "stream",
          "name": "stdout",
          "text": [
            "[nltk_data] Downloading package stopwords to /root/nltk_data...\n",
            "[nltk_data]   Package stopwords is already up-to-date!\n",
            "[nltk_data] Downloading package punkt to /root/nltk_data...\n",
            "[nltk_data]   Package punkt is already up-to-date!\n"
          ]
        }
      ],
      "source": [
        "import pandas as pd\n",
        "import numpy as np\n",
        "import re \n",
        "\n",
        "from sklearn.feature_extraction.text import CountVectorizer\n",
        "import nltk\n",
        "nltk.download('stopwords')\n",
        "nltk.download('punkt')\n",
        "from nltk.corpus import stopwords\n",
        "from nltk.tokenize import word_tokenize\n",
        "\n",
        "from nltk.stem.lancaster import LancasterStemmer\n",
        "\n",
        "from sklearn.feature_extraction.text import TfidfVectorizer\n",
        "from sklearn.linear_model import LogisticRegression\n",
        "from sklearn.metrics import f1_score\n",
        "from sklearn.model_selection import train_test_split\n",
        "from sklearn.ensemble import RandomForestClassifier\n",
        "from sklearn.model_selection import GridSearchCV\n",
        "from sklearn.model_selection import cross_val_score\n",
        "from sklearn.svm import LinearSVC\n",
        "\n",
        "\n",
        "import tqdm\n"
      ]
    },
    {
      "cell_type": "code",
      "execution_count": 2,
      "metadata": {
        "colab": {
          "base_uri": "https://localhost:8080/",
          "height": 206
        },
        "id": "oOomFks-TL9A",
        "outputId": "c3e6fbe0-15c5-4c45-d24b-fc85f85832da"
      },
      "outputs": [
        {
          "output_type": "execute_result",
          "data": {
            "text/plain": [
              "                                                text  toxic\n",
              "0  Explanation\\nWhy the edits made under my usern...      0\n",
              "1  D'aww! He matches this background colour I'm s...      0\n",
              "2  Hey man, I'm really not trying to edit war. It...      0\n",
              "3  \"\\nMore\\nI can't make any real suggestions on ...      0\n",
              "4  You, sir, are my hero. Any chance you remember...      0"
            ],
            "text/html": [
              "\n",
              "  <div id=\"df-fdcbda73-a4b8-441b-9ec9-7b9127548275\">\n",
              "    <div class=\"colab-df-container\">\n",
              "      <div>\n",
              "<style scoped>\n",
              "    .dataframe tbody tr th:only-of-type {\n",
              "        vertical-align: middle;\n",
              "    }\n",
              "\n",
              "    .dataframe tbody tr th {\n",
              "        vertical-align: top;\n",
              "    }\n",
              "\n",
              "    .dataframe thead th {\n",
              "        text-align: right;\n",
              "    }\n",
              "</style>\n",
              "<table border=\"1\" class=\"dataframe\">\n",
              "  <thead>\n",
              "    <tr style=\"text-align: right;\">\n",
              "      <th></th>\n",
              "      <th>text</th>\n",
              "      <th>toxic</th>\n",
              "    </tr>\n",
              "  </thead>\n",
              "  <tbody>\n",
              "    <tr>\n",
              "      <th>0</th>\n",
              "      <td>Explanation\\nWhy the edits made under my usern...</td>\n",
              "      <td>0</td>\n",
              "    </tr>\n",
              "    <tr>\n",
              "      <th>1</th>\n",
              "      <td>D'aww! He matches this background colour I'm s...</td>\n",
              "      <td>0</td>\n",
              "    </tr>\n",
              "    <tr>\n",
              "      <th>2</th>\n",
              "      <td>Hey man, I'm really not trying to edit war. It...</td>\n",
              "      <td>0</td>\n",
              "    </tr>\n",
              "    <tr>\n",
              "      <th>3</th>\n",
              "      <td>\"\\nMore\\nI can't make any real suggestions on ...</td>\n",
              "      <td>0</td>\n",
              "    </tr>\n",
              "    <tr>\n",
              "      <th>4</th>\n",
              "      <td>You, sir, are my hero. Any chance you remember...</td>\n",
              "      <td>0</td>\n",
              "    </tr>\n",
              "  </tbody>\n",
              "</table>\n",
              "</div>\n",
              "      <button class=\"colab-df-convert\" onclick=\"convertToInteractive('df-fdcbda73-a4b8-441b-9ec9-7b9127548275')\"\n",
              "              title=\"Convert this dataframe to an interactive table.\"\n",
              "              style=\"display:none;\">\n",
              "        \n",
              "  <svg xmlns=\"http://www.w3.org/2000/svg\" height=\"24px\"viewBox=\"0 0 24 24\"\n",
              "       width=\"24px\">\n",
              "    <path d=\"M0 0h24v24H0V0z\" fill=\"none\"/>\n",
              "    <path d=\"M18.56 5.44l.94 2.06.94-2.06 2.06-.94-2.06-.94-.94-2.06-.94 2.06-2.06.94zm-11 1L8.5 8.5l.94-2.06 2.06-.94-2.06-.94L8.5 2.5l-.94 2.06-2.06.94zm10 10l.94 2.06.94-2.06 2.06-.94-2.06-.94-.94-2.06-.94 2.06-2.06.94z\"/><path d=\"M17.41 7.96l-1.37-1.37c-.4-.4-.92-.59-1.43-.59-.52 0-1.04.2-1.43.59L10.3 9.45l-7.72 7.72c-.78.78-.78 2.05 0 2.83L4 21.41c.39.39.9.59 1.41.59.51 0 1.02-.2 1.41-.59l7.78-7.78 2.81-2.81c.8-.78.8-2.07 0-2.86zM5.41 20L4 18.59l7.72-7.72 1.47 1.35L5.41 20z\"/>\n",
              "  </svg>\n",
              "      </button>\n",
              "      \n",
              "  <style>\n",
              "    .colab-df-container {\n",
              "      display:flex;\n",
              "      flex-wrap:wrap;\n",
              "      gap: 12px;\n",
              "    }\n",
              "\n",
              "    .colab-df-convert {\n",
              "      background-color: #E8F0FE;\n",
              "      border: none;\n",
              "      border-radius: 50%;\n",
              "      cursor: pointer;\n",
              "      display: none;\n",
              "      fill: #1967D2;\n",
              "      height: 32px;\n",
              "      padding: 0 0 0 0;\n",
              "      width: 32px;\n",
              "    }\n",
              "\n",
              "    .colab-df-convert:hover {\n",
              "      background-color: #E2EBFA;\n",
              "      box-shadow: 0px 1px 2px rgba(60, 64, 67, 0.3), 0px 1px 3px 1px rgba(60, 64, 67, 0.15);\n",
              "      fill: #174EA6;\n",
              "    }\n",
              "\n",
              "    [theme=dark] .colab-df-convert {\n",
              "      background-color: #3B4455;\n",
              "      fill: #D2E3FC;\n",
              "    }\n",
              "\n",
              "    [theme=dark] .colab-df-convert:hover {\n",
              "      background-color: #434B5C;\n",
              "      box-shadow: 0px 1px 3px 1px rgba(0, 0, 0, 0.15);\n",
              "      filter: drop-shadow(0px 1px 2px rgba(0, 0, 0, 0.3));\n",
              "      fill: #FFFFFF;\n",
              "    }\n",
              "  </style>\n",
              "\n",
              "      <script>\n",
              "        const buttonEl =\n",
              "          document.querySelector('#df-fdcbda73-a4b8-441b-9ec9-7b9127548275 button.colab-df-convert');\n",
              "        buttonEl.style.display =\n",
              "          google.colab.kernel.accessAllowed ? 'block' : 'none';\n",
              "\n",
              "        async function convertToInteractive(key) {\n",
              "          const element = document.querySelector('#df-fdcbda73-a4b8-441b-9ec9-7b9127548275');\n",
              "          const dataTable =\n",
              "            await google.colab.kernel.invokeFunction('convertToInteractive',\n",
              "                                                     [key], {});\n",
              "          if (!dataTable) return;\n",
              "\n",
              "          const docLinkHtml = 'Like what you see? Visit the ' +\n",
              "            '<a target=\"_blank\" href=https://colab.research.google.com/notebooks/data_table.ipynb>data table notebook</a>'\n",
              "            + ' to learn more about interactive tables.';\n",
              "          element.innerHTML = '';\n",
              "          dataTable['output_type'] = 'display_data';\n",
              "          await google.colab.output.renderOutput(dataTable, element);\n",
              "          const docLink = document.createElement('div');\n",
              "          docLink.innerHTML = docLinkHtml;\n",
              "          element.appendChild(docLink);\n",
              "        }\n",
              "      </script>\n",
              "    </div>\n",
              "  </div>\n",
              "  "
            ]
          },
          "metadata": {},
          "execution_count": 2
        }
      ],
      "source": [
        "url = 'https://drive.google.com/uc?id=' + 'https://drive.google.com/file/d/18DxwFo9hNZW9ezk7FAfJ08kKIAn0HuY0/view?usp=sharing'.split('/')[-2]\n",
        "data = pd.read_csv(url)\n",
        "data.head()"
      ]
    },
    {
      "cell_type": "code",
      "execution_count": 3,
      "metadata": {
        "colab": {
          "base_uri": "https://localhost:8080/"
        },
        "id": "tEDLuh3BRWfo",
        "outputId": "71255264-246d-4b5b-beb5-e86e7dade869"
      },
      "outputs": [
        {
          "output_type": "stream",
          "name": "stdout",
          "text": [
            "<class 'pandas.core.frame.DataFrame'>\n",
            "RangeIndex: 159571 entries, 0 to 159570\n",
            "Data columns (total 2 columns):\n",
            " #   Column  Non-Null Count   Dtype \n",
            "---  ------  --------------   ----- \n",
            " 0   text    159571 non-null  object\n",
            " 1   toxic   159571 non-null  int64 \n",
            "dtypes: int64(1), object(1)\n",
            "memory usage: 2.4+ MB\n"
          ]
        }
      ],
      "source": [
        "data.info()"
      ]
    },
    {
      "cell_type": "code",
      "execution_count": 4,
      "metadata": {
        "colab": {
          "base_uri": "https://localhost:8080/"
        },
        "id": "QwMIK54IRWfo",
        "outputId": "2aad33ad-499b-4438-d09c-001e11d5e086"
      },
      "outputs": [
        {
          "output_type": "execute_result",
          "data": {
            "text/plain": [
              "0"
            ]
          },
          "metadata": {},
          "execution_count": 4
        }
      ],
      "source": [
        "data['text'].duplicated().sum()"
      ]
    },
    {
      "cell_type": "code",
      "execution_count": 5,
      "metadata": {
        "colab": {
          "base_uri": "https://localhost:8080/"
        },
        "id": "VxtqkxLMRWfp",
        "outputId": "aa3acb33-de82-4db2-c1d6-0f337c357522"
      },
      "outputs": [
        {
          "output_type": "execute_result",
          "data": {
            "text/plain": [
              "0    0.898321\n",
              "1    0.101679\n",
              "Name: toxic, dtype: float64"
            ]
          },
          "metadata": {},
          "execution_count": 5
        }
      ],
      "source": [
        "data['toxic'].value_counts(normalize=True)"
      ]
    },
    {
      "cell_type": "markdown",
      "metadata": {
        "id": "rwAB5nu7RWfq"
      },
      "source": [
        "Создам функцию для подготовки текста"
      ]
    },
    {
      "cell_type": "code",
      "execution_count": 6,
      "metadata": {
        "id": "nzN3N3sBRWfq"
      },
      "outputs": [],
      "source": [
        "def preprocess_text(texts):\n",
        "    stop_words = set(stopwords.words('english'))\n",
        "    regex = re.compile('[^a-z A-Z]')\n",
        "    preprocess_texts = []\n",
        "    \n",
        "    for i in  tqdm.tqdm(range(len(texts))):\n",
        "        text = texts[i].lower()\n",
        "        text = regex.sub(' ', text) #Удаление символов, которые не являются английскими в верехнем/нижнем регистрах\n",
        "        word_tokens = word_tokenize(text) \n",
        "        filtered_sentence = [w for w in word_tokens if not w in stop_words] \n",
        "        preprocess_texts.append( ' '.join(filtered_sentence))\n",
        "    \n",
        "    return preprocess_texts"
      ]
    },
    {
      "cell_type": "code",
      "execution_count": 7,
      "metadata": {
        "id": "Xk13-4jcRWfr"
      },
      "outputs": [],
      "source": [
        "train, test = train_test_split(data, test_size=0.2, stratify=data['toxic'], random_state=12345)\n",
        "\n",
        "train = train.reset_index(drop=True)\n",
        "test = test.reset_index(drop=True)\n"
      ]
    },
    {
      "cell_type": "code",
      "execution_count": 8,
      "metadata": {
        "colab": {
          "base_uri": "https://localhost:8080/"
        },
        "id": "NmuNFuMlRWfr",
        "outputId": "5e6e5d80-6cd4-4b22-916d-2171df5769bf"
      },
      "outputs": [
        {
          "output_type": "stream",
          "name": "stderr",
          "text": [
            "100%|██████████| 127656/127656 [01:05<00:00, 1963.15it/s]\n"
          ]
        }
      ],
      "source": [
        "train['text'] = preprocess_text(train['text'])"
      ]
    },
    {
      "cell_type": "code",
      "execution_count": 9,
      "metadata": {
        "colab": {
          "base_uri": "https://localhost:8080/"
        },
        "id": "_UA4SNTHRWfs",
        "outputId": "a82d8b2a-3fd2-457c-e711-d8394418fb19"
      },
      "outputs": [
        {
          "output_type": "stream",
          "name": "stderr",
          "text": [
            "100%|██████████| 31915/31915 [00:11<00:00, 2685.01it/s]\n"
          ]
        }
      ],
      "source": [
        "test['text'] = preprocess_text(test['text'])"
      ]
    },
    {
      "cell_type": "markdown",
      "metadata": {
        "id": "SkO9PavVRWfs"
      },
      "source": [
        "Функция для стемминга текта"
      ]
    },
    {
      "cell_type": "code",
      "execution_count": 10,
      "metadata": {
        "id": "Vqwm2YR2RWft"
      },
      "outputs": [],
      "source": [
        "def stemming_texts(texts):\n",
        "    st = LancasterStemmer()\n",
        "    stem_text = []\n",
        "    for text in tqdm.tqdm(texts):\n",
        "        word_tokens = word_tokenize(text)\n",
        "        stem_text.append(' '.join([st.stem(word) for word in word_tokens]))\n",
        "    return stem_text"
      ]
    },
    {
      "cell_type": "code",
      "execution_count": 11,
      "metadata": {
        "colab": {
          "base_uri": "https://localhost:8080/"
        },
        "id": "QOcl86lVRWft",
        "outputId": "0ddc3ca2-fe76-41cc-b309-ec60531befa2"
      },
      "outputs": [
        {
          "output_type": "stream",
          "name": "stderr",
          "text": [
            "100%|██████████| 127656/127656 [01:52<00:00, 1137.46it/s]\n"
          ]
        }
      ],
      "source": [
        "train['text'] = stemming_texts(train.text)"
      ]
    },
    {
      "cell_type": "code",
      "execution_count": 12,
      "metadata": {
        "colab": {
          "base_uri": "https://localhost:8080/"
        },
        "id": "kPcEDcRTRWfv",
        "outputId": "55323fdb-8fd8-4dbd-cea2-4193f74cc99d",
        "scrolled": true
      },
      "outputs": [
        {
          "output_type": "stream",
          "name": "stderr",
          "text": [
            "100%|██████████| 31915/31915 [00:28<00:00, 1130.29it/s]\n"
          ]
        }
      ],
      "source": [
        "test['text'] = stemming_texts(test.text)"
      ]
    },
    {
      "cell_type": "code",
      "execution_count": 13,
      "metadata": {
        "id": "CQ95uk6ORWfw"
      },
      "outputs": [],
      "source": [
        "count_vect = CountVectorizer()"
      ]
    },
    {
      "cell_type": "code",
      "execution_count": 14,
      "metadata": {
        "id": "GggPMtepRWfx"
      },
      "outputs": [],
      "source": [
        "features_train_bow = count_vect.fit_transform(train.text)\n",
        "features_test_bow = count_vect.transform(test.text)"
      ]
    },
    {
      "cell_type": "markdown",
      "metadata": {
        "id": "IcwX_pX4RWfx"
      },
      "source": [
        "Векторизация текста для *TF -IDF*"
      ]
    },
    {
      "cell_type": "code",
      "execution_count": 15,
      "metadata": {
        "id": "B0l-rf3ORWfx"
      },
      "outputs": [],
      "source": [
        "vectorizer_tf_idf = TfidfVectorizer()"
      ]
    },
    {
      "cell_type": "code",
      "execution_count": 16,
      "metadata": {
        "id": "352j4FjnRWfy"
      },
      "outputs": [],
      "source": [
        "features_train_tfidf = vectorizer_tf_idf.fit_transform(train.text)\n",
        "features_test_tfidf = vectorizer_tf_idf.transform(test.text)"
      ]
    },
    {
      "cell_type": "markdown",
      "metadata": {
        "id": "k_fmRdXmRWfy"
      },
      "source": [
        "Векторизация текста мешок слов с n-граммой"
      ]
    },
    {
      "cell_type": "code",
      "execution_count": 17,
      "metadata": {
        "id": "dQ29I-3NRWfy"
      },
      "outputs": [],
      "source": [
        "count_vect_bow_ngram = CountVectorizer(ngram_range=(1, 2))"
      ]
    },
    {
      "cell_type": "code",
      "execution_count": 18,
      "metadata": {
        "id": "I40F9L7ORWfy"
      },
      "outputs": [],
      "source": [
        "features_train_bow_ngram = count_vect_bow_ngram.fit_transform(train.text)\n",
        "features_test_bow_ngram = count_vect_bow_ngram.transform(test.text)"
      ]
    },
    {
      "cell_type": "markdown",
      "metadata": {
        "id": "V1BrH8H_RWfz"
      },
      "source": [
        "Векторизация текста *TF-IDF* с N-граммой"
      ]
    },
    {
      "cell_type": "code",
      "execution_count": 19,
      "metadata": {
        "id": "OU5T8BbXRWfz"
      },
      "outputs": [],
      "source": [
        "vectorizer_tf_idf_ngramm = TfidfVectorizer(ngram_range=(1, 2))"
      ]
    },
    {
      "cell_type": "code",
      "execution_count": 20,
      "metadata": {
        "id": "c9HVpYabRWfz"
      },
      "outputs": [],
      "source": [
        "features_train_tfidf_ngramm = vectorizer_tf_idf_ngramm.fit_transform(train.text)\n",
        "features_test_tf_idf_ngramm = vectorizer_tf_idf_ngramm.transform(test.text)"
      ]
    },
    {
      "cell_type": "markdown",
      "metadata": {
        "id": "Ju6SckgHRWf0"
      },
      "source": [
        "Целевая переменная"
      ]
    },
    {
      "cell_type": "code",
      "execution_count": 21,
      "metadata": {
        "id": "XUkMCVJYRWf1"
      },
      "outputs": [],
      "source": [
        "target_train = train['toxic']\n",
        "target_test = test['toxic']"
      ]
    },
    {
      "cell_type": "markdown",
      "metadata": {
        "id": "FeQSoEGRRWf1"
      },
      "source": [
        "### Вывод\n",
        "В ходе подготовки текста были выполнены следующие действия:\n",
        "* загружены данные и получена общая информация\n",
        "* из теста удалены лишние символы и стоп-слова (токенизирован)\n",
        "* слова текста приведены к начальной форме\n",
        "* тексты преобразованы в вектора."
      ]
    },
    {
      "cell_type": "markdown",
      "metadata": {
        "id": "xlkUiu1CRWf1"
      },
      "source": [
        "## Обучение"
      ]
    },
    {
      "cell_type": "markdown",
      "metadata": {
        "id": "wYyizhkrRWf1"
      },
      "source": [
        "**Подбор параметров для логистической регрессии для модели *мешок слов*.**"
      ]
    },
    {
      "cell_type": "code",
      "execution_count": 22,
      "metadata": {
        "id": "kzlSF2ikRWf1"
      },
      "outputs": [],
      "source": [
        "model_reg_bow = LogisticRegression(random_state=12345, solver='saga')"
      ]
    },
    {
      "cell_type": "code",
      "execution_count": 23,
      "metadata": {
        "id": "v9ekSNzIRWf2"
      },
      "outputs": [],
      "source": [
        "grid_reg_params = {'C' : [0.1, 1, 10, 50],\n",
        "           'max_iter':[1000, 2000]}"
      ]
    },
    {
      "cell_type": "code",
      "execution_count": 24,
      "metadata": {
        "id": "MyDTDIFGRWf2"
      },
      "outputs": [],
      "source": [
        "grid_reg_bow = GridSearchCV(model_reg_bow, param_grid=grid_reg_params, scoring='f1', cv=3, verbose=1, n_jobs=-1)"
      ]
    },
    {
      "cell_type": "code",
      "execution_count": 25,
      "metadata": {
        "colab": {
          "base_uri": "https://localhost:8080/"
        },
        "id": "JUs-MuZwRWf2",
        "outputId": "d402e969-7d13-4f26-d12a-480193c715ef"
      },
      "outputs": [
        {
          "metadata": {
            "tags": null
          },
          "name": "stdout",
          "output_type": "stream",
          "text": [
            "Fitting 3 folds for each of 8 candidates, totalling 24 fits\n"
          ]
        },
        {
          "output_type": "stream",
          "name": "stderr",
          "text": [
            "/usr/local/lib/python3.7/dist-packages/sklearn/linear_model/_sag.py:354: ConvergenceWarning: The max_iter was reached which means the coef_ did not converge\n",
            "  ConvergenceWarning,\n"
          ]
        },
        {
          "output_type": "execute_result",
          "data": {
            "text/plain": [
              "GridSearchCV(cv=3,\n",
              "             estimator=LogisticRegression(random_state=12345, solver='saga'),\n",
              "             n_jobs=-1,\n",
              "             param_grid={'C': [0.1, 1, 10, 50], 'max_iter': [1000, 2000]},\n",
              "             scoring='f1', verbose=1)"
            ]
          },
          "metadata": {},
          "execution_count": 25
        }
      ],
      "source": [
        "grid_reg_bow.fit(features_train_bow, target_train)"
      ]
    },
    {
      "cell_type": "code",
      "execution_count": 26,
      "metadata": {
        "id": "jJC5I8ulRWf2",
        "colab": {
          "base_uri": "https://localhost:8080/"
        },
        "outputId": "80eacac9-d8ad-4605-a102-00fc2bd9c87d"
      },
      "outputs": [
        {
          "output_type": "execute_result",
          "data": {
            "text/plain": [
              "{'C': 50, 'max_iter': 2000}"
            ]
          },
          "metadata": {},
          "execution_count": 26
        }
      ],
      "source": [
        "grid_reg_bow.best_params_"
      ]
    },
    {
      "cell_type": "code",
      "execution_count": 27,
      "metadata": {
        "id": "-mfNV_7dRWf3",
        "colab": {
          "base_uri": "https://localhost:8080/"
        },
        "outputId": "3b6b5226-c681-452b-96b5-fd40db23af77"
      },
      "outputs": [
        {
          "output_type": "execute_result",
          "data": {
            "text/plain": [
              "0.6345126494738186"
            ]
          },
          "metadata": {},
          "execution_count": 27
        }
      ],
      "source": [
        "grid_reg_bow.best_score_"
      ]
    },
    {
      "cell_type": "markdown",
      "metadata": {
        "id": "k5QFz655RWf3"
      },
      "source": [
        "**Подбор параметров для модели svc с мешком слов**"
      ]
    },
    {
      "cell_type": "code",
      "execution_count": 28,
      "metadata": {
        "id": "DknUpSdsRWf3"
      },
      "outputs": [],
      "source": [
        "model_svc_bow = LinearSVC(random_state=12345, penalty='l1', dual=False)"
      ]
    },
    {
      "cell_type": "code",
      "execution_count": 29,
      "metadata": {
        "id": "HjDmGib2RWf5"
      },
      "outputs": [],
      "source": [
        "grid_svc_bow = GridSearchCV(model_svc_bow, param_grid=grid_reg_params, scoring='f1', cv=3, verbose=1, n_jobs=-1)"
      ]
    },
    {
      "cell_type": "code",
      "execution_count": 30,
      "metadata": {
        "id": "avpF4HrfRWf5",
        "colab": {
          "base_uri": "https://localhost:8080/"
        },
        "outputId": "69c21d24-633c-4880-fbfa-cef1670361e4"
      },
      "outputs": [
        {
          "output_type": "stream",
          "name": "stdout",
          "text": [
            "Fitting 3 folds for each of 8 candidates, totalling 24 fits\n"
          ]
        },
        {
          "output_type": "stream",
          "name": "stderr",
          "text": [
            "/usr/local/lib/python3.7/dist-packages/sklearn/svm/_base.py:1208: ConvergenceWarning: Liblinear failed to converge, increase the number of iterations.\n",
            "  ConvergenceWarning,\n"
          ]
        },
        {
          "output_type": "execute_result",
          "data": {
            "text/plain": [
              "GridSearchCV(cv=3,\n",
              "             estimator=LinearSVC(dual=False, penalty='l1', random_state=12345),\n",
              "             n_jobs=-1,\n",
              "             param_grid={'C': [0.1, 1, 10, 50], 'max_iter': [1000, 2000]},\n",
              "             scoring='f1', verbose=1)"
            ]
          },
          "metadata": {},
          "execution_count": 30
        }
      ],
      "source": [
        "grid_svc_bow.fit(features_train_bow, target_train)"
      ]
    },
    {
      "cell_type": "code",
      "execution_count": null,
      "metadata": {
        "id": "VZuscCbZRWf6"
      },
      "outputs": [],
      "source": [
        "grid_svc_bow.best_params_, grid_svc_bow.best_score_"
      ]
    },
    {
      "cell_type": "markdown",
      "metadata": {
        "id": "RPE06bSgRWf6"
      },
      "source": [
        "**Ngramm для логистической регрессии *bow***"
      ]
    },
    {
      "cell_type": "code",
      "execution_count": null,
      "metadata": {
        "id": "0MHQpRCNRWf6"
      },
      "outputs": [],
      "source": [
        "model_reg_bow_ngramm = LogisticRegression(random_state=12345, solver='saga')"
      ]
    },
    {
      "cell_type": "code",
      "execution_count": null,
      "metadata": {
        "id": "wbLl25svRWf6"
      },
      "outputs": [],
      "source": [
        "grid_reg_bow_ngramm = GridSearchCV(model_reg_bow_ngramm, param_grid=grid_reg_params, scoring='f1', cv=3, verbose=1, n_jobs=-1)"
      ]
    },
    {
      "cell_type": "code",
      "execution_count": 34,
      "metadata": {
        "id": "50YR_VARRWf6",
        "colab": {
          "base_uri": "https://localhost:8080/"
        },
        "outputId": "dd273f6e-d31a-4595-b77c-9a12e9403d0c"
      },
      "outputs": [
        {
          "metadata": {
            "tags": null
          },
          "name": "stdout",
          "output_type": "stream",
          "text": [
            "Fitting 3 folds for each of 8 candidates, totalling 24 fits\n"
          ]
        },
        {
          "output_type": "stream",
          "name": "stderr",
          "text": [
            "/usr/local/lib/python3.7/dist-packages/sklearn/linear_model/_sag.py:354: ConvergenceWarning: The max_iter was reached which means the coef_ did not converge\n",
            "  ConvergenceWarning,\n"
          ]
        },
        {
          "output_type": "execute_result",
          "data": {
            "text/plain": [
              "GridSearchCV(cv=3,\n",
              "             estimator=LogisticRegression(random_state=12345, solver='saga'),\n",
              "             n_jobs=-1,\n",
              "             param_grid={'C': [0.1, 1, 10, 50], 'max_iter': [1000, 2000]},\n",
              "             scoring='f1', verbose=1)"
            ]
          },
          "metadata": {},
          "execution_count": 34
        }
      ],
      "source": [
        "grid_reg_bow_ngramm.fit(features_train_bow_ngram, target_train)"
      ]
    },
    {
      "cell_type": "code",
      "execution_count": 35,
      "metadata": {
        "id": "185HSR_rRWf7",
        "colab": {
          "base_uri": "https://localhost:8080/"
        },
        "outputId": "23d0d90c-805d-4253-865c-e92a924d8c7a"
      },
      "outputs": [
        {
          "output_type": "execute_result",
          "data": {
            "text/plain": [
              "({'C': 1, 'max_iter': 2000}, 0.5867548667934253)"
            ]
          },
          "metadata": {},
          "execution_count": 35
        }
      ],
      "source": [
        "grid_reg_bow_ngramm.best_params_, grid_reg_bow_ngramm.best_score_"
      ]
    },
    {
      "cell_type": "markdown",
      "metadata": {
        "id": "3C0olXVxRWf7"
      },
      "source": [
        "**NGramm для модели svc *bow***"
      ]
    },
    {
      "cell_type": "code",
      "execution_count": 36,
      "metadata": {
        "id": "62ohE0BnRWf7"
      },
      "outputs": [],
      "source": [
        "model_svc_bow_ngramm = LinearSVC(random_state=12345, penalty='l1', dual=False)"
      ]
    },
    {
      "cell_type": "code",
      "execution_count": 37,
      "metadata": {
        "id": "54rrTruMRWf7"
      },
      "outputs": [],
      "source": [
        "grid_svc_bow_ngramm = GridSearchCV(model_svc_bow_ngramm, param_grid=grid_reg_params, scoring='f1', cv=3, verbose=1, n_jobs=-1)"
      ]
    },
    {
      "cell_type": "code",
      "execution_count": 38,
      "metadata": {
        "id": "HQYer_QRRWf8",
        "colab": {
          "base_uri": "https://localhost:8080/"
        },
        "outputId": "98ce5b03-eb3d-449b-8880-dea14de8a8d1"
      },
      "outputs": [
        {
          "output_type": "stream",
          "name": "stdout",
          "text": [
            "Fitting 3 folds for each of 8 candidates, totalling 24 fits\n"
          ]
        },
        {
          "output_type": "stream",
          "name": "stderr",
          "text": [
            "/usr/local/lib/python3.7/dist-packages/sklearn/svm/_base.py:1208: ConvergenceWarning: Liblinear failed to converge, increase the number of iterations.\n",
            "  ConvergenceWarning,\n"
          ]
        },
        {
          "output_type": "execute_result",
          "data": {
            "text/plain": [
              "GridSearchCV(cv=3,\n",
              "             estimator=LinearSVC(dual=False, penalty='l1', random_state=12345),\n",
              "             n_jobs=-1,\n",
              "             param_grid={'C': [0.1, 1, 10, 50], 'max_iter': [1000, 2000]},\n",
              "             scoring='f1', verbose=1)"
            ]
          },
          "metadata": {},
          "execution_count": 38
        }
      ],
      "source": [
        "grid_svc_bow_ngramm.fit(features_train_bow_ngram, target_train)"
      ]
    },
    {
      "cell_type": "code",
      "execution_count": 39,
      "metadata": {
        "id": "VtAvATTcRWf8",
        "colab": {
          "base_uri": "https://localhost:8080/"
        },
        "outputId": "cc059f50-5352-4092-b583-47cf1eba26ca"
      },
      "outputs": [
        {
          "output_type": "execute_result",
          "data": {
            "text/plain": [
              "({'C': 1, 'max_iter': 1000}, 0.7581499394597421)"
            ]
          },
          "metadata": {},
          "execution_count": 39
        }
      ],
      "source": [
        "grid_svc_bow_ngramm.best_params_, grid_svc_bow_ngramm.best_score_"
      ]
    },
    {
      "cell_type": "markdown",
      "metadata": {
        "id": "6sQBE9o6RWf8"
      },
      "source": [
        "**Модель логистической регрессии TF-IDF**"
      ]
    },
    {
      "cell_type": "code",
      "execution_count": 40,
      "metadata": {
        "id": "ClU9O84tRWf8"
      },
      "outputs": [],
      "source": [
        "model_reg_tfidf = LogisticRegression(random_state=12345, solver='saga')"
      ]
    },
    {
      "cell_type": "code",
      "execution_count": 41,
      "metadata": {
        "id": "dulMZS1_RWf9"
      },
      "outputs": [],
      "source": [
        "grid_reg_tfidf = GridSearchCV(model_reg_tfidf, param_grid=grid_reg_params, scoring='f1', cv=3, verbose=1, n_jobs=-1)"
      ]
    },
    {
      "cell_type": "code",
      "execution_count": 42,
      "metadata": {
        "id": "wgx7WmGrRWf9",
        "colab": {
          "base_uri": "https://localhost:8080/"
        },
        "outputId": "e87c6e2e-9b0b-4c70-de8a-03dd455197e5"
      },
      "outputs": [
        {
          "output_type": "stream",
          "name": "stdout",
          "text": [
            "Fitting 3 folds for each of 8 candidates, totalling 24 fits\n"
          ]
        },
        {
          "output_type": "execute_result",
          "data": {
            "text/plain": [
              "GridSearchCV(cv=3,\n",
              "             estimator=LogisticRegression(random_state=12345, solver='saga'),\n",
              "             n_jobs=-1,\n",
              "             param_grid={'C': [0.1, 1, 10, 50], 'max_iter': [1000, 2000]},\n",
              "             scoring='f1', verbose=1)"
            ]
          },
          "metadata": {},
          "execution_count": 42
        }
      ],
      "source": [
        "grid_reg_tfidf.fit(features_train_tfidf, target_train)"
      ]
    },
    {
      "cell_type": "code",
      "execution_count": 43,
      "metadata": {
        "id": "FslX0PJQRWf9",
        "colab": {
          "base_uri": "https://localhost:8080/"
        },
        "outputId": "764584d3-3ba5-4c9c-b565-a1591b878196"
      },
      "outputs": [
        {
          "output_type": "execute_result",
          "data": {
            "text/plain": [
              "({'C': 10, 'max_iter': 1000}, 0.7665827133676698)"
            ]
          },
          "metadata": {},
          "execution_count": 43
        }
      ],
      "source": [
        "grid_reg_tfidf.best_params_, grid_reg_tfidf.best_score_"
      ]
    },
    {
      "cell_type": "markdown",
      "metadata": {
        "id": "0buTC7-lRWf9"
      },
      "source": [
        "**Модель svc TF-IDF**"
      ]
    },
    {
      "cell_type": "code",
      "execution_count": 44,
      "metadata": {
        "id": "VqUl5TZkRWf-"
      },
      "outputs": [],
      "source": [
        "model_svc_tfidf = LinearSVC(random_state=12345, penalty='l1', dual=False)"
      ]
    },
    {
      "cell_type": "code",
      "execution_count": 45,
      "metadata": {
        "id": "DBb3xLDORWf-"
      },
      "outputs": [],
      "source": [
        "grid_svc_tfidf = GridSearchCV(model_svc_tfidf, param_grid=grid_reg_params, scoring='f1', cv=3, verbose=1, n_jobs=-1)"
      ]
    },
    {
      "cell_type": "code",
      "execution_count": 46,
      "metadata": {
        "id": "-RhWXkpoRWf-",
        "colab": {
          "base_uri": "https://localhost:8080/"
        },
        "outputId": "26411a87-be1b-46da-a3cf-a68d1665e820"
      },
      "outputs": [
        {
          "output_type": "stream",
          "name": "stdout",
          "text": [
            "Fitting 3 folds for each of 8 candidates, totalling 24 fits\n"
          ]
        },
        {
          "output_type": "execute_result",
          "data": {
            "text/plain": [
              "GridSearchCV(cv=3,\n",
              "             estimator=LinearSVC(dual=False, penalty='l1', random_state=12345),\n",
              "             n_jobs=-1,\n",
              "             param_grid={'C': [0.1, 1, 10, 50], 'max_iter': [1000, 2000]},\n",
              "             scoring='f1', verbose=1)"
            ]
          },
          "metadata": {},
          "execution_count": 46
        }
      ],
      "source": [
        "grid_svc_tfidf.fit(features_train_tfidf, target_train)"
      ]
    },
    {
      "cell_type": "code",
      "execution_count": 47,
      "metadata": {
        "id": "edmrPKsdRWf-",
        "colab": {
          "base_uri": "https://localhost:8080/"
        },
        "outputId": "7af2f377-369e-4ce4-d05e-8f0ad24b125c"
      },
      "outputs": [
        {
          "output_type": "execute_result",
          "data": {
            "text/plain": [
              "({'C': 1, 'max_iter': 1000}, 0.7763229358136577)"
            ]
          },
          "metadata": {},
          "execution_count": 47
        }
      ],
      "source": [
        "grid_svc_tfidf.best_params_, grid_svc_tfidf.best_score_"
      ]
    },
    {
      "cell_type": "markdown",
      "metadata": {
        "id": "HjK_64nlRWf_"
      },
      "source": [
        "**Модель логистической регрессии TF -IDF N-gramm**"
      ]
    },
    {
      "cell_type": "code",
      "execution_count": 48,
      "metadata": {
        "id": "7z13_gqKRWf_"
      },
      "outputs": [],
      "source": [
        "model_reg_tfidf_ngramm = LogisticRegression(random_state=12345, solver='saga')"
      ]
    },
    {
      "cell_type": "code",
      "execution_count": 49,
      "metadata": {
        "id": "qD4W6ZIfRWf_"
      },
      "outputs": [],
      "source": [
        "grid_reg_tfidf_ngramm = GridSearchCV(model_reg_tfidf_ngramm, param_grid=grid_reg_params, scoring='f1', cv=3, verbose=1, n_jobs=-1)"
      ]
    },
    {
      "cell_type": "code",
      "execution_count": 50,
      "metadata": {
        "id": "4MnAM_TBRWf_",
        "colab": {
          "base_uri": "https://localhost:8080/"
        },
        "outputId": "36c0bff6-e70d-4e12-89f8-0191587ab07a"
      },
      "outputs": [
        {
          "output_type": "stream",
          "name": "stdout",
          "text": [
            "Fitting 3 folds for each of 8 candidates, totalling 24 fits\n"
          ]
        },
        {
          "output_type": "execute_result",
          "data": {
            "text/plain": [
              "GridSearchCV(cv=3,\n",
              "             estimator=LogisticRegression(random_state=12345, solver='saga'),\n",
              "             n_jobs=-1,\n",
              "             param_grid={'C': [0.1, 1, 10, 50], 'max_iter': [1000, 2000]},\n",
              "             scoring='f1', verbose=1)"
            ]
          },
          "metadata": {},
          "execution_count": 50
        }
      ],
      "source": [
        "grid_reg_tfidf_ngramm.fit(features_train_tfidf_ngramm, target_train)"
      ]
    },
    {
      "cell_type": "code",
      "execution_count": 51,
      "metadata": {
        "id": "ipDWfWwSRWgA",
        "colab": {
          "base_uri": "https://localhost:8080/"
        },
        "outputId": "c5573fb1-5623-4ea8-a3a7-a031e73f1672"
      },
      "outputs": [
        {
          "output_type": "execute_result",
          "data": {
            "text/plain": [
              "({'C': 50, 'max_iter': 1000}, 0.7387836633812195)"
            ]
          },
          "metadata": {},
          "execution_count": 51
        }
      ],
      "source": [
        "grid_reg_tfidf_ngramm.best_params_, grid_reg_tfidf_ngramm.best_score_"
      ]
    },
    {
      "cell_type": "markdown",
      "metadata": {
        "id": "C8tfwFlFRWgA"
      },
      "source": [
        "**Модель svc TF-IDF N-gramm**"
      ]
    },
    {
      "cell_type": "code",
      "execution_count": 52,
      "metadata": {
        "id": "va_TxWM8RWgA"
      },
      "outputs": [],
      "source": [
        "model_svc_tfidf_ngramm = LinearSVC(random_state=12345, penalty='l1', dual=False)"
      ]
    },
    {
      "cell_type": "code",
      "execution_count": 53,
      "metadata": {
        "id": "RhoenocgRWgA"
      },
      "outputs": [],
      "source": [
        "grid_svc_tfidf_ngramm = GridSearchCV(model_svc_tfidf_ngramm, param_grid=grid_reg_params, scoring='f1', cv=5, verbose=1, n_jobs=-1)"
      ]
    },
    {
      "cell_type": "code",
      "execution_count": 54,
      "metadata": {
        "id": "8ORS01gKRWgB",
        "colab": {
          "base_uri": "https://localhost:8080/"
        },
        "outputId": "237ce552-8641-4358-8ee0-ccb2eb9e716e"
      },
      "outputs": [
        {
          "output_type": "stream",
          "name": "stdout",
          "text": [
            "Fitting 5 folds for each of 8 candidates, totalling 40 fits\n"
          ]
        },
        {
          "output_type": "execute_result",
          "data": {
            "text/plain": [
              "GridSearchCV(cv=5,\n",
              "             estimator=LinearSVC(dual=False, penalty='l1', random_state=12345),\n",
              "             n_jobs=-1,\n",
              "             param_grid={'C': [0.1, 1, 10, 50], 'max_iter': [1000, 2000]},\n",
              "             scoring='f1', verbose=1)"
            ]
          },
          "metadata": {},
          "execution_count": 54
        }
      ],
      "source": [
        "grid_svc_tfidf_ngramm.fit(features_train_tfidf_ngramm, target_train)"
      ]
    },
    {
      "cell_type": "code",
      "execution_count": 55,
      "metadata": {
        "id": "lzVbiYs3RWgB",
        "colab": {
          "base_uri": "https://localhost:8080/"
        },
        "outputId": "db512740-1158-43a4-a692-26dd5414e5c2"
      },
      "outputs": [
        {
          "output_type": "execute_result",
          "data": {
            "text/plain": [
              "({'C': 1, 'max_iter': 1000}, 0.7751588460704499)"
            ]
          },
          "metadata": {},
          "execution_count": 55
        }
      ],
      "source": [
        "grid_svc_tfidf_ngramm.best_params_, grid_svc_tfidf_ngramm.best_score_"
      ]
    },
    {
      "cell_type": "markdown",
      "metadata": {
        "id": "tXC_8AD9RWgB"
      },
      "source": [
        "Лучшие результаты оказались у модели, созданной с помощью классификации опорных векторов для TF-IDF. На нем и посмотрю результат на тестовой выборке для модели с n-граммой и без."
      ]
    },
    {
      "cell_type": "code",
      "execution_count": 56,
      "metadata": {
        "id": "WyLiFFdsRWgB"
      },
      "outputs": [],
      "source": [
        "model_svc_tfidf = LinearSVC(random_state=12345, penalty='l1', dual=False, C=1, max_iter=1000)"
      ]
    },
    {
      "cell_type": "code",
      "execution_count": 57,
      "metadata": {
        "id": "KSCmdMJbRWgC",
        "colab": {
          "base_uri": "https://localhost:8080/"
        },
        "outputId": "1ca5e6b1-12e7-4a61-e6e7-f9bf661aa1ab"
      },
      "outputs": [
        {
          "output_type": "stream",
          "name": "stdout",
          "text": [
            "CPU times: user 3.25 s, sys: 8.93 ms, total: 3.26 s\n",
            "Wall time: 3.27 s\n"
          ]
        },
        {
          "output_type": "execute_result",
          "data": {
            "text/plain": [
              "LinearSVC(C=1, dual=False, penalty='l1', random_state=12345)"
            ]
          },
          "metadata": {},
          "execution_count": 57
        }
      ],
      "source": [
        "%%time\n",
        "model_svc_tfidf.fit(features_train_tfidf, target_train)"
      ]
    },
    {
      "cell_type": "code",
      "execution_count": 58,
      "metadata": {
        "id": "9eNXvpY8RWgC",
        "colab": {
          "base_uri": "https://localhost:8080/"
        },
        "outputId": "cdfa4a73-849b-4c29-e8db-86ee3c00f504"
      },
      "outputs": [
        {
          "output_type": "stream",
          "name": "stdout",
          "text": [
            "F1 мера для SVC модели с использованием TF-IDF: 0.785\n"
          ]
        }
      ],
      "source": [
        "predictions = pd.Series(model_svc_tfidf.predict(features_test_tfidf))\n",
        "score = f1_score(target_test, predictions)\n",
        "print('F1 мера для SVC модели с использованием TF-IDF: {:.3f}'.format(score))"
      ]
    },
    {
      "cell_type": "code",
      "execution_count": 59,
      "metadata": {
        "id": "4k7erxokRWgC"
      },
      "outputs": [],
      "source": [
        "model_svc_tfidf_ngramm = LinearSVC(random_state=12345, penalty='l1', dual=False)"
      ]
    },
    {
      "cell_type": "code",
      "execution_count": 60,
      "metadata": {
        "id": "NePNf898RWgD",
        "colab": {
          "base_uri": "https://localhost:8080/"
        },
        "outputId": "e1d590ed-7c5b-4f87-f28f-0bc0695f54fa"
      },
      "outputs": [
        {
          "output_type": "execute_result",
          "data": {
            "text/plain": [
              "LinearSVC(dual=False, penalty='l1', random_state=12345)"
            ]
          },
          "metadata": {},
          "execution_count": 60
        }
      ],
      "source": [
        "model_svc_tfidf_ngramm.fit(features_train_tfidf_ngramm, target_train)"
      ]
    },
    {
      "cell_type": "code",
      "execution_count": 61,
      "metadata": {
        "id": "1fLqchiyRWgD"
      },
      "outputs": [],
      "source": [
        "predictions_svc = model_svc_tfidf_ngramm.predict(features_test_tf_idf_ngramm)"
      ]
    },
    {
      "cell_type": "code",
      "execution_count": 62,
      "metadata": {
        "id": "U5gM9UJ8RWgD",
        "colab": {
          "base_uri": "https://localhost:8080/"
        },
        "outputId": "0b0704f5-3028-46c1-f695-766266215b26"
      },
      "outputs": [
        {
          "output_type": "stream",
          "name": "stdout",
          "text": [
            "F1 мера для SVC модели с использованием TF-IDF и n-граммой: 0.795\n"
          ]
        }
      ],
      "source": [
        "print('F1 мера для SVC модели с использованием TF-IDF и n-граммой: {:.3f}'.format(f1_score(target_test, predictions_svc)))"
      ]
    },
    {
      "cell_type": "markdown",
      "metadata": {
        "id": "a5e04JZBRWgD"
      },
      "source": [
        "### Вывод\n",
        "В данном разделе были обучены модели логистической регрессии и SVC. Вторая показала более лучшие результаты. Также можно выделить, что используя TF-IDF для обеих моделей были получены более высокие результаты. Использование биграммы еще более улучшило F1-меру."
      ]
    },
    {
      "cell_type": "markdown",
      "metadata": {
        "id": "lBwnkMHsRWgE"
      },
      "source": [
        "## Выводы"
      ]
    },
    {
      "cell_type": "markdown",
      "metadata": {
        "id": "cvbMJvY3RWgE"
      },
      "source": [
        "В проекте необходимо было разработать инструмент для интернет магазина *Викишоп*, который бы искал токсичные комментарии. Для этого необходимо было обучить модель с F1-мерой не ниже 0.75. Такая метрика использовалась из-за дисбаланса классоа в целевой переменной. Токсичных комментариев гораздо меньше, чем нормальных. Для обучения модели данные были токенезированы, убраны стоп слова и проведена лемматизация. После чего текст был преобразован в векторный формат, по которому и обучались модели. Данные преобразовывались несколькими способами:\n",
        "* модель *мешок слов*\n",
        "* модель *мешок слов* с биграммой\n",
        "* модель TF-IDF\n",
        "* модель TF-IDF с биграммой\n",
        "\n",
        "Для обучения были выбраны модели логистической регрессии и опорных векторов. SVC показала более высокие результаты. Наилучший результат показала модель SVC TF-IDF с биграммой. У нее значение F1-меры на тестовой выборке 0.795."
      ]
    },
    {
      "cell_type": "code",
      "execution_count": 62,
      "metadata": {
        "id": "xPzkstn3RWgF"
      },
      "outputs": [],
      "source": [
        ""
      ]
    }
  ],
  "metadata": {
    "ExecuteTimeLog": [
      {
        "duration": 5966,
        "start_time": "2021-09-23T06:40:57.542Z"
      },
      {
        "duration": 164,
        "start_time": "2021-09-23T06:41:52.781Z"
      },
      {
        "duration": 10,
        "start_time": "2021-09-23T06:41:59.473Z"
      },
      {
        "duration": 5,
        "start_time": "2021-09-23T06:42:57.390Z"
      },
      {
        "duration": 13,
        "start_time": "2021-09-23T06:43:09.662Z"
      },
      {
        "duration": 8,
        "start_time": "2021-09-23T06:43:23.054Z"
      },
      {
        "duration": 787,
        "start_time": "2021-09-23T06:44:26.598Z"
      },
      {
        "duration": 31,
        "start_time": "2021-09-23T06:50:59.956Z"
      },
      {
        "duration": 900,
        "start_time": "2021-09-23T06:51:20.480Z"
      },
      {
        "duration": 294,
        "start_time": "2021-09-23T06:51:36.498Z"
      },
      {
        "duration": 102,
        "start_time": "2021-09-23T06:51:45.636Z"
      },
      {
        "duration": 16,
        "start_time": "2021-09-23T06:52:25.817Z"
      },
      {
        "duration": 7,
        "start_time": "2021-09-23T07:01:00.175Z"
      },
      {
        "duration": 96,
        "start_time": "2021-09-23T07:09:09.734Z"
      },
      {
        "duration": 568,
        "start_time": "2021-09-23T07:10:05.616Z"
      },
      {
        "duration": 6,
        "start_time": "2021-09-23T07:11:13.370Z"
      },
      {
        "duration": 710,
        "start_time": "2021-09-23T07:11:17.502Z"
      },
      {
        "duration": 10,
        "start_time": "2021-09-23T07:12:00.023Z"
      },
      {
        "duration": 6,
        "start_time": "2021-09-23T07:12:03.335Z"
      },
      {
        "duration": 104,
        "start_time": "2021-09-23T07:12:03.959Z"
      },
      {
        "duration": 4938,
        "start_time": "2021-09-23T07:12:04.623Z"
      },
      {
        "duration": 5420,
        "start_time": "2021-09-23T07:12:47.672Z"
      },
      {
        "duration": 6,
        "start_time": "2021-09-23T07:13:42.267Z"
      },
      {
        "duration": 5671,
        "start_time": "2021-09-23T07:13:45.035Z"
      },
      {
        "duration": 4856,
        "start_time": "2021-09-23T07:15:14.547Z"
      },
      {
        "duration": 6,
        "start_time": "2021-09-23T07:15:28.076Z"
      },
      {
        "duration": 6043,
        "start_time": "2021-09-23T07:15:29.835Z"
      },
      {
        "duration": 7,
        "start_time": "2021-09-23T07:16:36.110Z"
      },
      {
        "duration": 4676,
        "start_time": "2021-09-23T07:16:37.766Z"
      },
      {
        "duration": 6,
        "start_time": "2021-09-23T07:17:14.471Z"
      },
      {
        "duration": 99,
        "start_time": "2021-09-23T07:17:14.925Z"
      },
      {
        "duration": 952,
        "start_time": "2021-09-23T07:17:15.478Z"
      },
      {
        "duration": 274,
        "start_time": "2021-09-23T07:22:50.224Z"
      },
      {
        "duration": 6,
        "start_time": "2021-09-23T07:23:06.574Z"
      },
      {
        "duration": 5152,
        "start_time": "2021-09-23T07:23:09.230Z"
      },
      {
        "duration": 6,
        "start_time": "2021-09-23T07:23:32.246Z"
      },
      {
        "duration": 4433,
        "start_time": "2021-09-23T07:23:34.407Z"
      },
      {
        "duration": 13,
        "start_time": "2021-09-23T07:24:03.033Z"
      },
      {
        "duration": 6,
        "start_time": "2021-09-23T07:24:27.132Z"
      },
      {
        "duration": 1183,
        "start_time": "2021-09-23T07:24:29.544Z"
      },
      {
        "duration": 596,
        "start_time": "2021-09-23T07:25:03.582Z"
      },
      {
        "duration": 6,
        "start_time": "2021-09-23T07:25:15.121Z"
      },
      {
        "duration": 754,
        "start_time": "2021-09-23T07:25:17.785Z"
      },
      {
        "duration": 7,
        "start_time": "2021-09-23T07:25:26.825Z"
      },
      {
        "duration": 17211,
        "start_time": "2021-09-23T07:25:29.921Z"
      },
      {
        "duration": 4679,
        "start_time": "2021-09-23T07:25:51.916Z"
      },
      {
        "duration": 9,
        "start_time": "2021-09-23T07:26:16.575Z"
      },
      {
        "duration": 67505,
        "start_time": "2021-09-23T07:26:29.596Z"
      },
      {
        "duration": 18,
        "start_time": "2021-09-23T07:27:40.588Z"
      },
      {
        "duration": 6,
        "start_time": "2021-09-23T07:30:03.763Z"
      },
      {
        "duration": 1262,
        "start_time": "2021-09-23T07:30:50.899Z"
      },
      {
        "duration": 16,
        "start_time": "2021-09-23T07:31:12.827Z"
      },
      {
        "duration": 41318,
        "start_time": "2021-09-23T07:31:17.834Z"
      },
      {
        "duration": 1044,
        "start_time": "2021-09-23T07:32:02.359Z"
      },
      {
        "duration": 156946,
        "start_time": "2021-09-23T07:32:25.812Z"
      },
      {
        "duration": 786,
        "start_time": "2021-09-23T07:40:11.296Z"
      },
      {
        "duration": 30,
        "start_time": "2021-09-23T07:40:14.645Z"
      },
      {
        "duration": 101,
        "start_time": "2021-09-23T07:40:15.049Z"
      },
      {
        "duration": 11,
        "start_time": "2021-09-23T07:40:15.498Z"
      },
      {
        "duration": 6,
        "start_time": "2021-09-23T07:40:15.781Z"
      },
      {
        "duration": 111,
        "start_time": "2021-09-23T07:40:16.326Z"
      },
      {
        "duration": 71096,
        "start_time": "2021-09-23T07:40:16.789Z"
      },
      {
        "duration": 18083,
        "start_time": "2021-09-23T07:41:27.889Z"
      },
      {
        "duration": 5,
        "start_time": "2021-09-23T07:41:45.975Z"
      },
      {
        "duration": 159390,
        "start_time": "2021-09-23T07:41:45.983Z"
      },
      {
        "duration": 38999,
        "start_time": "2021-09-23T07:44:25.376Z"
      },
      {
        "duration": 4,
        "start_time": "2021-09-23T07:45:04.377Z"
      },
      {
        "duration": 5075,
        "start_time": "2021-09-23T07:47:26.503Z"
      },
      {
        "duration": 1198,
        "start_time": "2021-09-23T07:48:10.770Z"
      },
      {
        "duration": 40,
        "start_time": "2021-09-23T07:48:11.971Z"
      },
      {
        "duration": 166,
        "start_time": "2021-09-23T07:48:12.015Z"
      },
      {
        "duration": 19,
        "start_time": "2021-09-23T07:48:12.185Z"
      },
      {
        "duration": 8,
        "start_time": "2021-09-23T07:48:12.207Z"
      },
      {
        "duration": 246,
        "start_time": "2021-09-23T07:48:12.218Z"
      },
      {
        "duration": 71629,
        "start_time": "2021-09-23T07:48:12.468Z"
      },
      {
        "duration": 17265,
        "start_time": "2021-09-23T07:49:24.102Z"
      },
      {
        "duration": 4,
        "start_time": "2021-09-23T07:49:41.370Z"
      },
      {
        "duration": 328,
        "start_time": "2021-09-23T07:49:41.376Z"
      },
      {
        "duration": 5040,
        "start_time": "2021-09-23T07:49:36.666Z"
      },
      {
        "duration": 5036,
        "start_time": "2021-09-23T07:49:36.671Z"
      },
      {
        "duration": 159564,
        "start_time": "2021-09-23T07:49:57.636Z"
      },
      {
        "duration": 43451,
        "start_time": "2021-09-23T07:52:37.203Z"
      },
      {
        "duration": 4,
        "start_time": "2021-09-23T07:53:25.295Z"
      },
      {
        "duration": 6952,
        "start_time": "2021-09-23T07:53:26.015Z"
      },
      {
        "duration": 57,
        "start_time": "2021-09-23T08:00:12.006Z"
      },
      {
        "duration": 4,
        "start_time": "2021-09-23T08:10:08.766Z"
      },
      {
        "duration": 4,
        "start_time": "2021-09-23T08:10:49.525Z"
      },
      {
        "duration": 2831,
        "start_time": "2021-09-23T08:11:03.361Z"
      },
      {
        "duration": 4,
        "start_time": "2021-09-23T08:11:34.347Z"
      },
      {
        "duration": 2851,
        "start_time": "2021-09-23T08:11:35.653Z"
      },
      {
        "duration": 10,
        "start_time": "2021-09-23T08:11:45.474Z"
      },
      {
        "duration": 315,
        "start_time": "2021-09-23T08:12:26.251Z"
      },
      {
        "duration": 4,
        "start_time": "2021-09-23T08:12:57.170Z"
      },
      {
        "duration": 15,
        "start_time": "2021-09-23T08:12:59.426Z"
      },
      {
        "duration": 7,
        "start_time": "2021-09-23T08:14:35.748Z"
      },
      {
        "duration": 88,
        "start_time": "2021-09-23T08:15:55.858Z"
      },
      {
        "duration": 5,
        "start_time": "2021-09-23T08:16:20.095Z"
      },
      {
        "duration": 5,
        "start_time": "2021-09-23T08:16:41.975Z"
      },
      {
        "duration": 4,
        "start_time": "2021-09-23T08:18:10.316Z"
      },
      {
        "duration": 15535,
        "start_time": "2021-09-23T08:18:11.716Z"
      },
      {
        "duration": 4,
        "start_time": "2021-09-23T08:19:02.933Z"
      },
      {
        "duration": 22074,
        "start_time": "2021-09-23T08:19:04.300Z"
      },
      {
        "duration": 7,
        "start_time": "2021-09-23T08:19:30.354Z"
      },
      {
        "duration": 17,
        "start_time": "2021-09-23T08:19:30.963Z"
      },
      {
        "duration": 1805,
        "start_time": "2021-09-23T09:06:52.147Z"
      },
      {
        "duration": 5204,
        "start_time": "2021-09-23T09:06:48.752Z"
      },
      {
        "duration": 5199,
        "start_time": "2021-09-23T09:06:48.758Z"
      },
      {
        "duration": 5197,
        "start_time": "2021-09-23T09:06:48.762Z"
      },
      {
        "duration": 5178,
        "start_time": "2021-09-23T09:06:48.782Z"
      },
      {
        "duration": 5174,
        "start_time": "2021-09-23T09:06:48.787Z"
      },
      {
        "duration": 5173,
        "start_time": "2021-09-23T09:06:48.790Z"
      },
      {
        "duration": 5170,
        "start_time": "2021-09-23T09:06:48.794Z"
      },
      {
        "duration": 5168,
        "start_time": "2021-09-23T09:06:48.798Z"
      },
      {
        "duration": 5157,
        "start_time": "2021-09-23T09:06:48.810Z"
      },
      {
        "duration": 5156,
        "start_time": "2021-09-23T09:06:48.813Z"
      },
      {
        "duration": 5154,
        "start_time": "2021-09-23T09:06:48.816Z"
      },
      {
        "duration": 5153,
        "start_time": "2021-09-23T09:06:48.818Z"
      },
      {
        "duration": 5152,
        "start_time": "2021-09-23T09:06:48.821Z"
      },
      {
        "duration": 5152,
        "start_time": "2021-09-23T09:06:48.822Z"
      },
      {
        "duration": 5152,
        "start_time": "2021-09-23T09:06:48.824Z"
      },
      {
        "duration": 5151,
        "start_time": "2021-09-23T09:06:48.826Z"
      },
      {
        "duration": 5145,
        "start_time": "2021-09-23T09:06:48.834Z"
      },
      {
        "duration": 4946,
        "start_time": "2021-09-23T09:07:20.252Z"
      },
      {
        "duration": 20,
        "start_time": "2021-09-23T09:07:25.203Z"
      },
      {
        "duration": 1127,
        "start_time": "2021-09-23T09:07:25.227Z"
      },
      {
        "duration": 39,
        "start_time": "2021-09-23T09:07:26.368Z"
      },
      {
        "duration": 128,
        "start_time": "2021-09-23T09:07:26.410Z"
      },
      {
        "duration": 41,
        "start_time": "2021-09-23T09:07:26.541Z"
      },
      {
        "duration": 9,
        "start_time": "2021-09-23T09:07:26.585Z"
      },
      {
        "duration": 102602,
        "start_time": "2021-09-23T09:07:26.598Z"
      },
      {
        "duration": 4,
        "start_time": "2021-09-23T09:09:09.203Z"
      },
      {
        "duration": 195614,
        "start_time": "2021-09-23T09:09:09.210Z"
      },
      {
        "duration": 179,
        "start_time": "2021-09-23T09:12:24.827Z"
      },
      {
        "duration": 4,
        "start_time": "2021-09-23T09:12:25.009Z"
      },
      {
        "duration": 10828,
        "start_time": "2021-09-23T09:12:25.016Z"
      },
      {
        "duration": 5,
        "start_time": "2021-09-23T09:12:35.847Z"
      },
      {
        "duration": 16,
        "start_time": "2021-09-23T09:12:35.854Z"
      },
      {
        "duration": 22328,
        "start_time": "2021-09-23T09:12:35.872Z"
      },
      {
        "duration": 10,
        "start_time": "2021-09-23T09:12:58.203Z"
      },
      {
        "duration": 24,
        "start_time": "2021-09-23T09:12:58.215Z"
      },
      {
        "duration": 757,
        "start_time": "2021-09-23T10:55:14.290Z"
      },
      {
        "duration": 6,
        "start_time": "2021-09-23T10:55:18.288Z"
      },
      {
        "duration": 759,
        "start_time": "2021-09-23T10:55:19.212Z"
      },
      {
        "duration": 7,
        "start_time": "2021-09-23T10:58:56.187Z"
      },
      {
        "duration": 11,
        "start_time": "2021-09-23T10:59:05.468Z"
      },
      {
        "duration": 5,
        "start_time": "2021-09-23T10:59:19.083Z"
      },
      {
        "duration": 38,
        "start_time": "2021-09-23T10:59:39.453Z"
      },
      {
        "duration": 6,
        "start_time": "2021-09-23T11:01:02.849Z"
      },
      {
        "duration": 409,
        "start_time": "2021-09-23T11:01:24.752Z"
      },
      {
        "duration": 29,
        "start_time": "2021-09-23T11:12:31.342Z"
      },
      {
        "duration": 1361,
        "start_time": "2021-09-23T11:12:57.361Z"
      },
      {
        "duration": 6,
        "start_time": "2021-09-23T11:13:08.593Z"
      },
      {
        "duration": 6,
        "start_time": "2021-09-23T11:13:17.246Z"
      },
      {
        "duration": 413,
        "start_time": "2021-09-23T11:18:34.362Z"
      },
      {
        "duration": 280,
        "start_time": "2021-09-23T11:19:12.496Z"
      },
      {
        "duration": 115,
        "start_time": "2021-09-23T11:19:19.004Z"
      },
      {
        "duration": 284,
        "start_time": "2021-09-23T11:19:21.843Z"
      },
      {
        "duration": 272,
        "start_time": "2021-09-23T11:20:01.772Z"
      },
      {
        "duration": 15,
        "start_time": "2021-09-23T11:20:40.852Z"
      },
      {
        "duration": 92,
        "start_time": "2021-09-23T11:21:12.637Z"
      },
      {
        "duration": 4,
        "start_time": "2021-09-23T11:49:02.900Z"
      },
      {
        "duration": 4,
        "start_time": "2021-09-23T11:49:20.193Z"
      },
      {
        "duration": 275,
        "start_time": "2021-09-23T11:49:43.212Z"
      },
      {
        "duration": 4,
        "start_time": "2021-09-23T11:49:49.067Z"
      },
      {
        "duration": 279,
        "start_time": "2021-09-23T11:51:13.395Z"
      },
      {
        "duration": 289,
        "start_time": "2021-09-23T11:51:20.966Z"
      },
      {
        "duration": 4,
        "start_time": "2021-09-23T11:51:28.695Z"
      },
      {
        "duration": 37227,
        "start_time": "2021-09-23T11:51:53.106Z"
      },
      {
        "duration": 380,
        "start_time": "2021-09-23T11:52:47.924Z"
      },
      {
        "duration": 279,
        "start_time": "2021-09-23T11:53:03.049Z"
      },
      {
        "duration": 4,
        "start_time": "2021-09-23T11:53:16.864Z"
      },
      {
        "duration": 4,
        "start_time": "2021-09-23T11:53:17.363Z"
      },
      {
        "duration": 4,
        "start_time": "2021-09-23T11:53:18.562Z"
      },
      {
        "duration": 343176,
        "start_time": "2021-09-23T11:53:20.448Z"
      },
      {
        "duration": 270,
        "start_time": "2021-09-23T11:59:07.392Z"
      },
      {
        "duration": 4,
        "start_time": "2021-09-23T11:59:09.992Z"
      },
      {
        "duration": 4,
        "start_time": "2021-09-23T11:59:10.385Z"
      },
      {
        "duration": 45671,
        "start_time": "2021-09-23T11:59:13.459Z"
      },
      {
        "duration": 5515,
        "start_time": "2021-09-23T11:59:53.621Z"
      },
      {
        "duration": 5512,
        "start_time": "2021-09-23T11:59:53.626Z"
      },
      {
        "duration": 353,
        "start_time": "2021-09-23T12:00:00.002Z"
      },
      {
        "duration": 27757,
        "start_time": "2021-09-23T12:00:00.382Z"
      },
      {
        "duration": 5518,
        "start_time": "2021-09-23T12:00:22.624Z"
      },
      {
        "duration": 5516,
        "start_time": "2021-09-23T12:00:22.628Z"
      },
      {
        "duration": 5513,
        "start_time": "2021-09-23T12:00:22.632Z"
      },
      {
        "duration": 4,
        "start_time": "2021-09-23T12:00:31.931Z"
      },
      {
        "duration": 4,
        "start_time": "2021-09-23T12:00:32.626Z"
      },
      {
        "duration": 4,
        "start_time": "2021-09-23T12:00:34.646Z"
      },
      {
        "duration": 911551,
        "start_time": "2021-09-23T12:00:34.654Z"
      },
      {
        "duration": 5,
        "start_time": "2021-09-23T12:16:26.232Z"
      },
      {
        "duration": 5,
        "start_time": "2021-09-23T12:16:45.217Z"
      },
      {
        "duration": 4,
        "start_time": "2021-09-23T12:17:50.555Z"
      },
      {
        "duration": 4,
        "start_time": "2021-09-23T12:17:59.335Z"
      },
      {
        "duration": 1985122,
        "start_time": "2021-09-23T12:18:06.467Z"
      },
      {
        "duration": 6,
        "start_time": "2021-09-23T12:51:11.592Z"
      },
      {
        "duration": 274,
        "start_time": "2021-09-23T12:53:10.749Z"
      },
      {
        "duration": 3,
        "start_time": "2021-09-23T12:53:41.740Z"
      },
      {
        "duration": 307,
        "start_time": "2021-09-23T12:54:06.046Z"
      },
      {
        "duration": 55860,
        "start_time": "2021-09-23T12:55:18.742Z"
      },
      {
        "duration": 5,
        "start_time": "2021-09-23T12:56:19.407Z"
      },
      {
        "duration": 12,
        "start_time": "2021-09-23T13:01:41.042Z"
      },
      {
        "duration": 13,
        "start_time": "2021-09-23T13:01:58.586Z"
      },
      {
        "duration": 4,
        "start_time": "2021-09-23T13:09:08.004Z"
      },
      {
        "duration": 296,
        "start_time": "2021-09-23T13:09:09.395Z"
      },
      {
        "duration": 4,
        "start_time": "2021-09-23T13:09:14.202Z"
      },
      {
        "duration": 257,
        "start_time": "2021-09-23T13:09:15.829Z"
      },
      {
        "duration": 4,
        "start_time": "2021-09-23T13:09:29.601Z"
      },
      {
        "duration": 3,
        "start_time": "2021-09-23T13:09:30.050Z"
      },
      {
        "duration": 118814,
        "start_time": "2021-09-23T13:09:41.539Z"
      },
      {
        "duration": 4,
        "start_time": "2021-09-23T13:11:57.742Z"
      },
      {
        "duration": 4,
        "start_time": "2021-09-23T13:12:05.334Z"
      },
      {
        "duration": 1047861,
        "start_time": "2021-09-23T13:12:05.832Z"
      },
      {
        "duration": 6,
        "start_time": "2021-09-23T13:31:58.801Z"
      },
      {
        "duration": 5,
        "start_time": "2021-09-23T13:32:08.828Z"
      },
      {
        "duration": 6385,
        "start_time": "2021-09-24T05:53:29.938Z"
      },
      {
        "duration": 8,
        "start_time": "2021-09-24T05:53:36.325Z"
      },
      {
        "duration": 966,
        "start_time": "2021-09-24T05:53:36.335Z"
      },
      {
        "duration": 25,
        "start_time": "2021-09-24T05:53:37.303Z"
      },
      {
        "duration": 87,
        "start_time": "2021-09-24T05:53:37.330Z"
      },
      {
        "duration": 13,
        "start_time": "2021-09-24T05:53:37.419Z"
      },
      {
        "duration": 12,
        "start_time": "2021-09-24T05:53:37.434Z"
      },
      {
        "duration": 57379,
        "start_time": "2021-09-24T05:53:37.450Z"
      },
      {
        "duration": 3,
        "start_time": "2021-09-24T05:54:34.831Z"
      },
      {
        "duration": 127408,
        "start_time": "2021-09-24T05:54:34.836Z"
      },
      {
        "duration": 76,
        "start_time": "2021-09-24T05:56:42.246Z"
      },
      {
        "duration": 74,
        "start_time": "2021-09-24T05:56:42.324Z"
      },
      {
        "duration": 3,
        "start_time": "2021-09-24T05:56:42.399Z"
      },
      {
        "duration": 4287,
        "start_time": "2021-09-24T05:56:42.404Z"
      },
      {
        "duration": 3,
        "start_time": "2021-09-24T05:56:46.692Z"
      },
      {
        "duration": 6,
        "start_time": "2021-09-24T05:56:46.696Z"
      },
      {
        "duration": 4,
        "start_time": "2021-09-24T05:56:46.704Z"
      },
      {
        "duration": 5,
        "start_time": "2021-09-24T05:56:46.709Z"
      },
      {
        "duration": 713,
        "start_time": "2021-09-24T05:56:46.716Z"
      },
      {
        "duration": 6519,
        "start_time": "2021-09-24T05:56:40.912Z"
      },
      {
        "duration": 6514,
        "start_time": "2021-09-24T05:56:40.918Z"
      },
      {
        "duration": 6512,
        "start_time": "2021-09-24T05:56:40.922Z"
      },
      {
        "duration": 3,
        "start_time": "2021-09-24T05:57:20.743Z"
      },
      {
        "duration": 449146,
        "start_time": "2021-09-24T05:57:26.250Z"
      },
      {
        "duration": 6392,
        "start_time": "2021-09-24T06:04:49.006Z"
      },
      {
        "duration": 6389,
        "start_time": "2021-09-24T06:04:49.010Z"
      },
      {
        "duration": 4,
        "start_time": "2021-09-24T06:05:00.147Z"
      },
      {
        "duration": 3,
        "start_time": "2021-09-24T06:05:00.635Z"
      },
      {
        "duration": 2,
        "start_time": "2021-09-24T06:05:01.124Z"
      },
      {
        "duration": 3030658,
        "start_time": "2021-09-24T06:05:01.606Z"
      },
      {
        "duration": 4,
        "start_time": "2021-09-24T06:55:32.266Z"
      },
      {
        "duration": 7,
        "start_time": "2021-09-24T06:55:32.273Z"
      },
      {
        "duration": 716,
        "start_time": "2021-09-24T06:57:24.143Z"
      },
      {
        "duration": 779,
        "start_time": "2021-09-24T06:57:39.932Z"
      },
      {
        "duration": 674,
        "start_time": "2021-09-24T06:58:10.158Z"
      },
      {
        "duration": 4,
        "start_time": "2021-09-24T06:58:19.964Z"
      },
      {
        "duration": 288,
        "start_time": "2021-09-24T06:58:21.812Z"
      },
      {
        "duration": 601621,
        "start_time": "2021-09-24T06:58:47.949Z"
      },
      {
        "duration": 6,
        "start_time": "2021-09-24T07:09:51.013Z"
      },
      {
        "duration": 16,
        "start_time": "2021-09-24T07:09:52.352Z"
      },
      {
        "duration": 4890,
        "start_time": "2021-09-24T07:11:16.210Z"
      },
      {
        "duration": 7,
        "start_time": "2021-09-24T07:11:21.102Z"
      },
      {
        "duration": 624,
        "start_time": "2021-09-24T07:11:21.111Z"
      },
      {
        "duration": 25,
        "start_time": "2021-09-24T07:11:21.745Z"
      },
      {
        "duration": 86,
        "start_time": "2021-09-24T07:11:21.772Z"
      },
      {
        "duration": 30,
        "start_time": "2021-09-24T07:11:21.860Z"
      },
      {
        "duration": 4,
        "start_time": "2021-09-24T07:11:21.891Z"
      },
      {
        "duration": 106,
        "start_time": "2021-09-24T07:11:21.897Z"
      },
      {
        "duration": 40907,
        "start_time": "2021-09-24T07:11:22.004Z"
      },
      {
        "duration": 11242,
        "start_time": "2021-09-24T07:12:02.912Z"
      },
      {
        "duration": 4,
        "start_time": "2021-09-24T07:12:14.156Z"
      },
      {
        "duration": 88471,
        "start_time": "2021-09-24T07:12:14.161Z"
      },
      {
        "duration": 24567,
        "start_time": "2021-09-24T07:13:42.634Z"
      },
      {
        "duration": 3,
        "start_time": "2021-09-24T07:14:14.910Z"
      },
      {
        "duration": 4557,
        "start_time": "2021-09-24T07:14:15.412Z"
      },
      {
        "duration": 3,
        "start_time": "2021-09-24T07:14:19.971Z"
      },
      {
        "duration": 6,
        "start_time": "2021-09-24T07:14:25.493Z"
      },
      {
        "duration": 595375,
        "start_time": "2021-09-24T07:14:25.912Z"
      },
      {
        "duration": 6,
        "start_time": "2021-09-24T07:24:21.289Z"
      },
      {
        "duration": 17,
        "start_time": "2021-09-24T07:24:21.297Z"
      },
      {
        "duration": 3,
        "start_time": "2021-09-24T07:31:16.736Z"
      },
      {
        "duration": 233637,
        "start_time": "2021-09-24T07:31:17.183Z"
      },
      {
        "duration": 6,
        "start_time": "2021-09-24T07:35:10.821Z"
      },
      {
        "duration": 28,
        "start_time": "2021-09-24T07:35:10.828Z"
      },
      {
        "duration": 3,
        "start_time": "2021-09-24T07:36:27.972Z"
      },
      {
        "duration": 3,
        "start_time": "2021-09-24T07:51:04.497Z"
      },
      {
        "duration": 5607,
        "start_time": "2021-09-24T07:51:32.053Z"
      },
      {
        "duration": 4243,
        "start_time": "2021-09-24T07:55:13.460Z"
      },
      {
        "duration": 3,
        "start_time": "2021-09-24T08:04:04.867Z"
      },
      {
        "duration": 2,
        "start_time": "2021-09-24T08:04:12.148Z"
      },
      {
        "duration": 3,
        "start_time": "2021-09-24T08:04:33.059Z"
      },
      {
        "duration": 599,
        "start_time": "2021-09-24T08:04:41.093Z"
      },
      {
        "duration": 6797,
        "start_time": "2021-09-24T11:44:42.203Z"
      },
      {
        "duration": 19,
        "start_time": "2021-09-24T11:44:49.003Z"
      },
      {
        "duration": 772,
        "start_time": "2021-09-24T11:44:49.025Z"
      },
      {
        "duration": 40,
        "start_time": "2021-09-24T11:44:49.800Z"
      },
      {
        "duration": 110,
        "start_time": "2021-09-24T11:44:49.843Z"
      },
      {
        "duration": 30,
        "start_time": "2021-09-24T11:44:49.956Z"
      },
      {
        "duration": 6,
        "start_time": "2021-09-24T11:44:49.989Z"
      },
      {
        "duration": 144,
        "start_time": "2021-09-24T11:44:49.999Z"
      },
      {
        "duration": 65487,
        "start_time": "2021-09-24T11:44:50.146Z"
      },
      {
        "duration": 16587,
        "start_time": "2021-09-24T11:45:55.637Z"
      },
      {
        "duration": 5,
        "start_time": "2021-09-24T11:46:12.227Z"
      },
      {
        "duration": 141168,
        "start_time": "2021-09-24T11:46:12.235Z"
      },
      {
        "duration": 35630,
        "start_time": "2021-09-24T11:48:33.406Z"
      },
      {
        "duration": 3,
        "start_time": "2021-09-24T11:49:09.038Z"
      },
      {
        "duration": 5231,
        "start_time": "2021-09-24T11:49:09.044Z"
      },
      {
        "duration": 6291,
        "start_time": "2021-09-24T11:49:14.277Z"
      },
      {
        "duration": 3,
        "start_time": "2021-09-24T11:49:20.571Z"
      },
      {
        "duration": 6991,
        "start_time": "2021-09-24T11:49:20.576Z"
      },
      {
        "duration": 4,
        "start_time": "2021-09-24T11:49:27.570Z"
      },
      {
        "duration": 11,
        "start_time": "2021-09-24T11:49:27.577Z"
      },
      {
        "duration": 24,
        "start_time": "2021-09-24T11:49:27.592Z"
      },
      {
        "duration": 12,
        "start_time": "2021-09-24T11:49:27.619Z"
      },
      {
        "duration": 978,
        "start_time": "2021-09-24T11:49:27.634Z"
      },
      {
        "duration": 7270,
        "start_time": "2021-09-24T11:49:21.345Z"
      },
      {
        "duration": 7266,
        "start_time": "2021-09-24T11:49:21.351Z"
      },
      {
        "duration": 7264,
        "start_time": "2021-09-24T11:49:21.354Z"
      },
      {
        "duration": 4,
        "start_time": "2021-09-24T11:50:02.866Z"
      },
      {
        "duration": 1737981,
        "start_time": "2021-09-24T11:50:06.911Z"
      },
      {
        "duration": 6,
        "start_time": "2021-09-24T12:19:04.895Z"
      },
      {
        "duration": 5,
        "start_time": "2021-09-24T12:19:04.918Z"
      },
      {
        "duration": 4,
        "start_time": "2021-09-24T12:22:07.588Z"
      },
      {
        "duration": 4,
        "start_time": "2021-09-24T12:24:00.799Z"
      },
      {
        "duration": 7465,
        "start_time": "2021-09-24T12:24:03.750Z"
      },
      {
        "duration": 8,
        "start_time": "2021-09-24T12:24:11.217Z"
      },
      {
        "duration": 16,
        "start_time": "2021-09-24T12:24:11.228Z"
      },
      {
        "duration": 4,
        "start_time": "2021-09-24T12:25:36.493Z"
      },
      {
        "duration": 21449,
        "start_time": "2021-09-24T18:43:37.982Z"
      },
      {
        "duration": 12,
        "start_time": "2021-09-24T18:43:59.433Z"
      },
      {
        "duration": 10069,
        "start_time": "2021-09-24T18:43:59.448Z"
      },
      {
        "duration": 38,
        "start_time": "2021-09-24T18:44:09.520Z"
      },
      {
        "duration": 116,
        "start_time": "2021-09-24T18:44:09.561Z"
      },
      {
        "duration": 21,
        "start_time": "2021-09-24T18:44:09.679Z"
      },
      {
        "duration": 5,
        "start_time": "2021-09-24T18:44:09.702Z"
      },
      {
        "duration": 135,
        "start_time": "2021-09-24T18:44:09.711Z"
      },
      {
        "duration": 64336,
        "start_time": "2021-09-24T18:44:09.848Z"
      },
      {
        "duration": 17256,
        "start_time": "2021-09-24T18:45:14.186Z"
      },
      {
        "duration": 12,
        "start_time": "2021-09-24T18:45:31.444Z"
      },
      {
        "duration": 137699,
        "start_time": "2021-09-24T18:45:31.458Z"
      },
      {
        "duration": 35186,
        "start_time": "2021-09-24T18:47:49.160Z"
      },
      {
        "duration": 3,
        "start_time": "2021-09-24T18:48:24.356Z"
      },
      {
        "duration": 4852,
        "start_time": "2021-09-24T18:48:24.361Z"
      },
      {
        "duration": 6385,
        "start_time": "2021-09-24T18:48:29.216Z"
      },
      {
        "duration": 4,
        "start_time": "2021-09-24T18:48:35.603Z"
      },
      {
        "duration": 6473,
        "start_time": "2021-09-24T18:48:35.609Z"
      },
      {
        "duration": 4,
        "start_time": "2021-09-24T18:48:42.085Z"
      },
      {
        "duration": 27,
        "start_time": "2021-09-24T18:48:42.091Z"
      },
      {
        "duration": 11,
        "start_time": "2021-09-24T18:48:42.122Z"
      },
      {
        "duration": 905,
        "start_time": "2021-09-24T18:48:42.136Z"
      },
      {
        "duration": -56,
        "start_time": "2021-09-24T18:48:43.099Z"
      },
      {
        "duration": 4,
        "start_time": "2021-09-24T18:50:14.042Z"
      },
      {
        "duration": 4,
        "start_time": "2021-09-24T18:50:20.780Z"
      },
      {
        "duration": 451,
        "start_time": "2021-09-24T18:50:24.785Z"
      },
      {
        "duration": 3,
        "start_time": "2021-09-24T18:57:00.323Z"
      },
      {
        "duration": 4,
        "start_time": "2021-09-24T18:57:02.173Z"
      },
      {
        "duration": 472,
        "start_time": "2021-09-24T18:57:03.556Z"
      },
      {
        "duration": 4,
        "start_time": "2021-09-24T18:57:21.835Z"
      },
      {
        "duration": 4,
        "start_time": "2021-09-24T18:57:23.543Z"
      },
      {
        "duration": 212193,
        "start_time": "2021-09-24T18:57:25.421Z"
      },
      {
        "duration": 124,
        "start_time": "2021-09-24T19:05:08.369Z"
      },
      {
        "duration": 4,
        "start_time": "2021-09-24T19:05:14.984Z"
      },
      {
        "duration": 4,
        "start_time": "2021-09-24T19:05:20.455Z"
      },
      {
        "duration": 3,
        "start_time": "2021-09-24T19:05:20.994Z"
      },
      {
        "duration": 560470,
        "start_time": "2021-09-24T19:05:21.708Z"
      },
      {
        "duration": 5,
        "start_time": "2021-09-24T19:14:42.181Z"
      },
      {
        "duration": 14,
        "start_time": "2021-09-24T19:14:42.190Z"
      },
      {
        "duration": 4,
        "start_time": "2021-09-24T19:15:27.090Z"
      },
      {
        "duration": 6863,
        "start_time": "2021-09-24T19:31:35.493Z"
      },
      {
        "duration": 11,
        "start_time": "2021-09-24T19:31:42.358Z"
      },
      {
        "duration": 868,
        "start_time": "2021-09-24T19:31:42.372Z"
      },
      {
        "duration": 39,
        "start_time": "2021-09-24T19:31:43.243Z"
      },
      {
        "duration": 107,
        "start_time": "2021-09-24T19:31:43.285Z"
      },
      {
        "duration": 17,
        "start_time": "2021-09-24T19:31:43.395Z"
      },
      {
        "duration": 5,
        "start_time": "2021-09-24T19:31:43.415Z"
      },
      {
        "duration": 136,
        "start_time": "2021-09-24T19:31:43.424Z"
      },
      {
        "duration": 63497,
        "start_time": "2021-09-24T19:31:43.563Z"
      },
      {
        "duration": 16193,
        "start_time": "2021-09-24T19:32:47.063Z"
      },
      {
        "duration": 5,
        "start_time": "2021-09-24T19:33:03.258Z"
      },
      {
        "duration": 138220,
        "start_time": "2021-09-24T19:33:03.265Z"
      },
      {
        "duration": 35069,
        "start_time": "2021-09-24T19:35:21.488Z"
      },
      {
        "duration": 3,
        "start_time": "2021-09-24T19:35:56.560Z"
      },
      {
        "duration": 4921,
        "start_time": "2021-09-24T19:35:56.566Z"
      },
      {
        "duration": 6396,
        "start_time": "2021-09-24T19:36:01.490Z"
      },
      {
        "duration": 4,
        "start_time": "2021-09-24T19:36:07.888Z"
      },
      {
        "duration": 6912,
        "start_time": "2021-09-24T19:36:07.894Z"
      },
      {
        "duration": 4,
        "start_time": "2021-09-24T19:36:14.809Z"
      },
      {
        "duration": 14,
        "start_time": "2021-09-24T19:36:14.816Z"
      },
      {
        "duration": 4,
        "start_time": "2021-09-24T19:41:09.218Z"
      },
      {
        "duration": 929,
        "start_time": "2021-09-24T19:41:18.467Z"
      },
      {
        "duration": 4,
        "start_time": "2021-09-24T19:41:26.046Z"
      },
      {
        "duration": 4,
        "start_time": "2021-09-24T19:41:33.419Z"
      },
      {
        "duration": 561384,
        "start_time": "2021-09-24T19:41:52.053Z"
      },
      {
        "duration": 5,
        "start_time": "2021-09-24T19:51:13.439Z"
      },
      {
        "duration": 10908,
        "start_time": "2021-09-25T14:45:12.890Z"
      },
      {
        "duration": 12,
        "start_time": "2021-09-25T14:45:23.800Z"
      },
      {
        "duration": 779,
        "start_time": "2021-09-25T14:45:23.815Z"
      },
      {
        "duration": 37,
        "start_time": "2021-09-25T14:45:24.597Z"
      },
      {
        "duration": 120,
        "start_time": "2021-09-25T14:45:24.636Z"
      },
      {
        "duration": 25,
        "start_time": "2021-09-25T14:45:24.758Z"
      },
      {
        "duration": 5,
        "start_time": "2021-09-25T14:45:24.786Z"
      },
      {
        "duration": 135,
        "start_time": "2021-09-25T14:45:24.797Z"
      },
      {
        "duration": 65387,
        "start_time": "2021-09-25T14:45:24.935Z"
      },
      {
        "duration": 16707,
        "start_time": "2021-09-25T14:46:30.324Z"
      },
      {
        "duration": 6,
        "start_time": "2021-09-25T14:46:47.035Z"
      },
      {
        "duration": 140298,
        "start_time": "2021-09-25T14:46:47.044Z"
      },
      {
        "duration": 35491,
        "start_time": "2021-09-25T14:49:07.344Z"
      },
      {
        "duration": 3,
        "start_time": "2021-09-25T14:49:42.837Z"
      },
      {
        "duration": 5001,
        "start_time": "2021-09-25T14:49:42.843Z"
      },
      {
        "duration": 6287,
        "start_time": "2021-09-25T14:49:47.847Z"
      },
      {
        "duration": 4,
        "start_time": "2021-09-25T14:49:54.136Z"
      },
      {
        "duration": 6677,
        "start_time": "2021-09-25T14:49:54.142Z"
      },
      {
        "duration": 4,
        "start_time": "2021-09-25T14:50:00.822Z"
      },
      {
        "duration": 16,
        "start_time": "2021-09-25T14:50:00.828Z"
      },
      {
        "duration": 4,
        "start_time": "2021-09-25T14:52:28.706Z"
      },
      {
        "duration": 4,
        "start_time": "2021-09-25T14:52:29.305Z"
      },
      {
        "duration": 4,
        "start_time": "2021-09-25T14:52:29.879Z"
      },
      {
        "duration": 960,
        "start_time": "2021-09-25T14:52:30.485Z"
      },
      {
        "duration": -127,
        "start_time": "2021-09-25T14:52:31.576Z"
      },
      {
        "duration": 354,
        "start_time": "2021-09-25T14:52:31.570Z"
      },
      {
        "duration": 5480404,
        "start_time": "2021-09-25T14:52:58.288Z"
      },
      {
        "duration": 6,
        "start_time": "2021-09-25T16:24:18.695Z"
      },
      {
        "duration": 8,
        "start_time": "2021-09-25T16:24:18.704Z"
      },
      {
        "duration": 5,
        "start_time": "2021-09-25T16:24:18.715Z"
      },
      {
        "duration": 6,
        "start_time": "2021-09-25T16:37:18.202Z"
      },
      {
        "duration": 5,
        "start_time": "2021-09-25T16:37:29.669Z"
      },
      {
        "duration": 4,
        "start_time": "2021-09-25T16:37:31.348Z"
      },
      {
        "duration": 996589,
        "start_time": "2021-09-25T16:37:32.187Z"
      },
      {
        "duration": 6,
        "start_time": "2021-09-25T16:54:08.778Z"
      },
      {
        "duration": 6,
        "start_time": "2021-09-25T16:54:08.786Z"
      },
      {
        "duration": 6,
        "start_time": "2021-09-25T16:54:08.794Z"
      },
      {
        "duration": 281,
        "start_time": "2021-09-25T16:54:08.802Z"
      },
      {
        "duration": -187,
        "start_time": "2021-09-25T16:54:09.274Z"
      },
      {
        "duration": -189,
        "start_time": "2021-09-25T16:54:09.277Z"
      },
      {
        "duration": -191,
        "start_time": "2021-09-25T16:54:09.281Z"
      },
      {
        "duration": -194,
        "start_time": "2021-09-25T16:54:09.285Z"
      },
      {
        "duration": -196,
        "start_time": "2021-09-25T16:54:09.289Z"
      },
      {
        "duration": -199,
        "start_time": "2021-09-25T16:54:09.293Z"
      },
      {
        "duration": -201,
        "start_time": "2021-09-25T16:54:09.296Z"
      },
      {
        "duration": -203,
        "start_time": "2021-09-25T16:54:09.300Z"
      },
      {
        "duration": -204,
        "start_time": "2021-09-25T16:54:09.303Z"
      },
      {
        "duration": -208,
        "start_time": "2021-09-25T16:54:09.308Z"
      },
      {
        "duration": -212,
        "start_time": "2021-09-25T16:54:09.313Z"
      },
      {
        "duration": -214,
        "start_time": "2021-09-25T16:54:09.317Z"
      },
      {
        "duration": -217,
        "start_time": "2021-09-25T16:54:09.321Z"
      },
      {
        "duration": -220,
        "start_time": "2021-09-25T16:54:09.326Z"
      },
      {
        "duration": -222,
        "start_time": "2021-09-25T16:54:09.329Z"
      },
      {
        "duration": -225,
        "start_time": "2021-09-25T16:54:09.334Z"
      },
      {
        "duration": -227,
        "start_time": "2021-09-25T16:54:09.337Z"
      },
      {
        "duration": -230,
        "start_time": "2021-09-25T16:54:09.342Z"
      },
      {
        "duration": -232,
        "start_time": "2021-09-25T16:54:09.345Z"
      },
      {
        "duration": -234,
        "start_time": "2021-09-25T16:54:09.349Z"
      },
      {
        "duration": -235,
        "start_time": "2021-09-25T16:54:09.352Z"
      },
      {
        "duration": 4,
        "start_time": "2021-09-25T17:23:04.266Z"
      },
      {
        "duration": 21508,
        "start_time": "2021-09-25T17:23:04.904Z"
      },
      {
        "duration": 95,
        "start_time": "2021-09-25T17:23:26.414Z"
      },
      {
        "duration": -190,
        "start_time": "2021-09-25T17:23:26.702Z"
      },
      {
        "duration": 4,
        "start_time": "2021-09-25T17:23:33.660Z"
      },
      {
        "duration": 7463,
        "start_time": "2021-09-25T17:23:36.588Z"
      },
      {
        "duration": 11800968,
        "start_time": "2021-09-25T17:23:47.578Z"
      },
      {
        "duration": 5,
        "start_time": "2021-09-25T20:40:28.549Z"
      },
      {
        "duration": 25,
        "start_time": "2021-09-25T20:40:28.557Z"
      },
      {
        "duration": 3,
        "start_time": "2021-09-25T20:40:28.585Z"
      },
      {
        "duration": 515083,
        "start_time": "2021-09-25T20:40:28.590Z"
      },
      {
        "duration": 6,
        "start_time": "2021-09-25T20:49:03.683Z"
      },
      {
        "duration": 6,
        "start_time": "2021-09-25T20:49:03.692Z"
      },
      {
        "duration": 4,
        "start_time": "2021-09-25T20:49:03.703Z"
      },
      {
        "duration": 287,
        "start_time": "2021-09-25T20:49:03.711Z"
      },
      {
        "duration": -316,
        "start_time": "2021-09-25T20:49:04.318Z"
      },
      {
        "duration": -319,
        "start_time": "2021-09-25T20:49:04.323Z"
      },
      {
        "duration": -321,
        "start_time": "2021-09-25T20:49:04.327Z"
      },
      {
        "duration": -321,
        "start_time": "2021-09-25T20:49:04.330Z"
      },
      {
        "duration": -323,
        "start_time": "2021-09-25T20:49:04.334Z"
      },
      {
        "duration": -326,
        "start_time": "2021-09-25T20:49:04.339Z"
      },
      {
        "duration": -328,
        "start_time": "2021-09-25T20:49:04.343Z"
      },
      {
        "duration": -329,
        "start_time": "2021-09-25T20:49:04.347Z"
      },
      {
        "duration": -331,
        "start_time": "2021-09-25T20:49:04.351Z"
      },
      {
        "duration": -333,
        "start_time": "2021-09-25T20:49:04.355Z"
      },
      {
        "duration": -335,
        "start_time": "2021-09-25T20:49:04.359Z"
      },
      {
        "duration": -338,
        "start_time": "2021-09-25T20:49:04.364Z"
      },
      {
        "duration": -340,
        "start_time": "2021-09-25T20:49:04.368Z"
      },
      {
        "duration": 6909,
        "start_time": "2021-09-25T20:52:20.047Z"
      },
      {
        "duration": 144554,
        "start_time": "2021-09-25T20:52:35.480Z"
      },
      {
        "duration": 263,
        "start_time": "2021-09-25T20:55:00.037Z"
      },
      {
        "duration": -312,
        "start_time": "2021-09-25T20:55:00.615Z"
      },
      {
        "duration": -315,
        "start_time": "2021-09-25T20:55:00.620Z"
      },
      {
        "duration": -318,
        "start_time": "2021-09-25T20:55:00.624Z"
      },
      {
        "duration": -319,
        "start_time": "2021-09-25T20:55:00.627Z"
      },
      {
        "duration": -323,
        "start_time": "2021-09-25T20:55:00.632Z"
      },
      {
        "duration": -325,
        "start_time": "2021-09-25T20:55:00.635Z"
      },
      {
        "duration": -327,
        "start_time": "2021-09-25T20:55:00.639Z"
      },
      {
        "duration": -329,
        "start_time": "2021-09-25T20:55:00.642Z"
      },
      {
        "duration": -333,
        "start_time": "2021-09-25T20:55:00.647Z"
      },
      {
        "duration": -334,
        "start_time": "2021-09-25T20:55:00.650Z"
      },
      {
        "duration": -337,
        "start_time": "2021-09-25T20:55:00.654Z"
      },
      {
        "duration": -339,
        "start_time": "2021-09-25T20:55:00.658Z"
      },
      {
        "duration": 5,
        "start_time": "2021-09-25T21:12:57.355Z"
      },
      {
        "duration": 4,
        "start_time": "2021-09-25T21:13:01.476Z"
      },
      {
        "duration": 4,
        "start_time": "2021-09-25T21:13:01.687Z"
      },
      {
        "duration": 445673,
        "start_time": "2021-09-25T21:13:01.870Z"
      },
      {
        "duration": 295,
        "start_time": "2021-09-25T21:20:27.545Z"
      },
      {
        "duration": -326,
        "start_time": "2021-09-25T21:20:28.169Z"
      },
      {
        "duration": -331,
        "start_time": "2021-09-25T21:20:28.176Z"
      },
      {
        "duration": -334,
        "start_time": "2021-09-25T21:20:28.181Z"
      },
      {
        "duration": -337,
        "start_time": "2021-09-25T21:20:28.186Z"
      },
      {
        "duration": -340,
        "start_time": "2021-09-25T21:20:28.190Z"
      },
      {
        "duration": -341,
        "start_time": "2021-09-25T21:20:28.193Z"
      },
      {
        "duration": -343,
        "start_time": "2021-09-25T21:20:28.197Z"
      },
      {
        "duration": -346,
        "start_time": "2021-09-25T21:20:28.201Z"
      },
      {
        "duration": 5,
        "start_time": "2021-09-25T21:21:30.540Z"
      },
      {
        "duration": 4,
        "start_time": "2021-09-25T21:21:38.280Z"
      },
      {
        "duration": 4,
        "start_time": "2021-09-25T21:21:38.617Z"
      },
      {
        "duration": 143814,
        "start_time": "2021-09-25T21:21:38.840Z"
      },
      {
        "duration": 5,
        "start_time": "2021-09-25T21:24:02.657Z"
      },
      {
        "duration": 19,
        "start_time": "2021-09-25T21:24:02.665Z"
      },
      {
        "duration": 7,
        "start_time": "2021-09-25T21:24:02.686Z"
      },
      {
        "duration": 444558,
        "start_time": "2021-09-25T21:24:02.696Z"
      },
      {
        "duration": 6,
        "start_time": "2021-09-25T21:31:27.256Z"
      },
      {
        "duration": 23852,
        "start_time": "2021-09-25T22:21:46.056Z"
      },
      {
        "duration": 4,
        "start_time": "2021-09-25T22:22:39.318Z"
      },
      {
        "duration": 4,
        "start_time": "2021-09-25T22:22:39.883Z"
      },
      {
        "duration": 507901,
        "start_time": "2021-09-25T22:22:40.518Z"
      },
      {
        "duration": 6,
        "start_time": "2021-09-25T22:31:08.422Z"
      },
      {
        "duration": 8,
        "start_time": "2021-09-25T22:31:08.431Z"
      },
      {
        "duration": 9,
        "start_time": "2021-09-25T22:31:08.442Z"
      },
      {
        "duration": 303280,
        "start_time": "2021-09-25T22:31:08.453Z"
      },
      {
        "duration": 6,
        "start_time": "2021-09-25T22:36:11.736Z"
      },
      {
        "duration": 6184,
        "start_time": "2021-09-26T12:12:54.838Z"
      },
      {
        "duration": 12,
        "start_time": "2021-09-26T12:13:01.025Z"
      },
      {
        "duration": 762,
        "start_time": "2021-09-26T12:13:01.041Z"
      },
      {
        "duration": 35,
        "start_time": "2021-09-26T12:13:01.806Z"
      },
      {
        "duration": 122,
        "start_time": "2021-09-26T12:13:01.844Z"
      },
      {
        "duration": 30,
        "start_time": "2021-09-26T12:13:01.969Z"
      },
      {
        "duration": 6,
        "start_time": "2021-09-26T12:13:02.001Z"
      },
      {
        "duration": 132,
        "start_time": "2021-09-26T12:13:02.010Z"
      },
      {
        "duration": 62931,
        "start_time": "2021-09-26T12:13:02.146Z"
      },
      {
        "duration": 16175,
        "start_time": "2021-09-26T12:14:05.080Z"
      },
      {
        "duration": 4,
        "start_time": "2021-09-26T12:14:21.257Z"
      },
      {
        "duration": 136674,
        "start_time": "2021-09-26T12:14:21.264Z"
      },
      {
        "duration": 34488,
        "start_time": "2021-09-26T12:16:37.941Z"
      },
      {
        "duration": 4,
        "start_time": "2021-09-26T12:17:12.431Z"
      },
      {
        "duration": 6049,
        "start_time": "2021-09-26T12:17:12.438Z"
      },
      {
        "duration": 4,
        "start_time": "2021-09-26T12:17:18.489Z"
      },
      {
        "duration": 6608,
        "start_time": "2021-09-26T12:17:18.496Z"
      },
      {
        "duration": 4,
        "start_time": "2021-09-26T12:17:25.107Z"
      },
      {
        "duration": 16,
        "start_time": "2021-09-26T12:17:25.113Z"
      },
      {
        "duration": 26043,
        "start_time": "2021-09-26T12:17:25.132Z"
      },
      {
        "duration": 4,
        "start_time": "2021-09-26T12:17:51.178Z"
      },
      {
        "duration": 28842,
        "start_time": "2021-09-26T12:17:51.185Z"
      },
      {
        "duration": 1759,
        "start_time": "2021-09-26T12:18:20.029Z"
      },
      {
        "duration": -720,
        "start_time": "2021-09-26T12:18:22.511Z"
      },
      {
        "duration": -729,
        "start_time": "2021-09-26T12:18:22.522Z"
      },
      {
        "duration": -731,
        "start_time": "2021-09-26T12:18:22.526Z"
      },
      {
        "duration": -732,
        "start_time": "2021-09-26T12:18:22.529Z"
      },
      {
        "duration": -734,
        "start_time": "2021-09-26T12:18:22.533Z"
      },
      {
        "duration": 4,
        "start_time": "2021-09-26T12:23:30.641Z"
      },
      {
        "duration": 306,
        "start_time": "2021-09-26T12:23:33.639Z"
      },
      {
        "duration": -696,
        "start_time": "2021-09-26T12:23:34.643Z"
      },
      {
        "duration": -717,
        "start_time": "2021-09-26T12:23:34.665Z"
      },
      {
        "duration": 4,
        "start_time": "2021-09-26T12:23:42.956Z"
      },
      {
        "duration": 4,
        "start_time": "2021-09-26T12:23:50.188Z"
      },
      {
        "duration": 523701,
        "start_time": "2021-09-26T12:23:52.500Z"
      },
      {
        "duration": 5,
        "start_time": "2021-09-26T12:32:36.204Z"
      },
      {
        "duration": 267,
        "start_time": "2021-09-26T12:34:59.256Z"
      },
      {
        "duration": 59263,
        "start_time": "2021-09-26T12:34:59.526Z"
      },
      {
        "duration": 3,
        "start_time": "2021-09-26T12:35:58.792Z"
      },
      {
        "duration": 11,
        "start_time": "2021-09-26T12:35:58.798Z"
      },
      {
        "duration": 707032,
        "start_time": "2021-09-26T12:35:58.822Z"
      },
      {
        "duration": 5,
        "start_time": "2021-09-26T12:47:45.856Z"
      },
      {
        "duration": 6798,
        "start_time": "2021-09-28T06:07:40.531Z"
      },
      {
        "duration": 1320,
        "start_time": "2021-09-28T06:07:47.332Z"
      },
      {
        "duration": 33,
        "start_time": "2021-09-28T06:07:48.663Z"
      },
      {
        "duration": 117,
        "start_time": "2021-09-28T06:07:48.699Z"
      },
      {
        "duration": 18,
        "start_time": "2021-09-28T06:07:48.818Z"
      },
      {
        "duration": 6,
        "start_time": "2021-09-28T06:07:48.838Z"
      },
      {
        "duration": 134,
        "start_time": "2021-09-28T06:07:48.846Z"
      },
      {
        "duration": 66508,
        "start_time": "2021-09-28T06:07:48.983Z"
      },
      {
        "duration": 17033,
        "start_time": "2021-09-28T06:08:55.494Z"
      },
      {
        "duration": 5,
        "start_time": "2021-09-28T06:09:12.530Z"
      },
      {
        "duration": 143000,
        "start_time": "2021-09-28T06:09:12.537Z"
      },
      {
        "duration": 36394,
        "start_time": "2021-09-28T06:11:35.541Z"
      },
      {
        "duration": 3,
        "start_time": "2021-09-28T06:12:11.938Z"
      },
      {
        "duration": 6390,
        "start_time": "2021-09-28T06:12:11.943Z"
      },
      {
        "duration": 3,
        "start_time": "2021-09-28T06:12:18.336Z"
      },
      {
        "duration": 6733,
        "start_time": "2021-09-28T06:12:18.342Z"
      },
      {
        "duration": 4,
        "start_time": "2021-09-28T06:12:25.078Z"
      },
      {
        "duration": 27144,
        "start_time": "2021-09-28T06:12:25.084Z"
      },
      {
        "duration": 3,
        "start_time": "2021-09-28T06:12:52.231Z"
      },
      {
        "duration": 32422,
        "start_time": "2021-09-28T06:12:52.236Z"
      },
      {
        "duration": 5,
        "start_time": "2021-09-28T06:13:24.663Z"
      },
      {
        "duration": 4,
        "start_time": "2021-09-28T06:24:07.306Z"
      },
      {
        "duration": 799,
        "start_time": "2021-09-28T06:24:07.938Z"
      },
      {
        "duration": 5,
        "start_time": "2021-09-28T06:24:13.410Z"
      },
      {
        "duration": 4,
        "start_time": "2021-09-28T06:24:18.112Z"
      },
      {
        "duration": 9420,
        "start_time": "2021-09-29T06:08:01.481Z"
      },
      {
        "duration": 789,
        "start_time": "2021-09-29T06:08:10.903Z"
      },
      {
        "duration": 31,
        "start_time": "2021-09-29T06:08:11.695Z"
      },
      {
        "duration": 120,
        "start_time": "2021-09-29T06:08:11.729Z"
      },
      {
        "duration": 32,
        "start_time": "2021-09-29T06:08:11.852Z"
      },
      {
        "duration": 6,
        "start_time": "2021-09-29T06:08:11.886Z"
      },
      {
        "duration": 140,
        "start_time": "2021-09-29T06:08:11.894Z"
      },
      {
        "duration": 70509,
        "start_time": "2021-09-29T06:08:12.039Z"
      },
      {
        "duration": 18160,
        "start_time": "2021-09-29T06:09:22.551Z"
      },
      {
        "duration": 5,
        "start_time": "2021-09-29T06:09:40.713Z"
      },
      {
        "duration": 153225,
        "start_time": "2021-09-29T06:09:40.720Z"
      },
      {
        "duration": 41264,
        "start_time": "2021-09-29T06:12:13.947Z"
      },
      {
        "duration": 4,
        "start_time": "2021-09-29T06:12:55.213Z"
      },
      {
        "duration": 6809,
        "start_time": "2021-09-29T06:12:55.219Z"
      },
      {
        "duration": 4,
        "start_time": "2021-09-29T06:13:02.030Z"
      },
      {
        "duration": 7164,
        "start_time": "2021-09-29T06:13:02.036Z"
      },
      {
        "duration": 4,
        "start_time": "2021-09-29T06:13:09.203Z"
      },
      {
        "duration": 26922,
        "start_time": "2021-09-29T06:13:09.210Z"
      },
      {
        "duration": 4,
        "start_time": "2021-09-29T06:13:36.134Z"
      },
      {
        "duration": 30301,
        "start_time": "2021-09-29T06:13:36.140Z"
      },
      {
        "duration": 4,
        "start_time": "2021-09-29T06:14:06.443Z"
      },
      {
        "duration": 4,
        "start_time": "2021-09-29T06:15:24.744Z"
      },
      {
        "duration": 3,
        "start_time": "2021-09-29T06:15:34.588Z"
      },
      {
        "duration": 3,
        "start_time": "2021-09-29T06:15:34.777Z"
      },
      {
        "duration": 4466108,
        "start_time": "2021-09-29T06:15:35.023Z"
      },
      {
        "duration": 6,
        "start_time": "2021-09-29T07:30:01.134Z"
      },
      {
        "duration": 4,
        "start_time": "2021-09-29T07:50:11.410Z"
      },
      {
        "duration": 4,
        "start_time": "2021-09-29T07:50:30.240Z"
      },
      {
        "duration": 5,
        "start_time": "2021-09-29T07:50:30.665Z"
      },
      {
        "duration": 1208063,
        "start_time": "2021-09-29T07:50:30.945Z"
      },
      {
        "duration": 5,
        "start_time": "2021-09-29T08:10:39.012Z"
      },
      {
        "duration": 9,
        "start_time": "2021-09-29T08:10:39.020Z"
      },
      {
        "duration": 11,
        "start_time": "2021-09-29T08:10:39.032Z"
      },
      {
        "duration": 620186,
        "start_time": "2021-09-29T08:10:39.045Z"
      },
      {
        "duration": 5,
        "start_time": "2021-09-29T08:20:59.233Z"
      },
      {
        "duration": 4,
        "start_time": "2021-09-29T08:22:02.308Z"
      },
      {
        "duration": 12676,
        "start_time": "2021-09-29T08:22:04.591Z"
      },
      {
        "duration": 20,
        "start_time": "2021-09-29T08:22:17.269Z"
      },
      {
        "duration": 4,
        "start_time": "2021-09-29T08:22:55.405Z"
      },
      {
        "duration": 4780,
        "start_time": "2021-09-29T08:22:55.847Z"
      },
      {
        "duration": 932,
        "start_time": "2021-09-29T08:23:00.629Z"
      },
      {
        "duration": 364,
        "start_time": "2021-09-29T08:23:31.655Z"
      },
      {
        "duration": 273,
        "start_time": "2021-09-29T08:23:56.727Z"
      },
      {
        "duration": 9,
        "start_time": "2021-09-29T08:24:21.215Z"
      },
      {
        "duration": 1470,
        "start_time": "2021-09-29T08:24:21.944Z"
      },
      {
        "duration": 4,
        "start_time": "2021-09-29T08:24:47.271Z"
      },
      {
        "duration": 294,
        "start_time": "2021-09-29T08:24:53.298Z"
      },
      {
        "duration": 7911,
        "start_time": "2021-09-29T08:25:08.008Z"
      },
      {
        "duration": 7,
        "start_time": "2021-09-29T08:25:22.376Z"
      },
      {
        "duration": 1285,
        "start_time": "2021-09-29T08:25:23.034Z"
      },
      {
        "duration": 4816,
        "start_time": "2021-09-29T08:25:37.977Z"
      },
      {
        "duration": 8,
        "start_time": "2021-09-29T08:25:45.976Z"
      },
      {
        "duration": 4017,
        "start_time": "2021-09-29T08:25:46.753Z"
      },
      {
        "duration": 6,
        "start_time": "2021-09-29T08:26:14.443Z"
      },
      {
        "duration": 6,
        "start_time": "2021-09-29T08:26:37.031Z"
      },
      {
        "duration": 113,
        "start_time": "2021-09-29T08:26:49.388Z"
      },
      {
        "duration": 6,
        "start_time": "2021-09-29T08:26:54.306Z"
      },
      {
        "duration": 7,
        "start_time": "2021-09-29T08:27:02.607Z"
      },
      {
        "duration": 6,
        "start_time": "2021-09-29T08:27:10.021Z"
      },
      {
        "duration": 7,
        "start_time": "2021-09-29T08:27:36.651Z"
      },
      {
        "duration": 9,
        "start_time": "2021-09-29T08:27:52.441Z"
      },
      {
        "duration": 3940,
        "start_time": "2021-09-29T08:27:57.038Z"
      },
      {
        "duration": 8,
        "start_time": "2021-09-29T08:28:18.996Z"
      },
      {
        "duration": 8,
        "start_time": "2021-09-29T08:28:27.777Z"
      },
      {
        "duration": 6341,
        "start_time": "2021-09-29T09:48:13.467Z"
      },
      {
        "duration": 790,
        "start_time": "2021-09-29T09:48:19.811Z"
      },
      {
        "duration": 30,
        "start_time": "2021-09-29T09:48:20.604Z"
      },
      {
        "duration": 117,
        "start_time": "2021-09-29T09:48:20.637Z"
      },
      {
        "duration": 30,
        "start_time": "2021-09-29T09:48:20.757Z"
      },
      {
        "duration": 5,
        "start_time": "2021-09-29T09:48:20.790Z"
      },
      {
        "duration": 122,
        "start_time": "2021-09-29T09:48:20.797Z"
      },
      {
        "duration": 67006,
        "start_time": "2021-09-29T09:48:20.923Z"
      },
      {
        "duration": 17886,
        "start_time": "2021-09-29T09:49:27.932Z"
      },
      {
        "duration": 5,
        "start_time": "2021-09-29T09:49:45.821Z"
      },
      {
        "duration": 143786,
        "start_time": "2021-09-29T09:49:45.828Z"
      },
      {
        "duration": 37311,
        "start_time": "2021-09-29T09:52:09.616Z"
      },
      {
        "duration": 4,
        "start_time": "2021-09-29T09:52:46.929Z"
      },
      {
        "duration": 6155,
        "start_time": "2021-09-29T09:52:46.935Z"
      },
      {
        "duration": 3,
        "start_time": "2021-09-29T09:52:53.093Z"
      },
      {
        "duration": 6644,
        "start_time": "2021-09-29T09:52:53.099Z"
      },
      {
        "duration": 4,
        "start_time": "2021-09-29T09:52:59.745Z"
      },
      {
        "duration": 26682,
        "start_time": "2021-09-29T09:52:59.761Z"
      },
      {
        "duration": 17,
        "start_time": "2021-09-29T09:53:26.445Z"
      },
      {
        "duration": 31148,
        "start_time": "2021-09-29T09:53:26.464Z"
      },
      {
        "duration": 5,
        "start_time": "2021-09-29T09:53:57.615Z"
      },
      {
        "duration": 4,
        "start_time": "2021-09-29T09:55:21.907Z"
      },
      {
        "duration": 4994,
        "start_time": "2021-09-29T09:55:22.740Z"
      },
      {
        "duration": 7,
        "start_time": "2021-09-29T09:55:27.737Z"
      },
      {
        "duration": 7,
        "start_time": "2021-09-29T09:55:29.340Z"
      },
      {
        "duration": 16,
        "start_time": "2021-09-29T09:55:31.787Z"
      },
      {
        "duration": 3,
        "start_time": "2021-09-29T09:57:36.356Z"
      },
      {
        "duration": 8658,
        "start_time": "2021-09-29T09:58:14.562Z"
      },
      {
        "duration": 20,
        "start_time": "2021-09-29T09:58:51.311Z"
      },
      {
        "duration": 18,
        "start_time": "2021-09-29T09:59:01.860Z"
      },
      {
        "duration": 4,
        "start_time": "2021-09-29T10:00:08.761Z"
      },
      {
        "duration": 3,
        "start_time": "2021-09-29T10:00:19.931Z"
      },
      {
        "duration": 4,
        "start_time": "2021-09-29T10:00:26.344Z"
      },
      {
        "duration": 230517,
        "start_time": "2021-09-29T10:00:26.877Z"
      },
      {
        "duration": 6,
        "start_time": "2021-09-29T10:04:17.398Z"
      },
      {
        "duration": 268,
        "start_time": "2021-09-29T10:05:28.862Z"
      },
      {
        "duration": 65602,
        "start_time": "2021-09-29T10:05:29.179Z"
      },
      {
        "duration": 4,
        "start_time": "2021-09-29T10:06:34.784Z"
      },
      {
        "duration": 6,
        "start_time": "2021-09-29T10:06:34.791Z"
      },
      {
        "duration": 339379,
        "start_time": "2021-09-29T10:06:34.800Z"
      },
      {
        "duration": 7,
        "start_time": "2021-09-29T10:12:14.182Z"
      },
      {
        "duration": 777,
        "start_time": "2021-09-29T10:14:30.301Z"
      },
      {
        "duration": 66412,
        "start_time": "2021-09-29T10:14:31.081Z"
      },
      {
        "duration": 5,
        "start_time": "2021-09-29T10:15:37.498Z"
      },
      {
        "duration": 27,
        "start_time": "2021-09-29T10:15:37.505Z"
      },
      {
        "duration": 296028,
        "start_time": "2021-09-29T10:15:37.535Z"
      },
      {
        "duration": 5,
        "start_time": "2021-09-29T10:20:33.566Z"
      },
      {
        "duration": 817,
        "start_time": "2021-09-29T10:25:02.227Z"
      },
      {
        "duration": 71637,
        "start_time": "2021-09-29T10:25:03.047Z"
      },
      {
        "duration": 4,
        "start_time": "2021-09-29T10:26:14.687Z"
      },
      {
        "duration": 12,
        "start_time": "2021-09-29T10:26:14.694Z"
      },
      {
        "duration": 374605,
        "start_time": "2021-09-29T10:26:14.709Z"
      },
      {
        "duration": 6,
        "start_time": "2021-09-29T10:32:29.317Z"
      },
      {
        "duration": 783,
        "start_time": "2021-09-29T10:32:57.901Z"
      },
      {
        "duration": 37127,
        "start_time": "2021-09-29T10:32:58.687Z"
      },
      {
        "duration": 4,
        "start_time": "2021-09-29T10:33:35.817Z"
      },
      {
        "duration": 19,
        "start_time": "2021-09-29T10:33:35.824Z"
      },
      {
        "duration": 244124,
        "start_time": "2021-09-29T10:33:35.846Z"
      },
      {
        "duration": 6,
        "start_time": "2021-09-29T10:40:38.255Z"
      },
      {
        "duration": 82,
        "start_time": "2021-09-29T12:11:41.985Z"
      },
      {
        "duration": 17,
        "start_time": "2021-09-29T12:11:54.409Z"
      }
    ],
    "colab": {
      "name": "toxic_comments.ipynb",
      "provenance": [],
      "collapsed_sections": [
        "FeQSoEGRRWf1",
        "a5e04JZBRWgD"
      ],
      "include_colab_link": true
    },
    "kernelspec": {
      "display_name": "Python 3 (ipykernel)",
      "language": "python",
      "name": "python3"
    },
    "language_info": {
      "codemirror_mode": {
        "name": "ipython",
        "version": 3
      },
      "file_extension": ".py",
      "mimetype": "text/x-python",
      "name": "python",
      "nbconvert_exporter": "python",
      "pygments_lexer": "ipython3",
      "version": "3.9.5"
    },
    "toc": {
      "base_numbering": 1,
      "nav_menu": {},
      "number_sections": true,
      "sideBar": true,
      "skip_h1_title": true,
      "title_cell": "Содержание",
      "title_sidebar": "Contents",
      "toc_cell": true,
      "toc_position": {
        "height": "calc(100% - 180px)",
        "left": "10px",
        "top": "150px",
        "width": "302.391px"
      },
      "toc_section_display": true,
      "toc_window_display": true
    }
  },
  "nbformat": 4,
  "nbformat_minor": 0
}